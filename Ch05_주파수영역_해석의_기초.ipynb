{
  "nbformat": 4,
  "nbformat_minor": 0,
  "metadata": {
    "colab": {
      "provenance": [],
      "toc_visible": true,
      "include_colab_link": true
    },
    "kernelspec": {
      "name": "python3",
      "display_name": "Python 3"
    },
    "language_info": {
      "name": "python"
    }
  },
  "cells": [
    {
      "cell_type": "markdown",
      "metadata": {
        "id": "view-in-github",
        "colab_type": "text"
      },
      "source": [
        "<a href=\"https://colab.research.google.com/github/jwlee95/DSP_Class2025/blob/main/Ch05_%EC%A3%BC%ED%8C%8C%EC%88%98%EC%98%81%EC%97%AD_%ED%95%B4%EC%84%9D%EC%9D%98_%EA%B8%B0%EC%B4%88.ipynb\" target=\"_parent\"><img src=\"https://colab.research.google.com/assets/colab-badge.svg\" alt=\"Open In Colab\"/></a>"
      ]
    },
    {
      "cell_type": "markdown",
      "source": [
        "# CHAPTER 05: 주파수 영역 해석의 기초 (Fundamentals  of  Frequency  Domain  Analysis)"
      ],
      "metadata": {
        "id": "64scGaQAVwxK"
      }
    },
    {
      "cell_type": "markdown",
      "source": [
        "## 5.1 신호의 표현과 주파수"
      ],
      "metadata": {
        "id": "D8_Ja7smWAxF"
      }
    },
    {
      "cell_type": "markdown",
      "source": [
        "### (주파수) 스펙트럼  \n",
        "\n",
        "- (주파수) 스펙트럼  \n",
        "  - 신호가 지닌 진동 특성을 하나 하나의 성분별로 나누어 늘어놓은 것  \n",
        "  - 신호의 주파수 별 에너지 분포의 개념  \n",
        "  (예) 햇빛과 프리즘  \n",
        "     → 신호를 시간이 아닌 주파수의 관점에서 살펴보는 것이 매우 유용하다.  \n",
        "     → 신호를 보다 기본적인 신호들로 쪼갤 수 있다.  \n",
        "  (예) 같은 주기를 갖는 두 신호\n",
        "\n",
        "<center>\n",
        "<img src='https://drive.google.com/uc?export=download&id=1NMqauMTonNu_8naCpJDQ7YmtHqYmzdFY' width=\"600\" height =\"\" /><br>\n",
        "\n",
        "<img src='./images/그림5-1.png' width=\"600\" height =\"\" /><br>  \n"
      ],
      "metadata": {
        "id": "lZ-QZ2UiWGXf"
      }
    },
    {
      "cell_type": "markdown",
      "source": [
        "---\n",
        "### 신호의 표현   \n",
        "\n",
        "- 신호의 표현  \n",
        "  - 신호를 간단한 기본신호(basis)들의 일차 결합으로 표현할 수 있음  \n",
        "   → 신호의 표현을 구하는 것은 계수 𝒄_𝒊를 구하는 문제\n",
        "$$ x(t) = \\sum_i c_i \\psi_i (t)\n",
        "$$\n",
        "- 기본신호들은 다음의 성질을 갖는 것이 바람직함\n",
        "```\n",
        "    1) 형태가 단순하고, 신호의 표현을 구하기 쉬어야 한다.  \n",
        "    2) 다양하고 폭넓은 신호들을 표현할 수 있어야 한다.   \n",
        "    3) 표현된 신호에 대한 시스템의 응답을 편리하게 표기할 수 있어야 한다.  \n",
        "    4) 한 주파수에 대해 오직 하나의 기본 신호만 존재(일대일 대응)해야 한다.\n",
        "```"
      ],
      "metadata": {
        "id": "nOCOzgRAXAtb"
      }
    },
    {
      "cell_type": "markdown",
      "source": [
        "---\n",
        "### 정현파와 (주파수) 스펙트럼\n",
        "\n",
        "- 정현파와 (주파수) 스펙트럼  \n",
        "  - 정현파는 가장 바람직한 기본 신호의 하나임  \n",
        "   → 오직 하나의 주파수만 가짐(4번 성질)  \n",
        "   → 파형이 단순하고 직교성을 지님(1번 성질)  \n",
        "   → 푸리에 급수/변환에 의해 광범위한 신호들 표현 가능(2번 성질)  \n",
        "   → 정현파 입력에 대한 출력은 그 크기와 위상만 달라짐(3번 성질)  \n",
        "\n",
        "- **(주파수) 스펙트럼은 정현파를 주파수의 함수로 취급하여 주파수 축 상에 그 진폭과 위상을 나타낸 것**  \n",
        "$$ x(t) = A \\cos ( 2\\pi f_0 t + \\phi ) = A \\cos (\\omega_0 t + \\phi )  \\\\\n",
        "x(t) = \\frac{A}{2} e^{j \\phi } e^{j 2\\pi f_0 t} + \\frac{A}{2} e^{-j \\phi } e^{-j 2\\pi f_0 t}\n",
        "$$\n",
        "  \n"
      ],
      "metadata": {
        "id": "3mTrzrLfX3Hw"
      }
    },
    {
      "cell_type": "markdown",
      "source": [
        "<center>\n",
        "<img src='https://drive.google.com/uc?export=download&id=1NO0MC_AysedAsGfHIAKL_g0uLnpBdq3M' width=\"400\" height =\"\" /><br>\n",
        "\n",
        "<img src='./images/그림5-2.png' width=\"400\" height =\"\" /><br>  "
      ],
      "metadata": {
        "id": "6YFz5fwmYoak"
      }
    },
    {
      "cell_type": "markdown",
      "source": [
        "---\n",
        "<img src='https://drive.google.com/uc?export=download&id=1NPb5m9JS4YAh53HNlofUgRLcv8Tvc6H5' width=\"600\" height =\"\" /><br>   \n",
        "\n",
        "<img src='./images/EX5-1.png' width=\"600\" height =\"\" /><br>  \n",
        "\n"
      ],
      "metadata": {
        "id": "2M0CSV7AZEvD"
      }
    },
    {
      "cell_type": "code",
      "source": [
        "import numpy as np\n",
        "import matplotlib.pyplot as plt\n",
        "\n",
        "# 1. 신호 정의 및 시간 축 설정\n",
        "# 샘플링 주파수 (Hz). 신호의 최고 주파수(5Hz)보다 충분히 높게 설정 (새넌의 샘플링 정리)\n",
        "fs = 1000\n",
        "# 시간 벡터. 0초부터 2초까지 1/fs 간격으로 생성하여 2주기 이상을 관찰\n",
        "t = np.arange(0, 2, 1/fs)\n",
        "\n",
        "# 신호 x(t)의 각 성분 정의\n",
        "# x(t) = 2*cos(8*pi*t - 72도) + 4*cos(10*pi*t - 90도)\n",
        "# numpy의 삼각함수는 라디안을 사용하므로, 각도를 라디안으로 변환해야 함 (np.deg2rad)\n",
        "x1_t = 2 * np.cos(8 * np.pi * t - np.deg2rad(72))\n",
        "x2_t = 4 * np.cos(10 * np.pi * t - np.deg2rad(90))\n",
        "x_t = x1_t + x2_t\n",
        "\n",
        "# 2. 시간 영역(Time Domain) 신호 그리기\n",
        "plt.figure(figsize=(7, 4))\n",
        "plt.plot(t, x_t, label='x(t) = 2cos(8πt-72°) + 4cos(10πt-90°)')\n",
        "plt.title('Time Domain Signal x(t)')\n",
        "plt.xlabel('Time (s)')\n",
        "plt.ylabel('Amplitude')\n",
        "plt.grid(True)\n",
        "plt.legend()\n",
        "plt.show()\n",
        "\n",
        "# 3. 주파수 스펙트럼 계산 (FFT)\n",
        "# FFT(고속 푸리에 변환)를 수행하여 주파수 영역으로 변환\n",
        "N = len(x_t) # 샘플 개수\n",
        "X_f = np.fft.fft(x_t)\n",
        "\n",
        "# FFT 결과에 해당하는 주파수 축 생성\n",
        "freq = np.fft.fftfreq(N, 1/fs)\n",
        "\n",
        "# FFT 결과는 복소수이므로 크기(magnitude)와 위상(phase)을 계산\n",
        "# 크기는 원 신호 진폭에 맞춰주기 위해 샘플 개수(N)로 나눔\n",
        "magnitude = np.abs(X_f) / N\n",
        "phase = np.angle(X_f, deg=True) # 위상은 각도(degree)로 표현\n",
        "\n",
        "# 4. 주파수 스펙트럼(Frequency Spectrum) 그리기\n",
        "# 보기 좋게 0Hz를 중심으로 정렬 (음의 주파수와 양의 주파수를 대칭적으로 표시)\n",
        "freq_shifted = np.fft.fftshift(freq)\n",
        "magnitude_shifted = np.fft.fftshift(magnitude)\n",
        "phase_shifted = np.fft.fftshift(phase)\n",
        "\n",
        "# 그래프를 위아래로 2개 그리기 위한 설정\n",
        "fig, axs = plt.subplots(2, 1, figsize=(7, 4))\n",
        "\n",
        "# 크기 스펙트럼 (Magnitude Spectrum)\n",
        "# 이론적으로 특정 주파수에서만 값을 가지므로 stem plot이 적합\n",
        "axs[0].stem(freq_shifted, magnitude_shifted)\n",
        "axs[0].set_title('Frequency Spectrum (Magnitude)')\n",
        "axs[0].set_xlabel('Frequency (Hz)')\n",
        "axs[0].set_ylabel('Amplitude')\n",
        "axs[0].grid(True)\n",
        "# 주파수 성분이 명확히 보이는 -10Hz ~ 10Hz 범위만 표시\n",
        "axs[0].set_xlim(-10, 10)\n",
        "\n",
        "\n",
        "# 위상 스펙트럼 (Phase Spectrum)\n",
        "# 크기가 매우 작은(거의 0인) 주파수 영역의 위상은 의미가 없으므로,\n",
        "# 특정 크기(여기서는 0.1) 이상인 지점의 위상만 표시\n",
        "meaningful_phase_indices = magnitude_shifted > 0.1\n",
        "axs[1].stem(freq_shifted[meaningful_phase_indices], phase_shifted[meaningful_phase_indices])\n",
        "axs[1].set_title('Frequency Spectrum (Phase)')\n",
        "axs[1].set_xlabel('Frequency (Hz)')\n",
        "axs[1].set_ylabel('Phase (degrees)')\n",
        "axs[1].grid(True)\n",
        "axs[1].set_xlim(-10, 10) # 크기 스펙트럼과 x축 범위를 통일\n",
        "axs[1].set_ylim(-100, 100) # 위상 범위를 적절히 조절\n",
        "\n",
        "\n",
        "# 그래프 레이아웃 자동 조정\n",
        "plt.tight_layout()\n",
        "plt.show()"
      ],
      "metadata": {
        "colab": {
          "base_uri": "https://localhost:8080/",
          "height": 799
        },
        "id": "Fhk9WU-EzPGO",
        "outputId": "a967c21d-1f5f-409e-fe2e-ca2d4d7b14c7"
      },
      "execution_count": null,
      "outputs": [
        {
          "output_type": "display_data",
          "data": {
            "text/plain": [
              "<Figure size 700x400 with 1 Axes>"
            ],
            "image/png": "[encoded data removed]"
          },
          "metadata": {}
        },
        {
          "output_type": "display_data",
          "data": {
            "text/plain": [
              "<Figure size 700x400 with 2 Axes>"
            ],
            "image/png": "[encoded data removed]"
          },
          "metadata": {}
        }
      ]
    },
    {
      "cell_type": "markdown",
      "source": [
        "---\n",
        "## 5.2 푸리에 급수"
      ],
      "metadata": {
        "id": "UALWNSgpZiKC"
      }
    },
    {
      "cell_type": "markdown",
      "source": [
        "### 주기 신호와 푸리에 급수  \n",
        "\n",
        "- 푸리에 급수 : 주기 신호[$x(t) = x(t+T)$]에 대한 주파수 영역 표현  \n",
        "  - 주기 신호를 직교함수 기저((복소) 정현파)로 표현한 것  \n",
        "  → {$ \\sin k \\omega_0 t , \\cos k \\omega_0 t$}, {$ e^{j \\omega_0 t}$}에 의해 시간 신호를 주파수와 연관시킴\n",
        "\n",
        "  - 무한 급수 형태가 되므로 수렴 조건에 관한 고려가 반드시 필요함  \n",
        "  - 주기 신호는 같은 주기를 갖는 정현파(기본파)와 이 정현파의 정수배 주파수를 갖는 정현파(고조파)들의 합으로 표현 가능\n",
        "$$ \\begin{align}\n",
        "x(t) &= \\text{직류}(DC) + \\text{기본파}(\\cos \\text{항} + \\sin \\text{항}) + \\text{고조파들}(\\cos \\text{항} + \\sin \\text{항}) \\\\\n",
        "&= a_0 + \\sum_{k=1}^{\\infty} a_k \\cos k \\omega_0 t + \\sum_{k=1}^{\\infty} b_k \\sin k \\omega_0 t\n",
        "\\end{align}\n",
        "$$"
      ],
      "metadata": {
        "id": "XOfwmKwlZo2w"
      }
    },
    {
      "cell_type": "markdown",
      "source": [
        "<center>\n",
        "<img src='https://drive.google.com/uc?export=download&id=1NPj5e0CXhQ2qEPo4wkz6TEtwehjVqtdm' width=\"600\" height =\"\" /><br>\n",
        "\n",
        "<img src='./images/그림5-기본고조푸리에급수.png' width=\"600\" height =\"\" >\n",
        "\n",
        "<img src='https://drive.google.com/uc?export=download&id=12XsCFYkE2QoSYXuhp78O2nWZTpMMbaro' width=\"450\" height =\"\" /><br>\n",
        "\n",
        "<img src='./images/그림5-5.png' width=\"600\" height =\"\" >\n",
        "><br>  \n",
        "\n"
      ],
      "metadata": {
        "id": "YtpxIdzwbb_S"
      }
    },
    {
      "cell_type": "markdown",
      "source": [
        "---\n",
        "### 푸리에 급수의 세가지 표현\n",
        "\n",
        "- 푸리에 급수 표현  \n",
        "  ▶ 삼각함수형  \n",
        "$$\n",
        "x(t) = a_0 + \\sum_{k=1}^{\\infty} a_k \\cos k \\omega_0 t + \\sum_{k=1}^{\\infty} b_k \\sin k \\omega_0 t\n",
        "$$  \n",
        "\n",
        "  ▶ 간결형 삼각함수형  \n",
        "   - 삼각함수 합성을 이용하여 삼각함수형을 변형\n",
        "$$ \\begin{align}\n",
        "& a_k \\cos k \\omega_0 t + b_k \\sin k \\omega_0 t \\\\\n",
        " &= \\sqrt{a_k^2 + b_k^2} \\left( \\frac{a_k}{\\sqrt{a_k^2 + b_k^2}} \\cos k \\omega_0 t + \\frac{b_k}{\\sqrt{a_k^2 + b_k^2}} \\sin k \\omega_0 t  \\right) \\\\\n",
        " &= \\sqrt{a_k^2 + b_k^2} \\left(  \\cos(-\\phi_k) \\cos k \\omega_0 t + \\sin(-\\phi_k) \\sin k \\omega_0 t  \\right) \\\\\n",
        " &= c_k \\cos(k \\omega_0 t + \\phi_k )\n",
        "\\end{align}\n",
        "$$  \n",
        "$$\n",
        "x(t) = c_0 + \\sum_{k=1}^{\\infty} c_k \\cos ( k \\omega_0 t + \\phi_k ) \\;\\;\n",
        "\\left\\{\\begin{matrix}\n",
        "C_0 = a_0 \\\\\n",
        "c_k = \\sqrt{a_k^2 + b_k^2}, \\;\\; k=1,2,3, \\dots \\\\\n",
        "\\phi_k = - \\tan^{-1} \\frac{b_k}{a_k}, \\;\\; k=1,2,3, \\dots\n",
        "\\end{matrix}\\right.\n",
        "$$\n",
        "\n",
        " ▶ 지수함수형  \n",
        "  - Euler 공식을 이용, 삼각함수형의 삼각함수를 복소 지수함수로 치환\n",
        "$$ \\begin{align}\n",
        "x(t) &= a_0 + \\sum_{k=1}^{\\infty} ( a_k \\cos k \\omega_0 t + b_k \\sin k \\omega_0 t ) \\\\\n",
        "&= a_0 + \\sum_{k=1}^{\\infty} \\left( a_k \\frac{e^{jk\\omega_0 t} + e^{-jk\\omega_0 t}}{2} + b_k \\frac{e^{jk\\omega_0 t} - e^{-jk\\omega_0 t}}{2j} \\right)    \\tag{5.6}  \\\\\n",
        "&= a_0 + \\sum_{k=1}^{\\infty} \\left( \\frac{a_k - j b_k}{2} e^{jk\\omega_0 t}+  \\frac{a_k + j b_k}{2} e^{-jk\\omega_0 t}\\right) \\\\\n",
        "&= \\sum_{k=-\\infty}^{\\infty} X_k e^{jk\\omega_0 t}\n",
        "\\end{align}\n",
        "$$\n",
        "$$\n",
        "X_k = \\left\\{\\begin{matrix}\n",
        "& \\frac{1}{2} (a_k - jb_k), \\;\\; k \\gt 0 \\\\\n",
        "& a_0, \\;\\; k=0 \\\\\n",
        "& \\frac{1}{2} (a_k + jb_k), \\;\\; k \\lt 0\n",
        "\\end{matrix}\\right.  \\tag{5.7}\n",
        "$$"
      ],
      "metadata": {
        "id": "JYRnCghIcFy3"
      }
    },
    {
      "cell_type": "markdown",
      "source": [
        " $X_k$ 는 복소수, $X_k = X^*_{-k}$를 만족한다."
      ],
      "metadata": {
        "id": "xV04WEcmzhdz"
      }
    },
    {
      "cell_type": "markdown",
      "source": [
        "<center>\n",
        " <img src='https://drive.google.com/uc?export=download&id=1NUvsIQXFHQIaHOMm6XF3kZvTcrt_YS3f' width=\"800\" height =\"\" /><br>  \n",
        "\n",
        " <img src='./images/표5-1.png' width=\"700\" height =\"\" /><br>  \n",
        "\n",
        " </center>\n",
        " ---  \n",
        "\n",
        " - 식(5-6)의 양변에 $e^{j m \\omega_0 t}$와 내적을 취하여 정리하면...\n",
        " $$\n",
        "X_m = \\frac{1}{T} \\int^{T}_{0} x(t) e^{-jm\\omega_0 t} dt  \\tag{5.12}\n",
        " $$"
      ],
      "metadata": {
        "id": "hOyq2vVllJxw"
      }
    },
    {
      "cell_type": "markdown",
      "source": [
        "---\n",
        "### 푸리에 급수의 수렴 조건  \n",
        "\n",
        "- 푸리에 급수의 수렴 조건 ⇒ Dirichlet 조건  \n",
        "\n",
        " <img src='https://drive.google.com/uc?export=download&id=1NVgWu-2fuc8NgK6et2_HD4J-2h0X9q0W' width=\"600\" height =\"\" /><br>"
      ],
      "metadata": {
        "id": "9rZGy3DElemO"
      }
    },
    {
      "cell_type": "markdown",
      "source": [
        "---\n",
        "<img src='https://drive.google.com/uc?export=download&id=1NWDw-3dUgoK258PG1igS9si94HHc9ru1' width=\"600\" height =\"\" /><br>  \n",
        "\n",
        "<img src='./images/EX5-2.png' width=\"600\" height =\"\" /><br>  "
      ],
      "metadata": {
        "id": "cOIIH-ddNvi9"
      }
    },
    {
      "cell_type": "markdown",
      "source": [
        "---\n",
        "### 푸리에 급수와 스펙트럼  \n",
        "\n",
        "- 푸리에 급수와 스펙트럼  \n",
        "  - 주기 신호의 진폭과 위상에 관한 주파수 정보를 표현   \n",
        "  - 진폭스펙트럼 : 주파수 $\\omega$에 대해 진폭($c_k$ 또는 $|X_k|$)을 표시한 그래프    \n",
        "  - 위상스펙트럼 : 주파수 $\\omega$에 대해 위상($\\theta_k$ 또는 $ \\angle X_k$)을 표시한 그래프  \n",
        "  - 주파수 분해 : 푸리에 급수에 의해 시간 신호로부터 스펙트럼을 구하는 과정   \n",
        "  - 주파수 합성 : 스펙트럼으로부터 푸리에 급수에 의해 정현파들을 합하여 주기 신호 를 만들어내는(복원하는) 과정\n",
        "\n",
        "<center>\n",
        "<img src='https://drive.google.com/uc?export=download&id=1NXceZsuBl5bA-vdADq8O4UiVq9-cs8MO' width=\"700\" height =\"\" /><br>\n",
        "\n",
        "<img src='./images/그림5-7.png' width=\"700\" height =\"\" /><br>  \n",
        "\n",
        "</center>"
      ],
      "metadata": {
        "id": "MTNhVtLrfnSn"
      }
    },
    {
      "cell_type": "markdown",
      "source": [
        "---\n",
        "<img src='https://drive.google.com/uc?export=download&id=1NZBcIN5sQGbbT67PjSHrEudMaeHeIEA-' width=\"700\" height =\"\" /><br>   \n",
        "\n",
        "<img src='./images/EX5-3.png' width=\"700\" height =\"\" /><br>  \n",
        "\n",
        "---"
      ],
      "metadata": {
        "id": "NVHW9h5sOu6A"
      }
    },
    {
      "cell_type": "markdown",
      "source": [
        "- 진폭스펙트럼의 의미와 역할  \n",
        "  - 신호가 갖는 다양한 주파수 성분의 양(정현파의 진폭)을 표시  \n",
        "  - 파형의 시간적 변화가 완만한 신호는 진폭 스펙트럼의 감쇠가 급격함   \n",
        "  → 고조파의 기여도가 약함  \n",
        "  → 조파합성시 적은 개수의 항만으로도 충분히 근사화됨  \n",
        "  - 시간적으로 급격히 변화하는 신호는 진폭 스펙트럼의 감쇠가 완만함    \n",
        "   → 고조파의 기여도가 큼  \n",
        "   → 조파합성시 많은 개수의 항을 이용해야만 충분히 근사화됨  \n",
        "  - 신호의 m차 도함수가 처음으로 불연속  \n",
        "   → 진폭 스펙트럼은 적어도 $\\frac{1}{k^{m+1}}$비율로 감쇠\n"
      ],
      "metadata": {
        "id": "BZp4YyVMPJm-"
      }
    },
    {
      "cell_type": "markdown",
      "source": [
        "---  \n",
        "\n",
        "  - Gibbs 현상  \n",
        "    - 조파합성시 고조파의 수를 아무리 늘려도 불연속점 근처에서 항상 불연속 크기의 약 9%의 오버슈트가 생기며, 고조파 수에 비례하여 진동도 더 빨라지는 현상\n",
        "\n",
        "<center>\n",
        "\n",
        "<img src='https://drive.google.com/uc?export=download&id=1NglaRYjdRaI5-GRYZyuGvBiaJ_Q9gy4d' width=\"400\" height =\"\" /><br>\n",
        "\n",
        "<img src='./images/그림5-10.png' width=\"400\" height =\"\" /><br>  "
      ],
      "metadata": {
        "id": "12sx_KJ4eTQM"
      }
    },
    {
      "cell_type": "markdown",
      "source": [
        "- 위상스펙트럼의 역할  \n",
        "  - 진폭스펙트럼이 같아도 위상스펙트럼이 달라지면 신호 파형이 달라짐    \n",
        "  - 모든 주파수 성분이 시간축상을 같은 시간 간격으로 이동해야만 신호의 파형이 그대로 유지됨  \n",
        "  → 각 고조파가 주파수에 비례하는 위상각만큼 달라지면 됨(선형위상)  \n",
        "  - 점프 불연속점과 같은 급격한 변화가 있는 신호의 경우 불연속점에서 모든 고조파 성분이 동일한 부호 변화를 보이며 0점을 통과하도록 위상이 일치해야 함  \n",
        "\n",
        "- 위상스펙트럼의 영향  \n",
        "\n",
        "<center>\n",
        "\n",
        "<img src='https://drive.google.com/uc?export=download&id=1NhkhfN8iXR_q7J1s9dSk0v0DUpvBAj4P' width=\"500\" height =\"\" /><br>  \n",
        "\n",
        "<img src='./images/그림5-11.png' width=\"500\" height =\"\" /><br>  \n",
        "\n",
        "\n",
        "<img src='https://drive.google.com/uc?export=download&id=1NhVU4ALpUVJd3MV6rYaRnzKBouBgeGpo' width=\"600\" height =\"\" /><br>\n",
        "\n",
        " <img src='./images/그림5-12.png' width=\"600\" height =\"\" /><br>  "
      ],
      "metadata": {
        "id": "BUGj6zSXQfMX"
      }
    },
    {
      "cell_type": "markdown",
      "source": [
        "---\n",
        "\n",
        " <img src='https://drive.google.com/uc?export=download&id=1NiYhL7uWQ9mThiobzWX2NygPNP5xhyaP' width=\"600\" height =\"\" /><br>\n",
        "\n",
        " <img src='./images/EX5-4.png' width=\"600\" height =\"\" /><br>  \n",
        "\n",
        "---"
      ],
      "metadata": {
        "id": "Gn8Qn2ksQsuW"
      }
    },
    {
      "cell_type": "markdown",
      "source": [
        "### 푸리에 급수의 주요 성질  \n",
        "\n",
        "- 신호를 시간 축에 대해 상하 이동시킬 경우(DC 오프셋의 변화)\n",
        "  - DC 항만 달라짐 & 기본파 및 고조파의 진폭 및 위상은 불변\n",
        "$$ x' (t) = x(t) + \\alpha = \\alpha + c_0 + \\sum_{k=1}^{\\infty} c_k \\cos ( k\\omega_0 t + \\phi_k )\n",
        "$$  \n",
        "- 신호를 시간 축에 대해 좌우 이동시킬 경우 (시간 선행 또는 시간 지연)  \n",
        "  - 진폭 스펙트럼은 불변 & 위상 스펙트럼은 시간이동 값에 비례해 변화  \n",
        "$$\n",
        "\\begin{align}\n",
        "x' (t) = x(t-t_0)  &= c_0 + \\sum_{k=1}^{\\infty} c_k \\cos ( k\\omega_0 (t-t_0 ) + \\phi_k ) \\\\\n",
        "&= c_0 + \\sum_{k=1}^{\\infty} c_k \\cos ( k\\omega_0 t + \\phi_k - k\\omega_0 t_0 )\n",
        "\\end{align}\n",
        "$$"
      ],
      "metadata": {
        "id": "lsY0OfTV2u6U"
      }
    },
    {
      "cell_type": "markdown",
      "source": [
        "- $a$만큼 진폭이동(상하 이동)된 신호 $y(t) = x(t) + a$ 의 푸리에 급수\n",
        "$$\n",
        "y(t) = x(t) + a = \\sum_{k= - \\infty}^{\\infty} Y_k e^{jk\\omega_0 t}\n",
        " = \\sum_{k= - \\infty}^{-1} X_k e^{jk\\omega_0 t} + X_0 + a\n",
        "   + \\sum_{k=1}^{\\infty} X_k e^{jk\\omega_0 t}\n",
        "$$\n",
        "\n",
        "- $t_0$만큼 시간 이동(좌우 이동)된 신호 $y(t)=x(t-t_0 )$의 푸리에 급수   \n",
        "$$\n",
        "y(t) = x(t - t_0 ) = \\sum_{k= - \\infty}^{\\infty} Y_k e^{jk\\omega_0 t}\n",
        " = \\sum_{k= - \\infty}^{-1} X_k e^{jk\\omega_0 (t - t_0 )}\n",
        " = \\sum_{k= - \\infty}^{-1} X_k e^{-jk\\omega_0 t_0 }  e^{jk\\omega_0 t}\n",
        "$$\n",
        "\n",
        "- 즉, $Y_k = e^{-jk\\omega_0 t_0 } X_k$이므로 $|Y_k|=|X_k|, \\; \\angle Y_k = \\angle X_k - k\\omega_0 t_0 $가 된다."
      ],
      "metadata": {
        "id": "RLMgdBXD0Zsr"
      }
    },
    {
      "cell_type": "markdown",
      "source": [
        "---\n",
        "- 파스발(`Parseval's theorem`) 정리  \n",
        "  - 시간영역에서 구한 신호 전력 = 주파수영역에서 구한 신호 전력    \n",
        "  - 푸리에 급수에서 서로 다른 주파수 성분 간에는 전력을 만들지 않는다!  \n",
        "$$\n",
        "\\begin{align}\n",
        "P  &= \\frac{1}{T} \\int_T |x(t)|^2 \\;dt = \\frac{1}{T} \\int_T \\left|\n",
        "\\sum_{k=-\\infty}^{\\infty} X_k e^{jk\\omega_0 t}  \\right|^2 \\; dt  \\\\\n",
        "&= \\frac{1}{T} \\int_T \\left( \\sum_{k=-\\infty}^{\\infty} X_k e^{jk\\omega_0 t}  \\right)   \n",
        "\\left( \\sum_{m=-\\infty}^{\\infty} X^{\\ast}_m e^{-jm\\omega_0 t}  \\right) \\; dt \\\\\n",
        "&= \\frac{1}{T} \\sum_{k=-\\infty}^{\\infty} \\int_T \\left( \\sum_{m=-\\infty}^{\\infty} X_k X_m^*  e^{jk\\omega_0 t} e^{-m\\omega_0 t} \\right) \\; dt  \\\\\n",
        "&= \\frac{1}{T} \\sum_{k=-\\infty}^{\\infty} X_k X_k^* T =  \\sum_{k=-\\infty}^{\\infty} |X_k |^2  \\tag{5.17}\n",
        "\\end{align}\n",
        "$$"
      ],
      "metadata": {
        "id": "viFZ3A_C36Eb"
      }
    },
    {
      "cell_type": "markdown",
      "source": [
        "그런데, $X_{-k}= X^*_k$로 부터 $|X_{-k}|= |X_k|$이고, 간결형 삼각함수 푸리에 급수의 표현식(식 5-8)로 부터, k고조파 cos의 진폭 $c_k = 2 |X_k|$,    \n",
        "실효값 $\\bar{c_k} = \\sqrt{2} |X_k|$ (단, $c_0 = \\bar{c_0} = X_0 )$이므로, (5-16)은 다음과 같이 쓸 수 있다."
      ],
      "metadata": {
        "id": "r3XJK4Hyfbhh"
      }
    },
    {
      "cell_type": "markdown",
      "source": [
        "$$\n",
        "P =  \\sum_{k=-\\infty}^{\\infty} | X_k |^2 = |X_0|^2 + \\sum_{k=1}^{\\infty} 2| X_k |^2   \\tag{5.18}\n",
        "$$"
      ],
      "metadata": {
        "id": "CBS3N3PphGHi"
      }
    },
    {
      "cell_type": "markdown",
      "source": [
        "$$\n",
        "P =  c_0^2 + \\sum_{k=1}^{\\infty} \\left( \\frac{c_k}{ \\sqrt{2}} \\right)^2  \n",
        "   = \\sum_{k=0}^{\\infty} \\bar{c_k}^{2} =  \\sum_{k=0}^{\\infty} P_k  \\tag{5.19}\n",
        "$$"
      ],
      "metadata": {
        "id": "MprWdugZfZLS"
      }
    },
    {
      "cell_type": "markdown",
      "source": [
        "---\n",
        "<img src='https://drive.google.com/uc?export=download&id=1NjOPcCnvrzPyxkiwStzXUXWyR0vyOl7b' width=\"700\" height =\"\" /><br>   \n",
        "\n",
        "<img src='./images/EX5-5.png' width=\"700\" height =\"\" /><br>  \n",
        "\n",
        "---\n"
      ],
      "metadata": {
        "id": "9M7ktTfd73VO"
      }
    },
    {
      "cell_type": "markdown",
      "source": [
        "## 5.3 푸리에 변환"
      ],
      "metadata": {
        "id": "IW76fBmLE5fg"
      }
    },
    {
      "cell_type": "markdown",
      "source": [
        "### 푸리에 변환의 개요  \n",
        "\n",
        "- 푸리에 변환 : 비주기 신호에 대한 주파수 영역 표현  \n",
        "  - 비주기 신호를 주기 $T = \\infty$인 주기 신호로 취급 → 푸리에 급수 확장\n",
        "$$ x(t) = \\lim_{T \\rightarrow \\infty} x_T (t)\n",
        "$$  \n",
        "  - 주기 𝑻 가 커질수록 스펙트럼은 소밀해짐 → 𝑻=∞ 면 연속 파형이 됨      \n",
        "  ⇒ 푸리에 표현은 급수 전개에서 적분 형태로 바뀜 → ***푸리에 변환***\n",
        "\n",
        "\n"
      ],
      "metadata": {
        "id": "86CWc9QS5dom"
      }
    },
    {
      "cell_type": "markdown",
      "source": [
        "<center>\n",
        "<img src='https://drive.google.com/uc?export=download&id=1NlgvDVtFSoFv2WIwU-CIWpWttdo8K5Lp' width=\"600\" height =\"\" /><br>  \n",
        "\n",
        "<img src='./images/그림5-14.png' width=\"600\" height =\"\" /><br>  \n",
        "\n",
        "<img src='https://drive.google.com/uc?export=download&id=1NkSZVTH6_1oSYkKrrfU-qXbL2XeuFOIr' width=\"600\" height =\"\" /><br>\n",
        "\n",
        "<img src='./images/그림5-14-1.png' width=\"600\" height =\"\" /><br>  "
      ],
      "metadata": {
        "id": "4ITXTkeZ9Ba-"
      }
    },
    {
      "cell_type": "markdown",
      "source": [
        "---\n",
        "- 푸리에 변환의 유도  \n",
        "  - 주기 신호의 푸리에 급수 전개에서 Fourier계수 식(5-12)을 이용하여, Fourier series 식(5.6)을 다시 정리하면\n",
        "$$ x(t) = \\sum_{k=-\\infty}^{\\infty} X_k e^{jk\\omega_0 t} =\n",
        "\\sum_{k=-\\infty}^{\\infty} \\left(  \\frac{\\omega_0}{2\\pi} \\int_{ -T/2}^{T/2} x(t) e^{ -jk\\omega_0 t} \\; dt  \\right) e^{ jk\\omega_0 t}\n",
        " \\tag{5.20}\n",
        "$$  \n",
        "- 여기서 $\\dfrac{\\omega_0}{2\\pi}$ 은 $\\dfrac{1}{T}$을 의미함.\n",
        "\n",
        "\n",
        "  - $T \\rightarrow \\infty, \\; \\omega_0 \\rightarrow d\\omega, \\; n\\omega_0 \\rightarrow \\omega,\\; \\sum \\rightarrow \\int$로 치환하면\n",
        "$$ \\begin{align}\n",
        "x(t) &= \\int_{-\\infty}^{\\infty} \\left[  \\frac{d\\omega}{2\\pi} \\int_{ -\\infty}^{\\infty} x(t) e^{ -j\\omega t} \\; dt  \\right] e^{ j\\omega t} \\\\\n",
        "&=  \\frac{1}{2\\pi} \\int_{-\\infty}^{\\infty} \\left[  \\int_{ -\\infty}^{\\infty} x(t) e^{ -j\\omega t} \\; dt  \\right] e^{ j\\omega t} \\; d\\omega   \\tag{5.21}\n",
        "\\end{align}\n",
        "$$\n",
        "   \n"
      ],
      "metadata": {
        "id": "cZceZNxk9wvs"
      }
    },
    {
      "cell_type": "markdown",
      "source": [
        "- 푸리에 변환의 정의\n",
        "  - 비주기 신호를 연속적인 주파수를 갖는 복소 정현파 $e^{j\\omega t}$의 성분별로 표시한 것\n",
        "\n",
        "   푸리에 변환 (FT : Fourier Transform):\n",
        "   $$\n",
        "   X(\\omega) = \\mathfrak{F} \\{ x(t) \\} =  \\int_{-\\infty}^{\\infty} x(t) e^{-j\\omega t} \\; dt  \\tag{5.22}\n",
        "   $$\n",
        "   \n",
        "   역 푸리에 변환 ( IFT : Inverse Fourier Transform):\n",
        "   $$ x(t) = \\mathfrak{F}^{-1} \\{ X(\\omega) \\}  = \\frac{1}{2\\pi} \\int_{-\\infty}^{\\infty} X(\\omega) e^{j\\omega t} \\; d\\omega  \\tag{5.23}\n",
        "   $$\n",
        "\n"
      ],
      "metadata": {
        "id": "3AxNEnebAKZj"
      }
    },
    {
      "cell_type": "markdown",
      "source": [
        "- 푸리에 변환의 수렴조건  \n",
        "  - 비주기 신호 대상이므로 Dirichlet 조건에서 주기성이 삭제되어 바뀜  \n",
        " <img src='https://drive.google.com/uc?export=download&id=1Nq3NKvZlZx9iO_O-uJwGcdDbAy_-BLXC' width=\"500\" height =\"\" /><br>    $\\tag{5.24}$   \n",
        "<img src='./images/그림5-Dirichlet조건.png' width=\"500\" height =\"\" /><br>  \n",
        "\n",
        "  - 에너지 신호는 푸리에 변환의 수렴 조건 만족함  \n",
        "  - 전력신호(예 : 계단신호, 주기신호)는 푸리에 변환 수렴 조건 만족 않음      \n",
        "     → 특별히 푸리에 변환이 존재하는 것으로 취급  \n",
        "     → **전력 신호의 푸리에 변환은 주파수 영역에서 임펄스 함수를 포함**  \n"
      ],
      "metadata": {
        "id": "vkz01TdSA3Wp"
      }
    },
    {
      "cell_type": "markdown",
      "source": [
        "- 그림5-18 \"신호의 시간 영역 및 주파수 영역 표현과 변환\" 참조...\n",
        "---\n",
        "- [2판] 예제 5-9: 임펄스로 표현되는 시간 신호 및 스펙트럼의 Fourier transform pair...   \n",
        "$$\n",
        "\\delta(t) \\Leftrightarrow 1 \\\\\n",
        "1 \\Leftrightarrow  2\\pi \\delta(\\omega)\n",
        "$$\n",
        "\n",
        "<img src='https://drive.google.com/uc?export=download&id=1NtANSTogg0hTiURvIC_6rX-pg45kz7CI' width=\"700\" height =\"\" /><br>    \n",
        "\n",
        "<img src='./images/EX5-6.png' width=\"700\" height =\"\" /><br>  \n",
        "\n",
        "\n",
        "- [2판] 예제 5-10: 정현파 신호의 Fourier transform pair...   \n",
        "\n",
        "- [2판] 예제 5-11: 실수지수 신호의 Fourier transform pair...   \n",
        "실수지수 신호 $x(t) = e^{-at} u(t)$\n",
        "$$\n",
        "\\begin{align}\n",
        "X(\\omega) &= \\int^{\\infty}_{0} e^{-at} e^{-j\\omega t} = - \\dfrac{1}{a+j\\omega} e^{-(a+j\\omega) t} |^{\\infty}_{0} =  \\dfrac{1}{a+j\\omega} \\\\\n",
        "&= \\dfrac{a}{a^2 + \\omega^2} - j \\dfrac{\\omega}{a^2 + \\omega^2} = \\dfrac{1}{ \\sqrt{a^2 + \\omega^2}} e^{j \\angle{ -\\tan^{-1} \\frac{\\omega}{a}} }\n",
        "\\end{align}\n",
        "$$\n",
        "\n",
        "\n",
        "$$\n",
        "e^{-at} u(t) \\Leftrightarrow  \\dfrac{1}{a+j\\omega}   \\tag{5.29}\n",
        "$$\n",
        "\n",
        "<img src='https://drive.google.com/uc?export=download&id=1Nw3c0meZjyEgSEwidmKQAaoDtQdOxwqC' width=\"700\" height =\"\" /><br>   \n",
        "\n",
        "<img src='./images/EX5-7.png' width=\"700\" height =\"\" /><br>  \n",
        "\n",
        "---"
      ],
      "metadata": {
        "id": "jVXD2g1uBeFh"
      }
    },
    {
      "cell_type": "markdown",
      "source": [
        "### 5.3.3 주기 신호의 푸리에 변환  \n",
        "\n",
        "- 주기 신호의 푸리에 변환  \n",
        "  - $X_k$는 $X( \\omega )$를 $\\frac{1}{T}$배하여 고조파 수파수 에서 샘플링한 값을 의미함.  \n",
        "  - $X_T (\\omega )$는 $X( \\omega )$를 $\\omega_0$배하여 고조파 수파수 에서 임펄스 샘플링한 것을 의미함.   \n",
        "$$\n",
        "x_T (t) = \\sum_{k=-\\infty}^{\\infty} X_k e^{jk\\omega_0 t}  \\tag{5.30}\n",
        "$$\n",
        "\n",
        "$$ \\begin{align}\n",
        "X_T (\\omega ) &= \\int_{-\\infty}^{\\infty} x_T (t) e^{-j\\omega t} \\; dt =\n",
        "    \\int_{-\\infty}^{\\infty} \\left( \\sum_{k=-\\infty}^{\\infty} X_k e^{jk\\omega_0 t}  \\right)  e^{-j\\omega t} \\; dt \\\\\n",
        "    &= \\sum_{k=-\\infty}^{\\infty} X_k \\int_{-\\infty}^{\\infty} ( e^{jk\\omega_0 t} ) e^{-j\\omega t} \\; dt  \\\\\n",
        "    &=  2\\pi \\sum_{k=-\\infty}^{\\infty} X_k \\delta (\\omega - k\\omega_0 )   \\tag{5.31}\n",
        "\\end{align}\n",
        "$$\n",
        "$$\n",
        "X(\\omega) = \\int_{-\\infty}^{\\infty} x(t) e^{-j\\omega t} \\; dt  \\tag{5.32}\n",
        "$$\n",
        "  - 그런데  \n",
        "$$     x(t) = \\left\\{\\begin{matrix}\n",
        "x_T (t) , \\;\\; -T/2 \\le t \\le T/2 \\\\\n",
        "0 , \\;\\; \\text{그 외.}\n",
        "\\end{matrix}\\right.\n",
        "$$  이므로 주기 신호의 푸리에 계수 $X_k$는 다음과 같이 된다.\n",
        "$$ X_k = \\frac{1}{T} \\int_T x_T (t) e^{-jk\\omega_0 t} \\; dt\n",
        "   = \\frac{1}{T} \\int_{-\\infty}^{\\infty} x(t) e^{-jk\\omega_0 t} \\; dt = \\frac{1}{T}X(k\\omega_0 )  \\tag{5.33}\n",
        "$$\n",
        "\n",
        "$x_T (t)$의 푸리에 변환 $X_T (\\omega)$는 식(5.31)과 식(5.33)으로부터 다음과 같이 된다.\n",
        "\n",
        "$$   \n",
        "X_T (\\omega ) = \\frac{2\\pi}{T} \\sum_{k=-\\infty}^{\\infty} X(k\\omega_0 ) \\delta (\\omega - k\\omega_0 ) = \\omega_0 \\sum_{k=-\\infty}^{\\infty} X(k\\omega_0 ) \\delta (\\omega - k\\omega_0 )   \\tag{5.34}\n",
        "$$  \n",
        "\n",
        "  \n",
        " ⇒ 주기 신호 스펙트럼 : 비주기 신호의 스펙트럼을 샘플링한 이산 함수 선스펙트럼의 간격은 기본 주파수 $\\omega_0$임   \n",
        "\n",
        " **⇒ 주의: 주기 신호의 스펙트럼은 기본 주파수의 정수 배인 $k\\omega_0$에서만 존재하는 불연속적인 이산 함수이다.**\n",
        "\n",
        "\n",
        "\n",
        "\n",
        "\n",
        "\n",
        "\n",
        "\n"
      ],
      "metadata": {
        "id": "ghcYgT-YEpYy"
      }
    },
    {
      "cell_type": "markdown",
      "source": [
        "---\n",
        "### 5.3.4 푸리에 변환의 성질  \n",
        "\n",
        "- 시간-주파수 쌍대성  \n",
        "  - 변환과 역변환 연산의 수식 구조가 동일  \n",
        "   → 시간 변수와 주파수 변수를 서로 바꾸어도 변환쌍 관계가 유효함  \n",
        "\n",
        "$$ x(t) \\Leftrightarrow X(\\omega) \\rightarrow X(t) \\Leftrightarrow 2\\pi x(-\\omega) \\tag{5.35}\n",
        "$$\n",
        "\n",
        "  - 푸리에 변환쌍에 $ \\omega \\rightarrow t,\\; t \\rightarrow -\\omega$로 치환하면\n",
        "$$ X (t) = \\int_{-\\infty}^{\\infty} x(-\\omega) e^{-jt(-\\omega)} \\; (-d\\omega )  = \\int_{-\\infty}^{\\infty} x(-\\omega) e^{j\\omega t} \\; d\\omega \\tag{5.36}\n",
        "$$\n",
        "\n",
        "$$\n",
        "x (-\\omega) = \\frac{1}{2\\pi} \\int_{-\\infty}^{\\infty} X(t) e^{jt(-\\omega)} \\; dt  = \\frac{1}{2\\pi} \\int_{-\\infty}^{\\infty} X(t) e^{-j\\omega t} \\; dt   \\tag{5.37}\n",
        "$$\n",
        "\n"
      ],
      "metadata": {
        "id": "Evd0R_GTnNI_"
      }
    },
    {
      "cell_type": "markdown",
      "source": [
        "---\n",
        "[2판] 예제 5-9: 임펄스로 표현되는 시간 신호 및 Fourier transform pair...\n",
        "\n",
        "\n",
        "<img src='https://drive.google.com/uc?export=download&id=1NwSkxdlXiwXIHOZjCwZQy-MOtN0XpFR_' width=\"650\" height =\"\" /><br>\n",
        "\n",
        "<img src='./images/EX5-8.png' width=\"650\" height =\"\" /><br>  \n",
        "---"
      ],
      "metadata": {
        "id": "KaUASjy-p5Kf"
      }
    },
    {
      "cell_type": "markdown",
      "source": [
        "---\n",
        "#### 변조(Modulation)\n",
        "- 진폭 변조(Amplitude modulation)    \n",
        "  - 신호 $x(t)$)에 정현파 $ \\cos \\omega_0$를 곱하여 정현파의 진폭을 변조                   \n",
        "   → 신호의 주파수 대역 이동에 사용\n",
        "$$ \\begin{align}\n",
        "\\mathfrak{F} \\{ x(t) \\cos \\omega_0 t \\} &= \\frac{1}{2} \\int_{-\\infty}^{\\infty} \\left[  x(t) ( e^{j\\omega_0 t} + e^{-j\\omega_0 t} )\\right] e^{-j\\omega t} \\; dt \\\\\n",
        "&= \\frac{1}{2} \\left( \\int_{-\\infty}^{\\infty}  x(t) ( e^{-j(\\omega - \\omega_0) t}\\; dt +  \\int_{-\\infty}^{\\infty}  x(t) ( e^{-j(\\omega + \\omega_0) t}\\; dt  \\right)  \\tag{5.40} \\\\\n",
        "&= \\frac{1}{2} \\left( X(\\omega - \\omega_0 ) + X(\\omega + \\omega_0 )    \\right)\n",
        "\\end{align}\n",
        "$$\n"
      ],
      "metadata": {
        "id": "y_ofzxreqWFI"
      }
    },
    {
      "cell_type": "markdown",
      "source": [
        "<center>\n",
        "<img src='https://drive.google.com/uc?export=download&id=1NxXvLlNuZJXNEVyYsd7MnOiRGR5-m09e' width=\"700\" height =\"\" /><br>   \n",
        "\n",
        "<img src='./images/그림5-16.png' width=\"700\" height =\"\" /><br>  \n",
        "\n",
        "</center>\n",
        "---"
      ],
      "metadata": {
        "id": "g4xESoVKHPzi"
      }
    },
    {
      "cell_type": "markdown",
      "source": [
        "\n",
        "<center>\n",
        "\n",
        "<img src='https://drive.google.com/uc?export=download&id=1O5hCj2FlbOtHni7djjlWA6Zn_IusSMcE' width=\"650\" height =\"\" /><br>  \n",
        "\n",
        "<img src='./images/표5-2.png' width=\"650\" height =\"\" /><br>  "
      ],
      "metadata": {
        "id": "64N8iGkPuDsX"
      }
    },
    {
      "cell_type": "markdown",
      "source": [
        "<center>\n",
        "\n",
        "<img src='https://drive.google.com/uc?export=download&id=1OHnihN7yAmNTcWtb3siL4DdUEvPIwRcQ' width=\"650\" height =\"\" /><br>\n",
        "\n",
        "<img src='./images/표5-2-1.png' width=\"650\" height =\"\" /><br>  "
      ],
      "metadata": {
        "id": "IRbcHSvduvah"
      }
    },
    {
      "cell_type": "markdown",
      "source": [
        "---  \n",
        "[예제 5-13] 푸리에 변환(FT)의 성질을 이용한 푸리에변환...\n",
        "\n",
        "<img src='https://drive.google.com/uc?export=download&id=1OJVEboAh5p2dy2D8OxUiRtmw_Epl0ipt' width=\"600\" height =\"\" /><br>  \n",
        "\n",
        "\n",
        "<img src='./images/EX5-10.png' width=\"600\" height =\"\" /><br>  "
      ],
      "metadata": {
        "id": "J_Vqr3EUu3JY"
      }
    },
    {
      "cell_type": "markdown",
      "source": [
        "> `참고` : 싱크함수(sinc function)는 사인함수와 그 변수의 비로 나타내어지는 함수로 $sinc(x)$ 로 나타낸다. 크게 정규화가 되었는지 유무를 기준으로 하는 두 가지 정의가 있는데, 디지털 신호처리나 정보이론에서는 정규화된 싱크함수(Normalized Sinc Function를 다음과 같이 정의하여 사용한다.\n",
        "$$ \\mathrm {sinc} (x)={\\dfrac {\\sin(\\pi x)}{\\pi x}}.$$\n",
        "이것을 정규화되었다고 하는데, 이 함수의 푸리에 변환이 구형함수(Rectangular Function)이고 그 적분값이 동일하기 때문이다.  \n",
        "수학에서는, 비정규화된 싱크함수(Unnormalized Sinc Function)를 다음과 같이 정의하여 사용한다.\n",
        "$$ \\mathrm {Sa} (x)={\\frac {\\sin(x)}{x}}. $$"
      ],
      "metadata": {
        "id": "SXjOM01_ze40"
      }
    },
    {
      "cell_type": "markdown",
      "source": [
        "---\n",
        "## Q&A  "
      ],
      "metadata": {
        "id": "5aSH63p9vcRe"
      }
    }
  ]
}