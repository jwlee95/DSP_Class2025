{
  "cells": [
    {
      "cell_type": "markdown",
      "metadata": {
        "id": "view-in-github",
        "colab_type": "text"
      },
      "source": [
        "<a href=\"https://colab.research.google.com/github/jwlee95/DSP_Class2025/blob/main/Ch03_%E1%84%8B%E1%85%B5%E1%84%89%E1%85%A1%E1%86%AB_%E1%84%89%E1%85%B5%E1%84%89%E1%85%B3%E1%84%90%E1%85%A6%E1%86%B7%E1%84%8B%E1%85%B4_%E1%84%89%E1%85%B5%E1%84%80%E1%85%A1%E1%86%AB_%E1%84%8B%E1%85%A7%E1%86%BC%E1%84%8B%E1%85%A7%E1%86%A8.ipynb\" target=\"_parent\"><img src=\"https://colab.research.google.com/assets/colab-badge.svg\" alt=\"Open In Colab\"/></a>"
      ]
    },
    {
      "cell_type": "markdown",
      "metadata": {
        "id": "4ENB_O8TfCjL"
      },
      "source": [
        "# Chapter 3: 이산 시스템의 시간 영역 (Time Domain Analysis of Discrete systems )"
      ]
    },
    {
      "cell_type": "markdown",
      "metadata": {
        "id": "EXAhbGLUfOVa"
      },
      "source": [
        "## 3.1 시스템의 임펄스 응답"
      ]
    },
    {
      "cell_type": "markdown",
      "metadata": {
        "id": "9CbjEf7zfZ9g"
      },
      "source": [
        "### 3.1.1 시간영역 해석 과 시스템 응답  \n",
        "\n",
        "- 이산 시스템의 시간 영역 해석  \n",
        "  - 입/출력 신호를 시간 함수로 표현하여 시스템의 표현식을 구하고, 이를 이용하여 시스템의 특성을 해석하는 것  \n",
        "  - 시스템 입출력 관계  \n",
        "    : 차분 방정식 또는 컨벌루션 합의 형태로 표현됨  \n",
        "\n",
        "\n",
        "\n"
      ]
    },
    {
      "cell_type": "markdown",
      "metadata": {
        "id": "hS8bOTSmf3D6"
      },
      "source": [
        "---\n",
        "#### 고유 응답과 강제 응답    \n",
        "\n",
        "- 고유응답 ( Natural Reponse )  \n",
        "  - 시스템 자체의 고유한 특성을 반영하는 응답  \n",
        "  - 시스템 모드(mode) 들로만 구성됨  \n",
        "\n",
        "- 강제응답 (Forced Response )  \n",
        "  - 외부 입력의 특성을 반영하는 응답\n"
      ]
    },
    {
      "cell_type": "markdown",
      "metadata": {
        "id": "iydQrDe3gIyB"
      },
      "source": [
        "---\n",
        "#### 영입력 응답과 영상태 응답   \n",
        "\n",
        "- 영입력 응답 (Zero-Input Response )\n",
        "  - 시스템의 초기 조건(내부의 축적 에너지 등)에 의한 응답 성분  \n",
        "  - 외부 입력에 독립적(입력=0)인 시스템 자체의 내부 조건에 대한 응답\n",
        "\n",
        "- 영상태 응답 ( Zero-State Response )\n",
        "  - 외부에서 넣어주는 입력만에 대한 응답  \n",
        "  - 시스템 내부 조건과는 무관하게(초기 조건=0) 외부 입력에 대한 반응\n"
      ]
    },
    {
      "cell_type": "markdown",
      "metadata": {
        "id": "iOlqRxzNgbX8"
      },
      "source": [
        "---\n",
        "### 3.1.2 임펄스 응답 (`Impulse Response`)\n"
      ]
    },
    {
      "cell_type": "markdown",
      "metadata": {
        "id": "PCyWI_X6u6bl"
      },
      "source": [
        "- LTI시스템의 경우, 순전희 외부 입력에 대한 출력, 즉 영상태 응답을 컨벌루션(Convolution)형태로 수식화 할 수 있음.\n",
        "    - 이를 위해 `임펄스 응답(Impulse Response)`의 개념이 필요함."
      ]
    },
    {
      "cell_type": "markdown",
      "metadata": {
        "id": "qy0n4mFegrU4"
      },
      "source": [
        "- 임펄스 응답  \n",
        "  - 시스템의 입력이 임펄스 함수일 때의 응답   \n",
        "\n",
        "$$ h[n] = H \\{ \\delta [n] \\}\n",
        "$$   \n",
        "\n",
        "<center>\n",
        "\n",
        "<img src='https://drive.google.com/uc?export=download&id=1LKSxBCUZ44wlMpoSfZgtHTEEEKS8Oqwi' width=\"700\" height =\"\" /><br>\n",
        "\n",
        "![그림3-1 시스템 임펄스 응답의 발생](./images/그림3-1.png)\n",
        "\n",
        "</center>"
      ]
    },
    {
      "cell_type": "markdown",
      "metadata": {
        "id": "yrZgHkcJvxRp"
      },
      "source": [
        "- 시스템의 인과성, 안정성과 같은 시스템의 특성이 임펄스 응답 $h[n]$과 어떻게 관련되는지를 보여줌."
      ]
    },
    {
      "cell_type": "markdown",
      "metadata": {
        "id": "Vwh_d--JhL4_"
      },
      "source": [
        "<center>\n",
        "\n",
        "<img src='https://drive.google.com/uc?export=download&id=1LOkANA32eVHH1fx-r6ZGuT9LSErLC85J' width=\"600\" height =\"\" /><br>\n",
        "\n",
        " ![그림3-2  여러 시스템의  임펄스 응답](./images/그림3-2.png)\n",
        "\n",
        " </center>"
      ]
    },
    {
      "cell_type": "markdown",
      "metadata": {
        "id": "tKmpmyXLPmHq"
      },
      "source": [
        "시스템특성에따른 임펄스 응답-예"
      ]
    },
    {
      "cell_type": "markdown",
      "metadata": {
        "id": "MSZIja6XhpQb"
      },
      "source": [
        "---\n",
        "#### FIR 시스템과 IIR 시스템"
      ]
    },
    {
      "cell_type": "markdown",
      "metadata": {
        "id": "Vlt2agVUhsQY"
      },
      "source": [
        "- 유한 임펄스 응답(FIR: Finite Impulse Response) 시스템  \n",
        "  - 임펄스 응답의 샘플 수가 유한한 시스템  (그림 3-2a, 3-2b)\n",
        "  - 시스템 차분 방정식이 MA항들로만 이루어짐\n",
        "\n",
        "- 무한 임펄스 응답(IIR: Infinite Impulse Response ) 시스템  \n",
        "  - 임플스 응답의 샘플 수가 무한한 시스템  (그림 3-2a, 3-2b)\n",
        "  - 시스템 차분 방정식이 AR항을 반드시 포함함"
      ]
    },
    {
      "cell_type": "markdown",
      "metadata": {
        "id": "0KiKIzR0h8Jl"
      },
      "source": [
        " <img src='https://drive.google.com/uc?export=download&id=1LSbSeL8LeLo3NzklJSCPMqgCNj_kt1Jl' width=\"700\" height =\"\" /><br>  \n",
        "\n",
        "  ![예제3-1 시스템 임펄스 응답의 발생](./images/EX3-1.png)\n",
        "\n",
        "\n",
        " <img src='https://drive.google.com/uc?export=download&id=1LRhsogFWypCviC8nVARoLE7avcPN5USQ' width=\"700\" height =\"\" /><br>\n",
        "\n",
        "   ![예제3-1 시스템 임펄스 응답의 발생](./images/EX3-1-1.png)"
      ]
    },
    {
      "cell_type": "markdown",
      "metadata": {
        "id": "xQ6CMd-piiQR"
      },
      "source": [
        "---\n",
        "## 3.2 이산 LTI 시스템의 컨벌루션 표현"
      ]
    },
    {
      "cell_type": "markdown",
      "metadata": {
        "id": "a2b22wf0isgF"
      },
      "source": [
        "#### 이산 LTI 시스템의 영상태 응답의 컨벌루션 표현  \n",
        "\n",
        "- 신호의 임펄스 표현과 선형성 및 시불변성을 이용  \n",
        "\n",
        "  - 이산 신호의 임펄스 표현 :   \n",
        "$$ \\begin{align}\n",
        "\tx[n]&= \\dots + x[-1] \\delta[n+1] + x[0] \\delta[n] + \\dots + x[k] \\delta[n-k]+ \\dots \\\\\n",
        "    \t&= \\sum_{k = - \\infty}^{ \\infty} x[k] \\delta[n-k]\n",
        "\\end{align}\n",
        "$$  \n",
        "  - 가산성 (Additivity):   여러 개의 입력 신호가 동시에 시스템에 들어갈 때, 각각의 입력에 대한 출력이 모두 더해져 최종 출력으로 나타나는 특성을 의미함.\n",
        "$$\\begin{align}\n",
        "\ty[n]&= L \\{ x[n] \\} = \\dots + L \\{ x[0] \\delta[n] \\} + \\dots + L \\{ x[k] \\delta[n-k] \\}+ \\dots \\\\\n",
        "    \t&= \\sum_{k = - \\infty}^{ \\infty} L \\{ x[k] \\delta[n-k] \\}\n",
        "\\end{align}\n",
        "$$\n",
        "  - 동차성 (Homogeneity) : 입력 신호의 크기를 조절하면, 출력 신호의 크기도 동일한 비율로 조절되는 특성을 의미함.   \n",
        "$$\\begin{align}\n",
        "y[n]&= \\dots + x[0] L \\{ \\delta[n] \\} + \\dots + x[k]  L \\{ \\delta[n-k] \\}+ \\dots \\\\\n",
        "&= \\sum_{k = - \\infty}^{ \\infty} x[k] L \\{ \\delta[n-k] \\}\n",
        "\\end{align}  \n",
        "$$\n",
        "  - 시불변성(Time-Invariance) :   시스템의 특성이 시간에 따라 변하지 않는 것을 의미함.\n",
        "  $$ y[n] = \\sum_{k = - \\infty}^{ \\infty} x[k] h[n-k]  $$\n",
        "\n",
        "  - 이산 LTI 시스템의 출력 : 입력과 임펄스 응답의 컨벌루션 합이 됨  \n",
        "$$\n",
        "y[n] = \\sum_{k = - \\infty}^{ \\infty} x[k] h[n-k]  = x[n] \\ast h[n]\n",
        "$$\n",
        "   → **만약 $x[n]=0,\\; n \\lt 0 \\;\\&\\; h[n]=, \\; n \\lt 0$ 이면**,\n",
        "   $$ y[n] = \\sum_{k = 0}^{n} x[k] h[n-k]  $$\n",
        "\n",
        "\n"
      ]
    },
    {
      "cell_type": "markdown",
      "metadata": {
        "id": "CzDbsUpnmaWj"
      },
      "source": [
        " <img src='https://drive.google.com/uc?export=download&id=1LWqIGZ7gvreCIJIoPa6jtkC_rTJ9KSEx' width=\"700\" height =\"\" /><br>\n",
        "\n",
        "   ![표3-1 이산 LTI 시스템의 영상태 응답표현을 구하는 과정](./images/EX3-1.png)"
      ]
    },
    {
      "cell_type": "markdown",
      "metadata": {
        "id": "NRSOszOdm8S9"
      },
      "source": [
        "<img src='https://drive.google.com/uc?export=download&id=13jwkvSjdRb-0Kj_YfZzi-dFNQAme9cLA' width=\"700\" height =\"\" /><br>\n",
        "\n",
        "  ![예제3-2](./images/EX3-2.png)"
      ]
    },
    {
      "cell_type": "markdown",
      "metadata": {
        "id": "WAAqLDCxnH7U"
      },
      "source": [
        " <img src='https://drive.google.com/uc?export=download&id=1LUQXKwP7Q6yrZ9VHFQDc54Se0WDiL5RA' width=\"700\" height =\"\" /><br>\n",
        "\n",
        "  ![예제 3-2](./images/EX3-2-1.png)"
      ]
    },
    {
      "cell_type": "markdown",
      "metadata": {
        "id": "XMIc3N8OxtRR"
      },
      "source": [
        "<img src='https://drive.google.com/uc?export=download&id=1URABKrBEpHTR0W2VLOEeHJ1itkODCM7W' width=\"\" height =\"\" /><br>  \n",
        "\n",
        " ![그림3-5 미끄럼 방식에 의한 컨볼루션의 계산](./images/그림3-5.png)"
      ]
    },
    {
      "cell_type": "markdown",
      "metadata": {
        "id": "dydkEmX6yG3A"
      },
      "source": [
        " <img src='https://drive.google.com/uc?export=download&id=1UP8Pyn5C89LSgCZJuwzrhnc2rUvucCbH' width=\"\" height =\"\" /><br>  \n",
        "\n",
        " ![표3-2 미끄럼 방식 컨볼루션 계산](./images/표3-2.png)"
      ]
    },
    {
      "cell_type": "markdown",
      "metadata": {
        "id": "SWKunWwLj0lQ"
      },
      "source": [
        "---\n",
        "## 3.3 컨벌루션 합의 계산과 성질\n"
      ]
    },
    {
      "cell_type": "markdown",
      "metadata": {
        "id": "9WJOgJzenZpC"
      },
      "source": [
        "### 3.3.1 컨벌루션 합의 계산  \n",
        "\n",
        "- 미끄럼 방식(sliding method) 컨벌루션 계산법  \n",
        "  - 컨벌루션 : 한 신호를 뒤집어 시간축의 좌측 끝부터 미끄러뜨려 끌고 오면서  \n",
        "    매 순간 고정된 신호와 곱한 결과를 더하는 연산  \n",
        "  - **총합은 시간 변수 에 대해서 수행되는 것이 아니라 $k$에 대해서 수행**\n",
        "\n",
        "<img src='https://drive.google.com/uc?export=download&id=1LZ2bUGqvQSPxloCUxANbeYjJIriLZecg' width=\"600\" height =\"\" /><br>  \n",
        "\n",
        "![미끄럼 방식에 의한 컨볼루션의 계산 알고리즘](./images/그림3-ConvAlgo.png)"
      ]
    },
    {
      "cell_type": "markdown",
      "metadata": {
        "id": "XboBj56Aoqhb"
      },
      "source": [
        "### 3.3.2 컨벌루션 합의 성질  \n",
        "\n",
        "<img src='https://drive.google.com/uc?export=download&id=1LZnJiW39kDy8eYgw84ojddWawg1yjhiv' width=\"600\" height =\"\" /><br>\n",
        "\n",
        "![표3-3 컨볼루션 합의 성질](./images/표3-3.png)"
      ]
    },
    {
      "cell_type": "markdown",
      "metadata": {
        "id": "MeKPA1k5pN2c"
      },
      "source": [
        "<img src='https://drive.google.com/uc?export=download&id=1L_kHfC-PoQO55nIJYLSNaVeb9LY2KRvB' width=\"700\" height =\"\" /><br>  \n",
        "\n",
        "![그림3-6 컨볼루션의 교환법칙의 물리적 의미](./images/그림3-6.png)"
      ]
    },
    {
      "cell_type": "markdown",
      "metadata": {
        "id": "aZ8RoA58pVea"
      },
      "source": [
        "<img src='https://drive.google.com/uc?export=download&id=1LaH0gk9OqJlQzYiGDUE42vB7240jRHab' width=\"700\" height =\"\" /><br>  \n",
        "\n",
        "![그림3-7 컨볼루션의 결합법칙의 물리적 의미](./images/그림3-7.png)\n",
        "\n",
        " <img src='https://drive.google.com/uc?export=download&id=1LaXu_wK6zEASkFCCrD_GZkRXeue85Vzo' width=\"600\" height =\"\" /><br>  \n",
        "\n",
        " ![그림3-8 컨볼루션의 배분법칙의 물리적 의미](./images/그림3-8.png)"
      ]
    },
    {
      "cell_type": "markdown",
      "metadata": {
        "id": "LNmFC8XJqFK5"
      },
      "source": [
        "---\n",
        "<img src='https://drive.google.com/uc?export=download&id=1LiIlesbCWncKqHon5y3HH7KdJKZHxdl2' width=\"600\" height =\"\" /><br>  \n",
        "\n",
        "![예제3-4](./images/EX3-4.png)"
      ]
    },
    {
      "cell_type": "markdown",
      "metadata": {
        "id": "frDTyihTqiM1"
      },
      "source": [
        "---  \n",
        "## 3.4 차분방정식에 의한 이산 LTI 시스템의 표현\n"
      ]
    },
    {
      "cell_type": "markdown",
      "metadata": {
        "id": "_8kF1wCerTWg"
      },
      "source": [
        "- 입출력 관계가 상수 계수의 차분 방정식으로 표현  \n",
        "$$ y[n] + a_1 y[n-1] + \\dots + a_p y[n-p] = b_0 x[n] + \\dots + b_q x[n-q]\n",
        "$$  \n",
        "\n",
        "<img src='https://drive.google.com/uc?export=download&id=1LjDL2DIWyQUx7zWzQpnEbbv34E3qKVsn' width=\"600\" height =\"\" /><br>  \n",
        "\n",
        "![예제3-5](./images/EX3-5.png)"
      ]
    },
    {
      "cell_type": "markdown",
      "metadata": {
        "id": "Z84Y9MgGsg8l"
      },
      "source": [
        "<img src='https://drive.google.com/uc?export=download&id=1Liva732EyPwhHPn5H0Y2LRw_l0YeESZT' width=\"600\" height =\"\" /><br>  \n",
        "\n",
        "![예제3-5](./images/EX3-5-1.png)"
      ]
    },
    {
      "cell_type": "markdown",
      "metadata": {
        "id": "0m0hd_pSspbW"
      },
      "source": [
        "---\n",
        "### 차분 방정식의 풀이 - 반복 대입법 (Repeatitive Substitution)\n",
        "\n",
        "- 반복 대입에 의한 차분 방정식의 풀이  \n",
        "  - 미분 방정식에는 없는 손쉽고 간단한 풀이 방법  \n",
        "  - 반복해서 직전 단계 결과를 대입해 순차적으로 차분 방정식 해를 구함  \n",
        "  - 일반적으로 닫힌 꼴의 해를 제공 않음  \n",
        "   → 그러나  컴퓨터에 의한 수치적 계산에 매우 적합함\n",
        "\n",
        "<img src='https://drive.google.com/uc?export=download&id=1LlkWnO92rZ11cH8F3MfGnzuWjO5ZxfSM' width=\"600\" height =\"\" /><br>  \n",
        "\n",
        "![반복대입법](./images/그림3-반복대입법.png)"
      ]
    },
    {
      "cell_type": "markdown",
      "metadata": {
        "id": "v6LXefFAubmW"
      },
      "source": [
        "---\n",
        "### 반복 대입에 의한 차분 방정식의 풀이\n",
        "\n",
        "<img src='https://drive.google.com/uc?export=download&id=1LoJx2cD4gxY3FFZIjs8WJ8jBLM4PQZjO' width=\"700\" height =\"\" /><br>\n",
        "\n",
        "![예제3-6](./images/EX3-6.png)"
      ]
    },
    {
      "cell_type": "markdown",
      "metadata": {
        "id": "aMkifE3jgt1r"
      },
      "source": [
        "---\n",
        "### 차분 방정식의 고전적 해법\n",
        "\n",
        "<img src='https://drive.google.com/uc?export=download&id=1LqgVqqzGBjWttZP_b169lbXbZfZ7m6Mx' width=\"700\" height =\"\" /><br>  \n",
        "\n",
        "![차분방정식](./images/그림3-차분-고전적해법.png)\n",
        "\n",
        "\n",
        "\n",
        "※ 차분 방정식의 풀이는  𝒛변환을 이용하는 것이 편리함\n",
        "\n",
        "\n"
      ]
    },
    {
      "cell_type": "markdown",
      "metadata": {
        "id": "amT6TFdehnj0"
      },
      "source": [
        "---   \n",
        "\n",
        "- 차분 방정식의 해 = 동차해 + 특이해   \n",
        "$$ y[n] = y_h [n] + y_p [n]\n",
        "$$\n",
        "- 동차해\n",
        "  - 동차 차분 방정식(입력항=0)의 해  \n",
        "  - 시스템 모드들만의 선형결합으로 주어지는 응답 = 고유 응답  \n",
        "  - 시스템의 고유한 특성과 관련됨   \n",
        "  - 가장 일반적인 해의 형태: $\\gamma_i =r_i e^{j \\Phi_i} $이다.[ 이 변수가 바로 $z$]\n",
        "\n",
        "- 동차해의 구득  \n",
        "  - 동차 차분 방정식 : $ y[n] + a_1 y[n-1]+ \\dots + a_p y[n-p]=0$   \n",
        "  - 동차해 $y_h [n]$ : $c \\gamma^n$ 형식의 항(시스템 모드)들로 구성  \n",
        "   $\\rightarrow$ $c$는 초기(경계) 조건으로 결정\n",
        "\n",
        "- 특성방정식  \n",
        "  - 동차 차분 방정식에 $y_h [n] = c \\gamma^n$을 대입\n",
        "$$ \\gamma^p + a_1 \\gamma^{p-1}+ \\dots + a_{p-1} \\gamma + a_p =\n",
        "   (\\gamma - \\gamma_1 )(\\gamma - \\gamma_2 ) \\dots (\\gamma - \\gamma_p ) = 0\n",
        "$$\n"
      ]
    },
    {
      "cell_type": "markdown",
      "metadata": {
        "id": "DulEy5Rej60-"
      },
      "source": [
        "- 특성방정식의 근이 서로 다른 경우  \n",
        "$$ y_h [n] = c_1 \\gamma_1^n + c_2 \\gamma_2^n + \\dots + c_p \\gamma_p^n\n",
        "$$\n",
        "- 특성방정식의 $m-$중근인 경우  \n",
        "$$\n",
        "\\begin{align}\n",
        "y_h [n] &= c_1 \\gamma_1^n + c_2 n \\gamma_1^n + \\dots + c_m n^{m-1} \\gamma_1^n + c_{m+1} \\gamma_{m+1}^n + \\dots + c_p \\gamma_p^n  \\\\\n",
        " &= ( c_1 + c_2 n + \\dots + c_m n^{m-1} ) \\gamma_1^n + c_{m+1} \\gamma_{m+1}^n + \\dots + c_p \\gamma_p^n\n",
        "\\end{align}\n",
        "$$\n"
      ]
    },
    {
      "cell_type": "markdown",
      "metadata": {
        "id": "DErDi0b-mX91"
      },
      "source": [
        "---\n",
        "\n",
        "<img src='https://drive.google.com/uc?export=download&id=1LuewOP-Z6SSZ9lfdFAmfUo2yI_vacizu' width=\"700\" height =\"\" /><br>  \n",
        "\n",
        "![예제3-8](./images/EX3-8.png)\n",
        "\n",
        "\n",
        "<img src='https://drive.google.com/uc?export=download&id=1LshhBJq6kRY4EfCWZqZhSCYqU5O7Wals' width=\"700\" height =\"\" /><br>\n",
        "\n",
        "![예제3-9](./images/EX3-9.png)"
      ]
    },
    {
      "cell_type": "markdown",
      "metadata": {
        "id": "Lk_vPQoonOVw"
      },
      "source": [
        "---\n",
        "\n",
        "- 특이해  \n",
        "  - 시스템 외부 입력의 형태에 의해 결정되는 응답 = 강제 응답   \n",
        "  - 시스템 고유 특성과는 무관하고 입력의 닮은 꼴  \n",
        "  - 고전적인 차분 방정식의 해법에서 얻어지는 특이해\n",
        "\n",
        "<img src='https://drive.google.com/uc?export=download&id=1LwK92StVYViQGkhJnGJcq3GPK8YO_j43' width=\"700\" height =\"\" /><br>  \n",
        "\n",
        "![표3-4 입력 형태에 따른 차분 방정식의 특이해](./images/표3-4.png)"
      ]
    },
    {
      "cell_type": "markdown",
      "metadata": {
        "id": "heK7LeO4n3ry"
      },
      "source": [
        "---\n",
        "<img src='https://drive.google.com/uc?export=download&id=1Lwmo-s8gd9zcEL5YgkCxMgj3IG4LD957' width=\"700\" height =\"\" /><br>\n",
        "\n",
        "![예제3-10](./images/EX3-10.png)"
      ]
    },
    {
      "cell_type": "markdown",
      "metadata": {
        "id": "lmBzCqDAoTM2"
      },
      "source": [
        "---\n",
        "- 완전해  \n",
        "  - **$n \\le 0$에서의 초기(경계) 조건을 사용**하여 동차해의 계수를 결정    \n",
        "  - 입력에 의한 응답 성분 포함   \n",
        "     → 입력 인가 이후의 초기 조건이 필요\n",
        "\n",
        "<img src='https://drive.google.com/uc?export=download&id=1M8nA6RZBxr28uQrNkkHEc_9Y-p-MBP1Z' width=\"700\" height =\"\" /><br>  \n",
        "\n",
        "![예제3-11](./images/EX3-11.png)"
      ]
    },
    {
      "cell_type": "markdown",
      "metadata": {
        "id": "JnXZQwBIpTSv"
      },
      "source": [
        "<img src='https://drive.google.com/uc?export=download&id=1M46oFAgW9RcQb-ngSndoH9kAS8IllbQw' width=\"700\" height =\"\" /><br>  \n",
        "\n",
        "![예제3-11](./images/EX3-11-1.png)"
      ]
    },
    {
      "cell_type": "markdown",
      "metadata": {
        "id": "zFofXyiztx0l"
      },
      "source": [
        "<img src='https://drive.google.com/uc?export=download&id=1M3fklCfkYxyQc3biOMhODx3tS-OVKAiW' width=\"700\" height =\"\" /><br>   \n",
        "\n",
        "![예제3-11](./images/EX3-11-2.png)\n",
        "\n",
        "---"
      ]
    },
    {
      "cell_type": "markdown",
      "metadata": {
        "id": "4fe9HAqwplUE"
      },
      "source": [
        "<img src='https://drive.google.com/uc?export=download&id=1M9ZYULFeU3-TraijX14KC9hlaAxwmaOA' width=\"700\" height =\"\" /><br>   \n",
        "\n",
        "![예제3-12](./images/EX3-12.png)\n"
      ]
    },
    {
      "cell_type": "markdown",
      "metadata": {
        "id": "ftIZpnm-u_35"
      },
      "source": [
        " <img src='https://drive.google.com/uc?export=download&id=1MBouvmHntmFbCdqpwmrOvW8X4vQUUjzB' width=\"700\" height =\"\" /><br>   \n",
        "\n",
        " ![예제3-12](./images/EX3-12-1.png)\n",
        "\n",
        " ---"
      ]
    },
    {
      "cell_type": "markdown",
      "metadata": {
        "id": "KbC0NKr9vH-k"
      },
      "source": [
        "## 3.5 임펄스 응답과 시스템의 특성  \n"
      ]
    },
    {
      "cell_type": "markdown",
      "metadata": {
        "id": "P3lrKr0rvPub"
      },
      "source": [
        "### 임펄스 응답의 물리적 의미  \n",
        "\n",
        "- 과거 입력 값들이 현재 출력에 기여하는 정도를 알려줌  \n",
        "  - 시각 $n$에서의 출력을 구성하는 과거 입력들에 대한 가중치의 의미\n",
        "\n",
        "- 임펄스 입력 인가는 새로운 초기 조건을 부여하는 동작으로 간주 가능  \n",
        "  - $n \\gt0$에서의 응답은 외부 입력이 아닌 시스템의 자체 특성 반영  \n",
        "  → **시스템의 특성에 관한 정보를 임펄스 응답으로부터 알아낼 수 있다.**\n",
        "\n",
        "- 임펄스 함수는 모든 주파수 성분을 지님  \n",
        "  - 임펄스 응답은 시스템의 모든 주파수에 대한 응답 특성을 보여줌\n",
        "\n",
        "<img src='https://drive.google.com/uc?export=download&id=1MCTiGPUvu3eyaaZNldqd99Bxz0n6Q9Oe' width=\"400\" height =\"\" /><br>  \n",
        "\n",
        "![그림3-11 임펄스 응답의 물리적 의미](./images/그림3-11.png)"
      ]
    },
    {
      "cell_type": "markdown",
      "metadata": {
        "id": "yISBgg_awHfO"
      },
      "source": [
        "---\n",
        "- 기억성 :  \n",
        "  $h[n] = \\alpha \\delta[n]$이면 순시적(무기억) 시스템   \n",
        "  $h[n] \\ne \\alpha \\delta[n]$이면 동적(기억) 시스템\n",
        "\n",
        "- 인과성: $h[n] = 0, \\; n \\lt 0$이면 인과적 시스템\n",
        "$$ y[n] = \\sum_{k = - \\infty}^{\\infty} h[k] x[n-k] = \\sum_{k = - \\infty}^{-1} h[k] x[n-k] + \\sum_{k = 0}^{\\infty} h[k] x[n-k]\n",
        "$$\n",
        "- 안정성: $ \\sum_{k = - \\infty}^{\\infty} |h[k]| \\lt \\infty $이면 BIBO 안정 → 시스템 모드 $ |\\gamma_i | \\lt 1$\n",
        "$$\n",
        "\\begin{align*}\n",
        "|y[n]| = \\left| \\sum_{k = - \\infty}^{\\infty} h[k] x[n-k] \\right|  & \\le\n",
        " \\sum_{k = - \\infty}^{\\infty} |h[k]| |x[n-k]|\\\\\n",
        " & \\le B_x \\sum_{k = - \\infty}^{\\infty} |h[k]|\n",
        "\\end{align*}\n",
        "$$"
      ]
    },
    {
      "cell_type": "markdown",
      "metadata": {
        "id": "8NZZqI4X3aze"
      },
      "source": [
        "---\n",
        "<img src='https://drive.google.com/uc?export=download&id=1MDNP3IZx1CQe7vuc-KNgQPnYpoxlFpvd' width=\"700\" height =\"\" /><br>  \n",
        "\n",
        "![예제3-14](./images/EX3-14.png)"
      ]
    },
    {
      "cell_type": "markdown",
      "source": [
        "\n",
        "\n",
        "---\n",
        "\n"
      ],
      "metadata": {
        "id": "pVwpbd9UK6cO"
      }
    },
    {
      "cell_type": "code",
      "execution_count": null,
      "metadata": {
        "id": "bt_IeFyijuDp"
      },
      "outputs": [],
      "source": [
        "import numpy as np\n",
        "import matplotlib.pylab as plt"
      ]
    },
    {
      "cell_type": "code",
      "execution_count": null,
      "metadata": {
        "id": "CE29j1KTjmHR"
      },
      "outputs": [],
      "source": [
        "def convolve_m(nx,x,nh,h):  #두 시퀀스의 컨볼루션\n",
        "    nyb=nx[0]+nh[0]   #계산 k 시작점\n",
        "    nye=nx[len(x)-1]+nh[len(h)-1]    #계산 k 종점\n",
        "    ny=np.arange(nyb,nye+1)   #순서시퀀스 할당\n",
        "    y=np.convolve(x,h)    #컨볼루션 출력\n",
        "    return ny,y\n"
      ]
    },
    {
      "cell_type": "code",
      "execution_count": null,
      "metadata": {
        "colab": {
          "base_uri": "https://localhost:8080/",
          "height": 527
        },
        "id": "eHSld_19kBRf",
        "outputId": "a53f3ed2-aa02-46d7-a1c0-e63d7a43d612"
      },
      "outputs": [
        {
          "name": "stdout",
          "output_type": "stream",
          "text": [
            "y(n)=x(n)*h(n)= [  0  -3 -11  -4  17  39  43  18   2   7  16   6   0]\n",
            "n= [-4 -3 -2 -1  0  1  2  3  4  5  6  7  8]\n"
          ]
        },
        {
          "data": {
            "text/plain": [
              "Text(0, 0.5, 'y(n)')"
            ]
          },
          "execution_count": 3,
          "metadata": {},
          "output_type": "execute_result"
        },
        {
          "data": {
            "image/png": "[encoded data removed]",
            "text/plain": [
              "<Figure size 640x480 with 3 Axes>"
            ]
          },
          "metadata": {},
          "output_type": "display_data"
        }
      ],
      "source": [
        "nx=np.arange(-3,4)\n",
        "nh=np.arange(-1,6)\n",
        "xn=np.array([3,11,7,0,-1,4,2])\n",
        "hn=np.array([0,-1,0,1,2,3,0])\n",
        "\n",
        "n,y=convolve_m(nx,xn,nh,hn)\n",
        "print(\"y(n)=x(n)*h(n)=\",y); print(\"n=\",n)\n",
        "\n",
        "plt.subplot(3,1,1); plt.stem(nx,xn,\"blue\"); plt.grid()\n",
        "plt.title(\"Convolution, y(n)=x(n)*h(n)\"); plt.ylabel(\"x(n)\"); plt.ylim(-2,12)\n",
        "plt.subplot(3,1,2); plt.stem(nh,hn,\"blue\"); plt.grid()\n",
        "plt.ylabel(\"h(n)\"); plt.ylim(-6,5)\n",
        "plt.subplot(3,1,3); plt.stem(n,y,\"blue\"); plt.grid()\n",
        "plt.xlabel(\"n\"); plt.ylabel(\"y(n)\")\n"
      ]
    },
    {
      "cell_type": "markdown",
      "source": [
        "## `np.convolve()` 함수를 이용한  컨볼루션(합성곱) 계산"
      ],
      "metadata": {
        "id": "uiDTEKdOO1Wo"
      }
    },
    {
      "cell_type": "code",
      "source": [
        "import numpy as np\n",
        "\n",
        "# 표의 상단에 있는 입력 신호 x[k]\n",
        "x = np.array([1, -1,1,-1])\n",
        "\n",
        "# 표의 계산 과정을 통해 유추한 신호 h[k]\n",
        "h = np.array([1, 1,1])\n",
        "\n",
        "# numpy의 convolve 함수를 사용하여 컨볼루션(합성곱)을 계산\n",
        "y = np.convolve(x, h)\n",
        "\n",
        "# 최종 결과 y[n] 출력\n",
        "print(\"계산 결과 y[n]:\")\n",
        "print(y)"
      ],
      "metadata": {
        "colab": {
          "base_uri": "https://localhost:8080/"
        },
        "id": "5k6oH2CsPCGr",
        "outputId": "ec952692-260a-490c-8a8f-03f0faaa9d14"
      },
      "execution_count": 4,
      "outputs": [
        {
          "output_type": "stream",
          "name": "stdout",
          "text": [
            "계산 결과 y[n]:\n",
            "[ 1  0  1 -1  0 -1]\n"
          ]
        }
      ]
    },
    {
      "cell_type": "code",
      "source": [
        "import numpy as np\n",
        "import matplotlib.pyplot as plt\n",
        "\n",
        "# 신호 정의\n",
        "# 입력 신호 x[k]\n",
        "x = np.array([-1, -1, -1, 2, 2, 2, 2])\n",
        "# 임펄스 응답 h[k]\n",
        "h = np.array([1, -1, 2, 0,-2,2])\n",
        "# 컨볼루션 계산\n",
        "y = np.convolve(x, h)\n",
        "\n",
        "# 각 신호의 시간 축(인덱스) 생성\n",
        "nx = np.arange(len(x))\n",
        "nh = np.arange(len(h))\n",
        "ny = np.arange(len(y))\n",
        "\n",
        "# 3개의 그래프를 세로로 배열하기 위한 설정\n",
        "fig, axs = plt.subplots(3, 1, figsize=(10, 9))\n",
        "\n",
        "# 1. 입력 신호 x[k] 그래프\n",
        "axs[0].stem(nx, x, basefmt=\" \")\n",
        "axs[0].set_title('Input Signal x[k]')\n",
        "axs[0].set_xlabel('k')\n",
        "axs[0].set_ylabel('Amplitude')\n",
        "axs[0].grid(True)\n",
        "\n",
        "# 2. 임펄스 응답 h[k] 그래프\n",
        "axs[1].stem(nh, h, basefmt=\" \", linefmt='g-', markerfmt='go')\n",
        "axs[1].set_title('Impulse Response h[k]')\n",
        "axs[1].set_xlabel('k')\n",
        "axs[1].set_ylabel('Amplitude')\n",
        "axs[1].grid(True)\n",
        "\n",
        "# 3. 출력 신호 y[n] 그래프\n",
        "axs[2].stem(ny, y, basefmt=\" \", linefmt='r-', markerfmt='ro')\n",
        "axs[2].set_title('Output Signal y[n] = x[k] * h[k]')\n",
        "axs[2].set_xlabel('n')\n",
        "axs[2].set_ylabel('Amplitude')\n",
        "axs[2].grid(True)\n",
        "\n",
        "# 그래프 레이아웃 자동 조정\n",
        "plt.tight_layout()\n",
        "\n",
        "# 로컬 환경에서 그래프를 직접 띄워서 보려면 아래 코드의 주석을 해제할 것.\n",
        "# plt.show()"
      ],
      "metadata": {
        "colab": {
          "base_uri": "https://localhost:8080/",
          "height": 653
        },
        "id": "_ObHWmgIPbPf",
        "outputId": "c0929e52-bec4-4351-e9fb-8bc99b3c2631"
      },
      "execution_count": 3,
      "outputs": [
        {
          "output_type": "display_data",
          "data": {
            "text/plain": [
              "<Figure size 1000x900 with 3 Axes>"
            ],
            "image/png": "[encoded data removed]"
          },
          "metadata": {}
        }
      ]
    }
  ],
  "metadata": {
    "colab": {
      "provenance": [],
      "toc_visible": true,
      "include_colab_link": true
    },
    "kernelspec": {
      "display_name": "Python 3",
      "name": "python3"
    },
    "language_info": {
      "name": "python"
    }
  },
  "nbformat": 4,
  "nbformat_minor": 0
}