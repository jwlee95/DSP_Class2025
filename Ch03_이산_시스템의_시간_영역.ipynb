{
  "nbformat": 4,
  "nbformat_minor": 0,
  "metadata": {
    "colab": {
      "provenance": [],
      "toc_visible": true,
      "authorship_tag": "ABX9TyPKPnBlN1x4Puc2ysIZL19p",
      "include_colab_link": true
    },
    "kernelspec": {
      "name": "python3",
      "display_name": "Python 3"
    },
    "language_info": {
      "name": "python"
    }
  },
  "cells": [
    {
      "cell_type": "markdown",
      "metadata": {
        "id": "view-in-github",
        "colab_type": "text"
      },
      "source": [
        "<a href=\"https://colab.research.google.com/github/jwlee95/DSP_Class2024/blob/main/Ch03_%E1%84%8B%E1%85%B5%E1%84%89%E1%85%A1%E1%86%AB_%E1%84%89%E1%85%B5%E1%84%89%E1%85%B3%E1%84%90%E1%85%A6%E1%86%B7%E1%84%8B%E1%85%B4_%E1%84%89%E1%85%B5%E1%84%80%E1%85%A1%E1%86%AB_%E1%84%8B%E1%85%A7%E1%86%BC%E1%84%8B%E1%85%A7%E1%86%A8.ipynb\" target=\"_parent\"><img src=\"https://colab.research.google.com/assets/colab-badge.svg\" alt=\"Open In Colab\"/></a>"
      ]
    },
    {
      "cell_type": "markdown",
      "source": [
        "# Chapter 3: 이산 시스템의 시간 영역 (Time Domain Analysis of Discrete systems )"
      ],
      "metadata": {
        "id": "4ENB_O8TfCjL"
      }
    },
    {
      "cell_type": "markdown",
      "source": [
        "## 3.1 시스템의 임펄스 응답"
      ],
      "metadata": {
        "id": "EXAhbGLUfOVa"
      }
    },
    {
      "cell_type": "markdown",
      "source": [
        "### 3.1.1 시간영역 해석 과 시스템 응답  \n",
        "\n",
        "- 이산 시스템의 시간 영역 해석  \n",
        "  - 입/출력 신호를 시간 함수로 표현하여 시스템의 표현식을 구하고, 이를 이용하여 시스템의 특성을 해석하는 것  \n",
        "  - 시스템 입출력 관계  \n",
        "    : 차분 방정식 또는 컨벌루션 합의 형태로 표현됨  \n",
        "\n",
        "\n",
        "\n"
      ],
      "metadata": {
        "id": "9CbjEf7zfZ9g"
      }
    },
    {
      "cell_type": "markdown",
      "source": [
        "---\n",
        "#### 고유 응답과 강제 응답    \n",
        "\n",
        "- 고유응답 ( Natural Reponse )  \n",
        "  - 시스템의 특성을 반영하는 응답  \n",
        "  - 시스템 모드들로만 구성됨  \n",
        "\n",
        "- 강제응답 (Forced Response )  \n",
        "  - 외부 입력의 특성을 반영하는 응답\n"
      ],
      "metadata": {
        "id": "hS8bOTSmf3D6"
      }
    },
    {
      "cell_type": "markdown",
      "source": [
        "---\n",
        "#### 영입력 응답과 영상태 응답   \n",
        "\n",
        "- 영입력 응답 (Zero-Input Response )\n",
        "  - 초기 조건에 의한 응답 성분  \n",
        "  - 외부 입력에 독립적(입력=0)인 시스템 자체의 내부 조건에 대한 응답\n",
        "\n",
        "- 영상태 응답 ( Zero-State Response )\n",
        "  - 외부에서 넣어주는 입력만에 대한 응답  \n",
        "  - 시스템 내부 조건과는 무관하게(초기 조건=0) 외부 입력에 대한 반응\n"
      ],
      "metadata": {
        "id": "iydQrDe3gIyB"
      }
    },
    {
      "cell_type": "markdown",
      "source": [
        "---\n",
        "### 3.1.2 임펄스 응답 (`Impulse Response`)\n"
      ],
      "metadata": {
        "id": "iOlqRxzNgbX8"
      }
    },
    {
      "cell_type": "markdown",
      "source": [
        "- 임펄스 응답  \n",
        "  - 시스템의 입력이 임펄스 함수일 때의 응답\n",
        "$$ h[n] = L \\{ \\delta [n] \\}$$  \n",
        "\n",
        " <img src='https://drive.google.com/uc?export=download&id=1LKSxBCUZ44wlMpoSfZgtHTEEEKS8Oqwi' width=\"700\" height =\"\" /><br>"
      ],
      "metadata": {
        "id": "qy0n4mFegrU4"
      }
    },
    {
      "cell_type": "markdown",
      "source": [
        "<img src='https://drive.google.com/uc?export=download&id=1LOkANA32eVHH1fx-r6ZGuT9LSErLC85J' width=\"600\" height =\"\" /><br>"
      ],
      "metadata": {
        "id": "Vwh_d--JhL4_"
      }
    },
    {
      "cell_type": "markdown",
      "source": [
        "---\n",
        "### FIR 시스템과 IIR 시스템"
      ],
      "metadata": {
        "id": "MSZIja6XhpQb"
      }
    },
    {
      "cell_type": "markdown",
      "source": [
        "- 유한 임펄스 응답(FIR: Finite Impulse Response) 시스템  \n",
        "  - 임펄스 응답의 샘플 수가 유한한 시스템  \n",
        "  - 시스템 차분 방정식이 MA항들로만 이루어짐\n",
        "\n",
        "- 무한 임펄스 응답(IIR: Infinite Impulse Response ) 시스템  \n",
        "  - 임플스 응답의 샘플 수가 무한한 시스템  \n",
        "  - 시스템 차분 방정식이 AR항을 반드시 포함함"
      ],
      "metadata": {
        "id": "Vlt2agVUhsQY"
      }
    },
    {
      "cell_type": "markdown",
      "source": [
        " <img src='https://drive.google.com/uc?export=download&id=1LSbSeL8LeLo3NzklJSCPMqgCNj_kt1Jl' width=\"700\" height =\"\" /><br>  \n",
        "\n",
        "\n",
        " <img src='https://drive.google.com/uc?export=download&id=1LRhsogFWypCviC8nVARoLE7avcPN5USQ' width=\"700\" height =\"\" /><br>"
      ],
      "metadata": {
        "id": "0KiKIzR0h8Jl"
      }
    },
    {
      "cell_type": "markdown",
      "source": [
        "---\n",
        "## 3.2 이산 LTI 시스템의 컨벌루션 표현"
      ],
      "metadata": {
        "id": "xQ6CMd-piiQR"
      }
    },
    {
      "cell_type": "markdown",
      "source": [
        "#### 이산 LTI 시스템의 영상태 응답의 컨벌루션 표현  \n",
        "\n",
        "- 신호의 임펄스 표현과 선형성 및 시불변성을 이용  \n",
        "\n",
        "  - 이산 신호의 임펄스 표현 :   \n",
        "$$ \\begin{align}\n",
        "\tx[n]&= \\dots + x[-1] \\delta[n+1] + x[0] \\delta[n] + \\dots + x[k] \\delta[n-k]+ \\dots \\\\\n",
        "    \t&= \\sum_{k = - \\infty}^{ \\infty} x[k] \\delta[n-k]\n",
        "\\end{align}\n",
        "$$  \n",
        "  - 가산성 :  \n",
        "$$\\begin{align}\n",
        "\ty[n]&= L \\{ x[n] \\} = \\dots + L \\{ x[0] \\delta[n] \\} + \\dots + L \\{ x[k] \\delta[n-k] \\}+ \\dots \\\\\n",
        "    \t&= \\sum_{k = - \\infty}^{ \\infty} L \\{ x[k] \\delta[n-k] \\}\n",
        "\\end{align}\n",
        "$$\n",
        "  - 동차성 :   \n",
        "$$\\begin{align}\n",
        "y[n]&= \\dots + x[0] L \\{ \\delta[n] \\} + \\dots + x[k]  L \\{ \\delta[n-k] \\}+ \\dots \\\\\n",
        "&= \\sum_{k = - \\infty}^{ \\infty} x[k] L \\{ \\delta[n-k] \\}\n",
        "\\end{align}  \n",
        "$$\n",
        "  - 시불변성 :   \n",
        "  $$ y[n] = \\sum_{k = - \\infty}^{ \\infty} x[k] h[n-k]  $$\n",
        "\n",
        "  - 이산 LTI 시스템의 출력 : 입력과 임펄스 응답의 컨벌루션 합이 됨  \n",
        "$$\n",
        "y[n] = \\sum_{k = - \\infty}^{ \\infty} x[k] h[n-k]  = x[n] \\ast h[n]\n",
        "$$\n",
        "   → **만약 $x[n]=0,\\; n \\lt 0 \\;\\&\\; h[n]=, \\; n \\lt 0$ 이면**,\n",
        "   $$ y[n] = \\sum_{k = 0}^{n} x[k] h[n-k]  $$\n",
        "\n",
        "\n"
      ],
      "metadata": {
        "id": "a2b22wf0isgF"
      }
    },
    {
      "cell_type": "markdown",
      "source": [
        " <img src='https://drive.google.com/uc?export=download&id=1LWqIGZ7gvreCIJIoPa6jtkC_rTJ9KSEx' width=\"700\" height =\"\" /><br>"
      ],
      "metadata": {
        "id": "CzDbsUpnmaWj"
      }
    },
    {
      "cell_type": "markdown",
      "source": [
        "<img src='https://drive.google.com/uc?export=download&id=1LVqu4m6fj76zWxeB0E8W14OgBA95-ejI' width=\"700\" height =\"\" /><br>"
      ],
      "metadata": {
        "id": "NRSOszOdm8S9"
      }
    },
    {
      "cell_type": "markdown",
      "source": [
        " <img src='https://drive.google.com/uc?export=download&id=1LUQXKwP7Q6yrZ9VHFQDc54Se0WDiL5RA' width=\"700\" height =\"\" /><br>"
      ],
      "metadata": {
        "id": "WAAqLDCxnH7U"
      }
    },
    {
      "cell_type": "markdown",
      "source": [
        "<img src='https://drive.google.com/uc?export=download&id=1URABKrBEpHTR0W2VLOEeHJ1itkODCM7W' width=\"\" height =\"\" /><br>"
      ],
      "metadata": {
        "id": "XMIc3N8OxtRR"
      }
    },
    {
      "cell_type": "markdown",
      "source": [
        " <img src='https://drive.google.com/uc?export=download&id=1UP8Pyn5C89LSgCZJuwzrhnc2rUvucCbH' width=\"\" height =\"\" /><br>"
      ],
      "metadata": {
        "id": "dydkEmX6yG3A"
      }
    },
    {
      "cell_type": "markdown",
      "source": [
        "---\n",
        "## 3.3 컨벌루션 합의 계산과 성질\n"
      ],
      "metadata": {
        "id": "SWKunWwLj0lQ"
      }
    },
    {
      "cell_type": "markdown",
      "source": [
        "### 3.3.1 컨벌루션 합의 계산  \n",
        "\n",
        "- 미끄럼 방식(sliding method) 컨벌루션 계산법  \n",
        "  - 컨벌루션 : 한 신호를 뒤집어 시간축의 좌측 끝부터 미끄러뜨려 끌고 오면서  \n",
        "    매 순간 고정된 신호와 곱한 결과를 더하는 연산  \n",
        "  - **총합은 시간 변수 에 대해서 수행되는 것이 아니라 $k$에 대해서 수행**\n",
        "\n",
        "<img src='https://drive.google.com/uc?export=download&id=1LZ2bUGqvQSPxloCUxANbeYjJIriLZecg' width=\"600\" height =\"\" /><br>"
      ],
      "metadata": {
        "id": "9WJOgJzenZpC"
      }
    },
    {
      "cell_type": "markdown",
      "source": [
        "### 3.3.2 컨벌루션 합의 성질  \n",
        "\n",
        "<img src='https://drive.google.com/uc?export=download&id=1LZnJiW39kDy8eYgw84ojddWawg1yjhiv' width=\"600\" height =\"\" /><br>"
      ],
      "metadata": {
        "id": "XboBj56Aoqhb"
      }
    },
    {
      "cell_type": "markdown",
      "source": [
        "<img src='https://drive.google.com/uc?export=download&id=1L_kHfC-PoQO55nIJYLSNaVeb9LY2KRvB' width=\"700\" height =\"\" /><br>"
      ],
      "metadata": {
        "id": "MeKPA1k5pN2c"
      }
    },
    {
      "cell_type": "markdown",
      "source": [
        "<img src='https://drive.google.com/uc?export=download&id=1LaH0gk9OqJlQzYiGDUE42vB7240jRHab' width=\"700\" height =\"\" /><br>  \n",
        "\n",
        " <img src='https://drive.google.com/uc?export=download&id=1LaXu_wK6zEASkFCCrD_GZkRXeue85Vzo' width=\"600\" height =\"\" /><br>"
      ],
      "metadata": {
        "id": "aZ8RoA58pVea"
      }
    },
    {
      "cell_type": "markdown",
      "source": [
        "---\n",
        "<img src='https://drive.google.com/uc?export=download&id=1LiIlesbCWncKqHon5y3HH7KdJKZHxdl2' width=\"600\" height =\"\" /><br>"
      ],
      "metadata": {
        "id": "LNmFC8XJqFK5"
      }
    },
    {
      "cell_type": "markdown",
      "source": [
        "---  \n",
        "## 3.4 차분방정식에 의한 이산 LTI 시스템의 표현\n"
      ],
      "metadata": {
        "id": "frDTyihTqiM1"
      }
    },
    {
      "cell_type": "markdown",
      "source": [
        "- 입출력 관계가 상수 계수의 차분 방정식으로 표현  \n",
        "$$ y[n] + a_1 y[n-1] + \\dots + a_p y[n-p] = b_0 x[n] + \\dots + b_q x[n-q]\n",
        "$$  \n",
        "\n",
        "<img src='https://drive.google.com/uc?export=download&id=1LjDL2DIWyQUx7zWzQpnEbbv34E3qKVsn' width=\"600\" height =\"\" /><br>"
      ],
      "metadata": {
        "id": "_8kF1wCerTWg"
      }
    },
    {
      "cell_type": "markdown",
      "source": [
        "<img src='https://drive.google.com/uc?export=download&id=1Liva732EyPwhHPn5H0Y2LRw_l0YeESZT' width=\"600\" height =\"\" /><br>"
      ],
      "metadata": {
        "id": "Z84Y9MgGsg8l"
      }
    },
    {
      "cell_type": "markdown",
      "source": [
        "---\n",
        "### 차분 방정식의 풀이 - 반복 대입법 (Repeatitive Substitution)\n",
        "\n",
        "- 반복 대입에 의한 차분 방정식의 풀이  \n",
        "  - 미분 방정식에는 없는 손쉽고 간단한 풀이 방법  \n",
        "  - 반복해서 직전 단계 결과를 대입해 순차적으로 차분 방정식 해를 구함  \n",
        "  - 일반적으로 닫힌 꼴의 해를 제공 않음  \n",
        "   → 그러나  컴퓨터에 의한 수치적 계산에 매우 적합함\n",
        "\n",
        "<img src='https://drive.google.com/uc?export=download&id=1LlkWnO92rZ11cH8F3MfGnzuWjO5ZxfSM' width=\"600\" height =\"\" /><br>"
      ],
      "metadata": {
        "id": "0m0hd_pSspbW"
      }
    },
    {
      "cell_type": "markdown",
      "source": [
        "---\n",
        "### 반복 대입에 의한 차분 방정식의 풀이\n",
        "\n",
        "<img src='https://drive.google.com/uc?export=download&id=1LoJx2cD4gxY3FFZIjs8WJ8jBLM4PQZjO' width=\"700\" height =\"\" /><br>"
      ],
      "metadata": {
        "id": "v6LXefFAubmW"
      }
    },
    {
      "cell_type": "markdown",
      "source": [
        "---\n",
        "### 차분 방정식의 고전적 해법\n",
        "\n",
        "<img src='https://drive.google.com/uc?export=download&id=1LqgVqqzGBjWttZP_b169lbXbZfZ7m6Mx' width=\"700\" height =\"\" /><br>  \n",
        "\n",
        "\n",
        "\n",
        "※ 차분 방정식의 풀이는  𝒛변환을 이용하는 것이 편리함\n",
        "\n",
        "\n"
      ],
      "metadata": {
        "id": "aMkifE3jgt1r"
      }
    },
    {
      "cell_type": "markdown",
      "source": [
        "---   \n",
        "\n",
        "- 차분 방정식의 해 = 동차해 + 특이해   \n",
        "$$ y[n] = y_h [n] + y_p [n]\n",
        "$$\n",
        "- 동차해\n",
        "  - 동차 차분 방정식(입력항=0)의 해  \n",
        "  - 시스템 모드들만의 선형결합으로 주어지는 응답 = 고유 응답  \n",
        "  - 시스템의 고유한 특성과 관련됨\n",
        "\n",
        "- 동차해의 구득  \n",
        "  - 동차 차분 방정식 : $ y[n] + a_1 y[n-1]+ \\dots + a_p y[n-p]=0$   \n",
        "  - 동차해 $y_h [n]$ : $c \\gamma^n$ 형식의 항(시스템 모드)들로 구성  \n",
        "   $\\rightarrow$ $c$는 초기(경계) 조건으로 결정\n",
        "\n",
        "- 특성방정식  \n",
        "  - 동차 차분 방정식에 $y_h [n] = c \\gamma^n$을 대입\n",
        "$$ \\gamma^p + a_1 \\gamma^{p-1}+ \\dots + a_{p-1} \\gamma + a_p =\n",
        "   (\\gamma - \\gamma_1 )(\\gamma - \\gamma_2 ) \\dots (\\gamma - \\gamma_p ) = 0\n",
        "$$\n"
      ],
      "metadata": {
        "id": "amT6TFdehnj0"
      }
    },
    {
      "cell_type": "markdown",
      "source": [
        "- 특성방정식의 근이 서로 다른 경우  \n",
        "$$ y_h [n] = c_1 \\gamma_1^n + c_2 \\gamma_2^n + \\dots + c_p \\gamma_p^n\n",
        "$$\n",
        "- 특성방정식의 $m-$중근인 경우  \n",
        "$$\n",
        "\\begin{align}\n",
        "y_h [n] &= c_1 \\gamma_1^n + c_2 n \\gamma_1^n + \\dots + c_m n^{m-1} \\gamma_1^n + c_{m+1} \\gamma_{m+1}^n + \\dots + c_p \\gamma_p^n  \\\\\n",
        " &= ( c_1 + c_2 n + \\dots + c_m n^{m-1} ) \\gamma_1^n + c_{m+1} \\gamma_{m+1}^n + \\dots + c_p \\gamma_p^n\n",
        "\\end{align}\n",
        "$$\n"
      ],
      "metadata": {
        "id": "DulEy5Rej60-"
      }
    },
    {
      "cell_type": "markdown",
      "source": [
        "---\n",
        "\n",
        "<img src='https://drive.google.com/uc?export=download&id=1LuewOP-Z6SSZ9lfdFAmfUo2yI_vacizu' width=\"700\" height =\"\" /><br>  \n",
        "\n",
        "\n",
        "<img src='https://drive.google.com/uc?export=download&id=1LshhBJq6kRY4EfCWZqZhSCYqU5O7Wals' width=\"700\" height =\"\" /><br>"
      ],
      "metadata": {
        "id": "DErDi0b-mX91"
      }
    },
    {
      "cell_type": "markdown",
      "source": [
        "---\n",
        "\n",
        "- 특이해  \n",
        "  - 시스템 외부 입력의 형태에 의해 결정되는 응답 = 강제 응답   \n",
        "  - 시스템 고유 특성과는 무관하고 입력의 닮은 꼴  \n",
        "  - 고전적인 차분 방정식의 해법에서 얻어지는 특이해\n",
        "\n",
        "<img src='https://drive.google.com/uc?export=download&id=1LwK92StVYViQGkhJnGJcq3GPK8YO_j43' width=\"700\" height =\"\" /><br>"
      ],
      "metadata": {
        "id": "Lk_vPQoonOVw"
      }
    },
    {
      "cell_type": "markdown",
      "source": [
        "---\n",
        "<img src='https://drive.google.com/uc?export=download&id=1Lwmo-s8gd9zcEL5YgkCxMgj3IG4LD957' width=\"700\" height =\"\" /><br>"
      ],
      "metadata": {
        "id": "heK7LeO4n3ry"
      }
    },
    {
      "cell_type": "markdown",
      "source": [
        "---\n",
        "- 완전해  \n",
        "  - **$n \\le 0$에서의 초기(경계) 조건을 사용**하여 동차해의 계수를 결정    \n",
        "  - 입력에 의한 응답 성분 포함   \n",
        "     → 입력 인가 이후의 초기 조건이 필요\n",
        "\n",
        "<img src='https://drive.google.com/uc?export=download&id=1M8nA6RZBxr28uQrNkkHEc_9Y-p-MBP1Z' width=\"700\" height =\"\" /><br>"
      ],
      "metadata": {
        "id": "lmBzCqDAoTM2"
      }
    },
    {
      "cell_type": "markdown",
      "source": [
        "<img src='https://drive.google.com/uc?export=download&id=1M46oFAgW9RcQb-ngSndoH9kAS8IllbQw' width=\"700\" height =\"\" /><br>"
      ],
      "metadata": {
        "id": "JnXZQwBIpTSv"
      }
    },
    {
      "cell_type": "markdown",
      "source": [
        "<img src='https://drive.google.com/uc?export=download&id=1M3fklCfkYxyQc3biOMhODx3tS-OVKAiW' width=\"700\" height =\"\" /><br>  \n",
        "\n",
        "---"
      ],
      "metadata": {
        "id": "zFofXyiztx0l"
      }
    },
    {
      "cell_type": "markdown",
      "source": [
        "<img src='https://drive.google.com/uc?export=download&id=1M9ZYULFeU3-TraijX14KC9hlaAxwmaOA' width=\"700\" height =\"\" /><br>  \n"
      ],
      "metadata": {
        "id": "4fe9HAqwplUE"
      }
    },
    {
      "cell_type": "markdown",
      "source": [
        " <img src='https://drive.google.com/uc?export=download&id=1MBouvmHntmFbCdqpwmrOvW8X4vQUUjzB' width=\"700\" height =\"\" /><br>  \n",
        "\n",
        " ---"
      ],
      "metadata": {
        "id": "ftIZpnm-u_35"
      }
    },
    {
      "cell_type": "markdown",
      "source": [
        "## 3.5 임펄스 응답과 시스템의 특성  \n"
      ],
      "metadata": {
        "id": "KbC0NKr9vH-k"
      }
    },
    {
      "cell_type": "markdown",
      "source": [
        "### 임펄스 응답의 물리적 의미  \n",
        "\n",
        "- 과거 입력 값들이 현재 출력에 기여하는 정도를 알려줌  \n",
        "  - 시각 $n$에서의 출력을 구성하는 과거 입력들에 대한 가중치의 의미\n",
        "\n",
        "- 임펄스 입력 인가는 새로운 초기 조건을 부여하는 동작으로 간주 가능  \n",
        "  - $n \\gt0$에서의 응답은 외부 입력이 아닌 시스템의 자체 특성 반영  \n",
        "  → **시스템의 특성에 관한 정보를 임펄스 응답으로부터 알아낼 수 있다.**\n",
        "\n",
        "- 임펄스 함수는 모든 주파수 성분을 지님  \n",
        "  - 임펄스 응답은 시스템의 모든 주파수에 대한 응답 특성을 보여줌\n",
        "\n",
        "<img src='https://drive.google.com/uc?export=download&id=1MCTiGPUvu3eyaaZNldqd99Bxz0n6Q9Oe' width=\"400\" height =\"\" /><br>"
      ],
      "metadata": {
        "id": "P3lrKr0rvPub"
      }
    },
    {
      "cell_type": "markdown",
      "source": [
        "---\n",
        "- 기억성 :  \n",
        "  $h[n] = \\alpha \\delta[n]$이면 순시적(무기억) 시스템   \n",
        "  $h[n] \\ne \\alpha \\delta[n]$이면 동적(기억) 시스템\n",
        "\n",
        "- 인과성: $h[n] = 0, \\; n \\lt 0$이면 인과적 시스템\n",
        "$$ y[n] = \\sum_{k = - \\infty}^{\\infty} h[k] x[n-k] = \\sum_{k = - \\infty}^{-1} h[k] x[n-k] + \\sum_{k = 0}^{\\infty} h[k] x[n-k]\n",
        "$$\n",
        "- 안정성: $ \\sum_{k = - \\infty}^{\\infty} |h[k]| \\lt \\infty $이면 BIBO 안정 → 시스템 모드 $ |\\gamma_i | \\lt 1$\n",
        "$$\n",
        "\\begin{align*}\n",
        "|y[n]| = \\left| \\sum_{k = - \\infty}^{\\infty} h[k] x[n-k] \\right|  & \\le\n",
        " \\sum_{k = - \\infty}^{\\infty} |h[k]| |x[n-k]|\\\\\n",
        " & \\le B_x \\sum_{k = - \\infty}^{\\infty} |h[k]|\n",
        "\\end{align*}\n",
        "$$"
      ],
      "metadata": {
        "id": "yISBgg_awHfO"
      }
    },
    {
      "cell_type": "markdown",
      "source": [
        "---\n",
        "<img src='https://drive.google.com/uc?export=download&id=1MDNP3IZx1CQe7vuc-KNgQPnYpoxlFpvd' width=\"700\" height =\"\" /><br>"
      ],
      "metadata": {
        "id": "8NZZqI4X3aze"
      }
    },
    {
      "cell_type": "code",
      "execution_count": null,
      "metadata": {
        "id": "e5jXNkifex3m"
      },
      "outputs": [],
      "source": []
    },
    {
      "cell_type": "markdown",
      "source": [],
      "metadata": {
        "id": "4mHCsJ3MjlrM"
      }
    },
    {
      "cell_type": "code",
      "source": [
        "import numpy as np\n",
        "import matplotlib.pylab as plt"
      ],
      "metadata": {
        "id": "bt_IeFyijuDp"
      },
      "execution_count": null,
      "outputs": []
    },
    {
      "cell_type": "code",
      "source": [
        "def convolve_m(nx,x,nh,h):  #두 시퀀스의 컨볼루션\n",
        "    nyb=nx[0]+nh[0]   #계산 k 시작점\n",
        "    nye=nx[len(x)-1]+nh[len(h)-1]    #계산 k 종점\n",
        "    ny=np.arange(nyb,nye+1)   #순서시퀀스 할당\n",
        "    y=np.convolve(x,h)    #컨볼루션 출력\n",
        "    return ny,y\n"
      ],
      "metadata": {
        "id": "CE29j1KTjmHR"
      },
      "execution_count": null,
      "outputs": []
    },
    {
      "cell_type": "code",
      "source": [
        "nx=np.arange(-3,4)\n",
        "nh=np.arange(-1,6)\n",
        "xn=np.array([3,11,7,0,-1,4,2])\n",
        "hn=np.array([0,-1,0,1,2,3,0])\n",
        "\n",
        "n,y=convolve_m(nx,xn,nh,hn)\n",
        "print(\"y(n)=x(n)*h(n)=\",y); print(\"n=\",n)\n",
        "\n",
        "plt.subplot(3,1,1); plt.stem(nx,xn,\"blue\"); plt.grid()\n",
        "plt.title(\"Convolution, y(n)=x(n)*h(n)\"); plt.ylabel(\"x(n)\"); plt.ylim(-2,12)\n",
        "plt.subplot(3,1,2); plt.stem(nh,hn,\"blue\"); plt.grid()\n",
        "plt.ylabel(\"h(n)\"); plt.ylim(-6,5)\n",
        "plt.subplot(3,1,3); plt.stem(n,y,\"blue\"); plt.grid()\n",
        "plt.xlabel(\"n\"); plt.ylabel(\"y(n)\")\n"
      ],
      "metadata": {
        "colab": {
          "base_uri": "https://localhost:8080/",
          "height": 527
        },
        "id": "eHSld_19kBRf",
        "outputId": "a53f3ed2-aa02-46d7-a1c0-e63d7a43d612"
      },
      "execution_count": null,
      "outputs": [
        {
          "output_type": "stream",
          "name": "stdout",
          "text": [
            "y(n)=x(n)*h(n)= [  0  -3 -11  -4  17  39  43  18   2   7  16   6   0]\n",
            "n= [-4 -3 -2 -1  0  1  2  3  4  5  6  7  8]\n"
          ]
        },
        {
          "output_type": "execute_result",
          "data": {
            "text/plain": [
              "Text(0, 0.5, 'y(n)')"
            ]
          },
          "metadata": {},
          "execution_count": 3
        },
        {
          "output_type": "display_data",
          "data": {
            "text/plain": [
              "<Figure size 640x480 with 3 Axes>"
            ],
            "image/png": "[encoded data removed]"
          },
          "metadata": {}
        }
      ]
    }
  ]
}