{
  "nbformat": 4,
  "nbformat_minor": 0,
  "metadata": {
    "colab": {
      "provenance": [],
      "toc_visible": true,
      "include_colab_link": true
    },
    "kernelspec": {
      "name": "python3",
      "display_name": "Python 3"
    },
    "language_info": {
      "name": "python"
    }
  },
  "cells": [
    {
      "cell_type": "markdown",
      "metadata": {
        "id": "view-in-github",
        "colab_type": "text"
      },
      "source": [
        "<a href=\"https://colab.research.google.com/github/jwlee95/DSP_Class2025/blob/main/Ch04_%EC%97%B0%EC%86%8D%EC%8B%A0%ED%98%B8%EC%9D%98_%EB%94%94%EC%A7%80%ED%84%B8%EC%B2%98%EB%A6%AC.ipynb\" target=\"_parent\"><img src=\"https://colab.research.google.com/assets/colab-badge.svg\" alt=\"Open In Colab\"/></a>"
      ]
    },
    {
      "cell_type": "markdown",
      "source": [
        "# Chapter 4: 연속 신호의 디지털 처리 (Digital  Processing  of  Analog  Signal)"
      ],
      "metadata": {
        "id": "-Wp2mZwYvNNS"
      }
    },
    {
      "cell_type": "markdown",
      "source": [
        "## 4.1 연속 신호의 디지털 처리 시스템"
      ],
      "metadata": {
        "id": "mQMDowcMvZhb"
      }
    },
    {
      "cell_type": "markdown",
      "source": [
        "### 연속 신호의 디지털 처리 시스템\n",
        "\n",
        "- 연속 신호의 디지털 처리  \n",
        "  - 신호/정보의 취급 형태는 아날로그에서 디지털로 급속히 변화함  \n",
        "  - 그러나 대상 신호들은 대부분 연속임  \n",
        "  (예) 핸드폰, audio/vidio CD  \n",
        "  - A/D & D/A 변환과 부수적인 작업(전처리&후처리) 필요\n",
        "\n",
        "<center>\n",
        "<img src='https://drive.google.com/uc?export=download&id=1MGu0BqlrRCxFPf5hI8o21JRS3F5c3GP3' width=\"700\" height =\"\" /><br>\n",
        "\n",
        "<img src='./images/그림4-1.png' width=\"700\" height =\"\" /><br>\n",
        "\n",
        "[그림 4-1 전형적인 연속 신호의 디지털 처리 시스템]()"
      ],
      "metadata": {
        "id": "lbPsID5yvcAK"
      }
    },
    {
      "cell_type": "markdown",
      "source": [
        "---\n",
        "- 전처리 필터\n",
        "  - 반주파수중첩(antialiasing) 필터  \n",
        "  - 샘플링에 앞서 신호의 주파수 범위를 제한  \n",
        "   → 주파수중첩 현상 & 신호 왜곡 최소화  \n",
        "   → 입력 신호 중에 주파수가 이상인 성분들을 충분히 감쇠시킴  \n",
        "\n",
        "  - 신호에 섞여 들어오는 고주파 잡음이나 간섭 신호의 영향을 배제    \n",
        "\n",
        "  (예) 디지털 전화\n",
        "    - 음성 신호를 보통 8000[Hz]의 샘플링 주파수로 샘플링  \n",
        "    - 통화 품질을 보장에는 3000[Hz]이하의 주파수 성분들만으로도 충분  \n",
        "    → 통과대역 3000[Hz], 천이대역 400~500[Hz], 저지대역 3500[Hz]\n"
      ],
      "metadata": {
        "id": "UHo2HJnLv9ek"
      }
    },
    {
      "cell_type": "markdown",
      "source": [
        "---\n",
        "- 아날로그/디지털(Analog-to-Digital : A/D) 변환  \n",
        "  - 연속 신호를 디지털 신호로 바꾸는 동작  \n",
        "  - **샘플링 + 양자화 + 부호화** , 세 과정으로 구성\n",
        "<center>\n",
        "<img src='https://drive.google.com/uc?export=download&id=1MIJwDpTvfWScS0xH71x-HscXo8NoWY80' width=\"700\" height =\"\" /><br>  \n",
        "\n",
        "<img src='./images/그림4-2.png' width=\"700\" height =\"\" /><br>  \n",
        "\n",
        "[그림 4-2 연속 신호의 A/D 변환]()\n"
      ],
      "metadata": {
        "id": "D_D1UsUPwY3P"
      }
    },
    {
      "cell_type": "markdown",
      "source": [
        "- 샘플링 (`Sampling`)  \n",
        "  - 연속 신호를 시간 간격을 두고 순시값들을 취하여 이산 신호로 바꿈  \n",
        "  - 특정 시간마다 신호 선로 스위치를 닫았다 여는 동작으로 간주 가능  \n",
        "  - 샘플링 주파수, 즉 샘플링 간격의 적절한 선정이 중요\n",
        "```  \n",
        "  Q) 샘플링에 의한 이산 신호를 원래의 연속 신호로 되돌릴 수 있는가?\n",
        "```  \n",
        "- 양자화 (`Quantization`)  \n",
        "  - 이산 신호를 크기에 대해 이산화시켜 디지털 신호로 변환  \n",
        "  - $2^{B+1}$($B+1$비트)개의 레벨로 나누어 실제 값 대신 가까운 레벨 값 대치   \n",
        "  - 양자화 오차 발생  \n",
        "   → ***성능 저하 및 오버플로우 등에 의한 작동 불능의 원인이 됨***\n",
        "  - 비트수를 늘리면 양자화 오차 감소 가능하나 현실적 제약이 따름\n",
        "\n",
        "- 부호화 (`Coding`)  \n",
        "  - 디지털 신호를 디지털 시스템이 처리할 수 있는 '이진부호`binary code`'로 만듬  \n",
        "  - 이진 코드는 잡음과 유동의 영향을 최소화할 수 있음   \n",
        "  - 데이터 압축, 보안성 강화, 오류 검출 및 정정 등의 기능을 부가 가능\n"
      ],
      "metadata": {
        "id": "l-EYbsXmw2Oz"
      }
    },
    {
      "cell_type": "markdown",
      "source": [
        "---\n",
        "- 디지털 시스템 (`Digital system`)\n",
        "  - 목적에 알맞게 H/W와 S/W를 이용하여 처리 수행 → 디지털 신호 출력  \n",
        "  - 처리 목적, 신호 대역폭, 처리 속도, 기억 용량 등 여러 요인 감안 선정\n",
        "\n",
        "- 디지털/아날로그 (`Digital-to-Analog : D/A`) 변환  \n",
        "  - 디지털 시스템의 처리 결과를 다시 아날로그 신호로 되돌리는 동작  \n",
        "  - A/D변환의 역동작  \n",
        "  - 복호화+복원의 두 과정으로 구성  \n",
        "   → 양자화의 역과정은 불필요  \n",
        "   → 복호화는 유한개의 비트로 표현된 이진 코드를 수치로 바꾸기 때문\n",
        "\n",
        "- 복호화 (`Decoding`)\n",
        "  - 부호화의 역동작으로서 이진 코드를 수치로 바꾸어 이산 신호를 만듦  \n",
        "  - 부호화에서 채용했던 원리를 정반대로 적용\n",
        "\n",
        "- 신호 복원 (`Signal reconstruction')\n",
        "  - 샘플링의 역동작으로 이산 신호를 연속 신호로 바꿈  \n",
        "  - 이론적으로는 신호의 완전 복원이 가능하지만 물리적으로는 불가능  \n",
        "  - 보통 0차 홀드를 이용하여 허용 오차 범위 내에서 근사적으로 복원\n",
        "\n",
        "- 후처리 필터 (`Post-processing Filter`)\n",
        "  - 허상 제거(`anti-imaging`) 또는 평활화(`smoothing`) 필터  \n",
        "  - 신호 파형을 평활하게 하기 위한 아날로그 필터  \n",
        "  - D/A변환 과정에서 발생하는 불필요한 과도 응답을 제거  \n",
        "  - 각지고 불연속적인 신호 파형을 매끄럽게 함\n"
      ],
      "metadata": {
        "id": "_TWh0DpQyIHz"
      }
    },
    {
      "cell_type": "markdown",
      "source": [
        "---\n",
        "## 4.2 샘플링 (`Sampling`)"
      ],
      "metadata": {
        "id": "uTMkMlkl0fyR"
      }
    },
    {
      "cell_type": "markdown",
      "source": [
        "### 샘플링 (`Sampling`)\n",
        "\n",
        "- 샘플링 (`Sampling`)  \n",
        "  - 연속신호를 특정 순간의 순시값들을 취하여 정렬된 수열로 표현  \n",
        "   $ X(t) \\rightarrow x(t_0), x(t_1), x(t_2), \\dots$     \n",
        "  - 보통 일정한 시간 간격으로 샘플링 → `uniform sampling`  \n",
        "   $$T_s = \\frac{1}{f_s} = \\frac{2\\pi}{\\omega_s} \\text{: 샘플링 주기} $$\n",
        "\n",
        "- 샘플링할 때의 고려 사항  \n",
        "  - 샘플에 대해 디지털 시스템이 처리할 수 있는 시간이 보장되어야 함  \n",
        "  - 샘플링에 의해 얻은 이산 신호가 연속 신호의 특성을 잘 보존해야 함  \n",
        "  - (이론적으로)정보 손실 없이 원래의 연속 신호로 복원될 수 있어야 함\n",
        "\n"
      ],
      "metadata": {
        "id": "qzVJdsJE0sxt"
      }
    },
    {
      "cell_type": "markdown",
      "source": [
        "---\n",
        "### 정현파 신호의 샘플링\n",
        "\n",
        "- 정현파 신호의 샘플링  \n",
        "$$ x(t) = A \\cos \\omega_0 t \\\\ \\Rightarrow x[n]=x(nT_s)=A \\cos(\\omega_0 nT_s ) = A \\cos \\Omega_0 n\n",
        "$$\n",
        "\n",
        "- 샘플링된 정현파 신호의 모호성  \n",
        "  - $\\Omega (= \\omega T_s)$: (디지털) 각주파수로서 단위 인 차원이 없는 양   \n",
        "  - 샘플링에 의한 이산 신호는 단순한 수열로서 시간 척도 정보를 상실  \n",
        "   → 샘플값들 사이를 연결하는 함수에 대한 직접적인 정보가 없음  \n",
        "   → $x[n]$은 샘플링 주기에 대한 정보를 전하지 않음  \n",
        "  - $\\Omega$가 같아지는 $\\omega$ 와 $T_s$의 조합은 무수히 많음  \n",
        "   → 하나의 샘플 집합을 만들 수 있는 연속 신호는 무한히 많음  \n",
        "   → 부가 정보가 있어야만 샘플 신호를 특정한 연속 신호와 결부 가능\n"
      ],
      "metadata": {
        "id": "860nLe0a1s_O"
      }
    },
    {
      "cell_type": "markdown",
      "source": [
        "---\n",
        "<center>\n",
        "<img src='https://drive.google.com/uc?export=download&id=1MJGt466Q-sV5GDQbEUR8VDggxO5aMuGC' width=\"600\" height =\"\" /><br>    \n",
        "\n",
        "<img src='./images/EX4-1.png' width=\"600\" height =\"\" /><br>    \n",
        "\n",
        "\n",
        "<img src='https://drive.google.com/uc?export=download&id=1MKC8mV-jkMgjf8MbFfwMcujITgbdZukw' width=\"600\" height =\"\" /><br>   \n",
        "\n",
        "<img src='./images/EX4-1-1.png' width=\"600\" height =\"\" /><br>  \n",
        "\n",
        "---"
      ],
      "metadata": {
        "id": "PSZbAEUo3PnG"
      }
    },
    {
      "cell_type": "markdown",
      "source": [
        "- 정현파의 $2\\pi$-주기성과 앨리어스  \n",
        "  - 샘플링 주기가 동일해도 앨리어스에 의한 샘플링 신호의 모호성 존재  \n",
        "  - 샘플링에 의한 이산 신호는 단순한 수열로서 시간 척도 정보를 상실  \n",
        "   → 정현파의 𝟐𝝅-주기성 때문에 발생\n",
        "$$  \\cos \\theta = \\cos( \\theta + 2\\pi k), \\;\\; k= \\dots,-1,0,1, \\dots\n",
        "$$\n",
        "  - $T_s (f_s)$를 같게 해도 수많은 정현파로부터 같은 이산 신호를 얻음\n"
      ],
      "metadata": {
        "id": "fAvzgavp31ZV"
      }
    },
    {
      "cell_type": "markdown",
      "source": [
        "- 앨리어스 (`Alias`)\n",
        "  - 원 신호 주파수 $f_0$에 샘플링 주파수 $f_s$  의 정수배를 더한 주파수인 $ f_0 + l f_s \\; (l=0,\\pm1, \\pm2)$를 갖는 신호  \n",
        "  - $f_s$로 샘플링하면 앨리어스들은 모두 동일한 수열(이산 신호)이 됨   \n",
        "\n",
        "$$\n",
        "\\begin{align*}\n",
        "\\cos ( 2\\pi (f_0 + lf_s)nT_s) &= \\cos( 2\\pi f_0 nT_s + 2\\pi lnf_s T_s) \\\\\n",
        " &= \\cos( 2\\pi f_0 nT_s + 2\\pi ln)  \\\\\n",
        " &= \\cos( 2\\pi f_0 nT_s)\n",
        "\\end{align*}\n",
        "$$\n",
        "\n",
        "\n",
        "<center>\n",
        "<img src='https://drive.google.com/uc?export=download&id=1MKOubW6dxJIoa0KPI_UsSwMCdtQ57c7g' width=\"700\" height =\"\" /><br>    \n",
        "\n",
        "<img src='./images/그림4-4.png' width=\"700\" height =\"\" /><br>   \n",
        "\n",
        "\n"
      ],
      "metadata": {
        "id": "6Z766D5-4i1g"
      }
    },
    {
      "cell_type": "markdown",
      "source": [
        "---\n",
        "### 임펄스 샘플링 모델과 샘플링 정리  \n",
        "\n",
        "- 임펄스 샘플링 모델 - 샘플링의 수학적 전개  \n",
        "  - 샘플링을 무한 임펄스 열 $p(t)$를 $x(t)$에 곱하는 변조 동작으로 모델링\n",
        "$$ p(t) = \\sum_{k=-\\infty}^{\\infty} \\delta (t-kT_s)  \\\\\n",
        "x_s(t) =x(t)p(t) = x(t) \\sum_{k=-\\infty}^{\\infty} \\delta (t-kT_s) = \\sum_{k=-\\infty}^{\\infty} x(kT_s) \\delta (t-kT_s)\n",
        "$$\n",
        "\n",
        "<center>\n",
        "<img src='https://drive.google.com/uc?export=download&id=1MLHhwC-mPHzPq28EtgTzlvWqRhHVnSTX' width=\"700\" height =\"\" /><br>   \n",
        "\n",
        "<img src='./images/그림4-5.png' width=\"700\" height =\"\" /><br>  \n",
        "\n"
      ],
      "metadata": {
        "id": "fSkwXmBV6R-9"
      }
    },
    {
      "cell_type": "markdown",
      "source": [
        "- 임펄스 샘플링 모델 - 샘플링의 수학적 전개  \n",
        "  - $p(t)$는 주기 신호이므로 푸리에 급수로 전개하면  \n",
        "$$ p(t) = \\frac{1}{T_s} ( 1 + 2\\cos \\omega_s t + 2 \\cos 2\\omega_s t + 2 \\cos 3\\omega_s t + \\dots )  \\\\\n",
        "x(t) = \\frac{1}{T_s} ( x(t) + 2 x(t)\\cos \\omega_s t + 2 x(t) \\cos 2\\omega_s t +  \\ dots )\n",
        "$$\n",
        "  - 이를 푸리에 변환하면\n",
        "$$\n",
        "\\begin{align}\n",
        "X_s ( \\omega) &= \\frac{1}{T_s} ( X(\\omega) + X(\\omega - \\omega_s) + X(\\omega + \\omega_s) + X(\\omega - 2\\omega_s) + X(\\omega + 2\\omega_s)  \\dots ) \\\\\n",
        " &=  \\frac{1}{T_s} \\sum_{k=-\\infty}^{\\infty} X(\\omega - k\\omega_s)\n",
        "\\end{align}\n",
        "$$\n",
        "\n",
        "- 샘플링의 효과  \n",
        "  - 주파수 스펙트럼이 $\\omega_s$의 정수배마다 무한 반복됨     \n",
        "  → **샘플링을 하면 (이산 신호) 스펙트럼이 주기 함수!**   \n",
        "  → 주파수 스펙트럼의 크기는 $\\frac{1}{T_s}$배가 됨\n",
        "\n",
        "\n",
        "\n",
        "\n"
      ],
      "metadata": {
        "id": "GU95nNXj7cs-"
      }
    },
    {
      "cell_type": "markdown",
      "source": [
        "---\n",
        "- 임펄스 샘플링 전개의 시사점  \n",
        "  - 전제 : $x(t)$가 대역제한 신호  \n",
        "  - 시사점 : 주파수 스펙트럼 $X(\\omega)$가 $\\omega_s$의 정수배마다 무한 반복되므로   \n",
        "\n",
        "    ① 반복되는 주파수 스펙트럼이 겹치지 않으면($\\omega_b \\lt \\omega_s /2$) LP 필터를\n",
        "    사용하여 기저대역(base band)의 스펙트럼만 추출한 뒤 증폭기로 $T_s$배 만큼 증폭함으로써 정확하게 신호 $x(t)$를 복원할 수 있음      \n",
        "\n",
        "    ② 반복되는 주파수 스펙트럼이 서로 겹치면($\\omega_b \\gt \\omega_s /2$), 즉 주파수 중첩(`aliasing`)이 발생하면 LP 필터를 이용하여 를 복원하지 못함\n",
        "\n",
        "    ∴ **샘플링의 필요 조건 = $ \\omega_s \\ge 2 \\omega_b \\;( f_s \\ge 2 f_b )$**\n",
        "\n",
        "     **$\\Rightarrow $ 섀넌(Shannon)의 샘플링 정리**\n"
      ],
      "metadata": {
        "id": "-E1oKXvauWki"
      }
    },
    {
      "cell_type": "markdown",
      "source": [
        "---\n",
        "- 섀넌의 샘플링 정리\n",
        "\n",
        "<center>\n",
        "<img src='https://drive.google.com/uc?export=download&id=1ML__OH1BjojdyVZwFbe8CAo_a6RuH_EW' width=\"600\" height =\"\" /><br>   \n",
        "\n",
        "<img src='./images/그림4-새넌샘플링정리.png' width=\"600\"  /><br>  \n",
        "\n",
        " <img src='https://drive.google.com/uc?export=download&id=1MYyivUSMrzO6Tb0ozNGL53IRJwqZelaI' width=\"400\" height =\"\" /><br>   \n",
        "\n",
        " <img src='./images/그림4-6.png' width=\"400\" height =\"\" /><br>  \n",
        "\n",
        " <img src='https://drive.google.com/uc?export=download&id=1MQdrKd2sbaxvx6TAjaP3iqzqrkysp5bZ' width=\"600\" height =\"\" /><br>  \n",
        "\n",
        " <img src='./images/그림4-6-1.png' width=\"600\" height =\"\" /><br>\n"
      ],
      "metadata": {
        "id": "a9hEmAADwPHa"
      }
    },
    {
      "cell_type": "markdown",
      "source": [
        "---\n",
        "## 4.3 주파수중첩 (`aliasing`)"
      ],
      "metadata": {
        "id": "84JRXm0Exvv9"
      }
    },
    {
      "cell_type": "markdown",
      "source": [
        "### 주파수중첩 (`aliasing`)  \n",
        "\n",
        "- 과샘플링과 신호 복원  \n",
        "  - 샘플링 주파수가 나이퀴스트 주파수보다 크면($0 \\le f_0 \\le f_s /2$), 완전 복원 가능  \n",
        "  - $|f_0 + l f_s | \\ge f_0$이므로 앨리어스들 중에서 가장 낮은 주파수는 $f_0$       \n",
        "  → 저역통과 필터로 복원되는 신호는 주파수가 $f_0$인 원래의 정현파\n",
        "\n",
        "- (광의의) 주파수중첩 현상  \n",
        "  - 부족샘플링(섀넌의 샘플링 정리를 불만족) 경우에 발생  \n",
        "  - 샘플링에 의해 반복되는 스펙트럼이 서로 겹쳐서 신호의 왜곡 발생  \n",
        "  - (협의의) 주파수중첩(`aliasing`) + 주파수 꺾기(`folding`)  \n",
        "  - 정현파의 경우 LP 필터에 의한 복원시 원래보다 낮은 주파수로 복원      \n",
        " ∵ 스펙트럼의 겹침으로 인해 기저대역에 더 낮은 주파수 앨리어스의 스펙트럼이 생성됨  \n",
        "  - 저역통과 필터에 의한 복원 신호의 주파수는 결코 $f_s$보다 클 수 없음\n",
        "> $$f_r =f_0 \\text{ mod } f_s, \\; -f_s /2 \\le f_r \\le f_s /2\n",
        "$$\n",
        "\n",
        "    → 원주파수 : 복원주파수 그래프는 $ 0 \\le f_0 \\le f_s$ 패턴이 주기 $f_s$로 반복,   \n",
        "    즉 주파수 중첩과 주파수 꺾기가 교대로 반복되는 패턴을 보임\n",
        "\n",
        "- (협의의) 주파수 중첩 (`aliasing`)\n",
        "  - 양의 주파수 $f_0$의 앨리어스와 관련되는 주파수 스펙트럼의 겹침 현상\n",
        "    \n",
        "- 주파수 꺾기 (`folding`)\n",
        "  - 음의 주파수 $-f_0$의 앨리어스와 관련되는 주파수 스펙트럼의 겹침 현상\n"
      ],
      "metadata": {
        "id": "eYx8_vtYyYTh"
      }
    },
    {
      "cell_type": "markdown",
      "source": [
        "---\n",
        "<center>\n",
        "<img src='https://drive.google.com/uc?export=download&id=1MbCV5VAuLPU_ymT-3yp4rncH2kqZ1h_B' width=\"600\" height =\"\" /><br>    \n",
        "\n",
        "<img src='./images/EX4-2.png' width=\"600\" height =\"\" /><br>   \n",
        "\n",
        "<img src='https://drive.google.com/uc?export=download&id=1MhAVeioA0pVMNZ-vY8VBhIblK72-chjf' width=\"700\" height =\"\" /><br>  \n",
        "\n",
        "<img src='./images/EX4-2-1.png' width=\"700\" height =\"\" /><br>\n",
        "\n",
        "<img src='https://drive.google.com/uc?export=download&id=1MdLP5zeMY6SIK1MKr5LJYXVimeyiGsT6' width=\"700\" height =\"\" /><br>  \n",
        "\n",
        "<img src='./images/EX4-2-2.png' width=\"700\" height =\"\" /><br>  \n",
        "\n",
        " ---"
      ],
      "metadata": {
        "id": "fCOUJ_4A1V_t"
      }
    },
    {
      "cell_type": "markdown",
      "source": [
        "## 4.4 신호 복원"
      ],
      "metadata": {
        "id": "Lx_24aD23Apd"
      }
    },
    {
      "cell_type": "markdown",
      "source": [
        "### 신호 복원  \n",
        "\n",
        "- 과샘플링과 신호 복원  \n",
        "  - 샘플링된 신호로부터 원래의 연속 신호로 되돌아가는 과정  \n",
        "  → 수학적으로는 샘플값으로부터 샘플들 사이의 값을 근사적으로 찾아내는 보간 문제\n",
        "\n",
        "  - 이론적으로는 정보의 손실이 전혀 없는 신호의 완전 복원 가능함  \n",
        "  → 샘플링 정리 만족 대역제한 신호의 경우 이상적인 LP 필터 사용\n",
        "\n",
        "  - 실제적으로는 무손실 완전 복원은 불가능함  \n",
        "   ① 물리적으로 이상적인 저역 통과 필터를 만들 수 없음  \n",
        "   ② 실제 신호는 시간 영역에서 유한 구간 신호  \n",
        "      → 대역 제한되지 않음  \n",
        "      → 어떠한 샘플링 주파수로 샘플링하더라도 주파수 중첩이 발생  \n",
        "      → 이상적인 LP 필터라도 정보 손실이 있는 왜곡된 신호로 복원됨  \n",
        "      (예) 유한 구간 사각 펄스의 스펙트럼 → sinc 함수로 대역 무한대임  \n",
        "\n",
        "  - 샘플링률을 충분히 높이면 정보의 손실이 작은 신호 복원이 가능함  \n",
        "   ∵ 샘플링률 높일수록 스펙트럼 반복 간격이 커져 중첩 부분 비중이 줄어 듬  \n",
        "      → 날카로운 차단 특성을 갖는 LP 필터로 손실을 줄일 수 있음\n",
        "\n",
        "  - 유한 구간 특성으로 인한 주파수중첩 현상은 반주파수중첩 필터를 샘플링 수행 전에 적용  \n",
        "   → 유효에너지 성분을 포함 주파수까지로 대역 제한  \n",
        "\n",
        "  - LP 필터를 이용한 복원 과정은 주파수 영역에서 다음과 같이 표현됨  \n",
        "$$ X_r ( \\omega ) = X_s ( \\omega )H( \\omega )\n",
        "$$\n",
        "  - 푸리에 변환의 성질에 의해 시간영역에서는 컨벌루션으로 표현됨\n",
        "$$ x_r (t) = x_s (t) \\ast h(t) = \\sum_{k=-\\infty}^{\\infty} x(kT_s) h(t-kT_s )\n",
        "$$   \n"
      ],
      "metadata": {
        "id": "gmavEWLy3gYv"
      }
    },
    {
      "cell_type": "markdown",
      "source": [
        "---\n",
        "### 이상적인 신호 복원(대역 제한 보간)  \n",
        "\n",
        "- 신호의 완전 복원 - 대역 제한 보간법  \n",
        "  - 신호 $x(t)$가 대역제한 & 샘플링 정리 만족할 경우의 이론적인 복원  \n",
        "  LPF의 임펄스 응답 :\n",
        "  $$ h(t) = T_s \\frac{\\omega_c}{\\pi} \\text{sinc} \\left( \\frac{\\omega_c t}{\\pi}  \\right) $$    \n",
        "$$ \\therefore  x_r (t) = \\sum_{k=-\\infty}^{\\infty} x(kT_s) \\cdot T_s \\frac{\\omega_c t}{\\pi} \\text{sinc} \\left( \\frac{\\omega_c (t-kT_s)}{\\pi}  \\right)                \n",
        "$$  \n",
        "  - 신호의 복원에 사용되는 sinc함수는 무한 시간함수  \n",
        "   → 임의의 에서 정확한 신호 복원을 위해서는 모든 시간 샘플 필요  \n",
        "   → 실질적으로는 이를 이용한 신호의 복원은 불가능  \n",
        "   → $H(\\omega)$ 또는 $h(t)$를 좀 더 단순한 형태를 사용하여 근사화하여 해결   \n",
        "\n",
        "<center>\n",
        "<img src='https://drive.google.com/uc?export=download&id=1Ml5Wd7-uRMwjsTigGE3Fg5yjFZdQqaCc' width=\"700\" height =\"\" /><br>  \n",
        "\n",
        "<img src='./images/그림4-9.png' width=\"700\" height =\"\" /><br>\n",
        "\n"
      ],
      "metadata": {
        "id": "qWvy7doE8oKw"
      }
    },
    {
      "cell_type": "markdown",
      "source": [
        "---\n",
        "### 영차 홀드(`Zero order hold`)를 이용한 신호 복원\n",
        "\n",
        "- 0차 홀드를 이용한 신호의 복원  \n",
        "  - 다음 샘플값 발생까지 직전의 샘플값 그대로 유지  \n",
        "  → 이 복원 시스템은 임펄스 응답의 차수가 0이므로 0차 홀드라고 함\n",
        "  \n",
        "  - 가장 단순하면서 실제적이고 일반적인 신호의 복원 방법\n",
        "<center>\n",
        "<img src='https://drive.google.com/uc?export=download&id=1MmIs44mSdqQEiyvG2CyGTzz25xnF77ha' width=\"650\" height =\"\" /><br>   \n",
        "\n",
        "<img src='./images/그림4-9.png' width=\"650\" height =\"\" /><br>\n",
        "</center>\n",
        "\n",
        " - 0차 홀드의 임펄스 응답\n",
        "$$ h_0 (t) = u(t) - u(t-T_s)  \n",
        "$$\n",
        "  - 0차 홀드의 주파수응답 : 이상적 LPF에 대한 거친 근사화로 취급 가능\n",
        "$$ H_0 (\\omega ) = \\frac{1 - e^{-j\\omega T_s}}{j\\omega}\n",
        "$$\n",
        "  - 대역제한 보간의 LPF 임펄스 응답 $h(t)$를 0차 홀드 임펄스 응답 $h_0$로 대체한 것으로 볼 수 있음  \n",
        "$$ x_r (t)  = \\sum_{k=-\\infty}^{\\infty} x(kT_s) h_0(t-kT_s ) = x_s (t) \\ast h_0(t)\n",
        "$$  \n",
        "\n",
        "  - 샘플링율이 충분히 높다면 대체로 만족할만한 신호 복원이 가능함  \n",
        "     ①  $ f_s \\gg f_0$ → 샘플값들 간격이 좁아져 연속신호 파형에 가까워짐   \n",
        "     ②  $ f_s \\gg f_0$ → $H_0 (\\omega)$가 평탄한 저주파 대역에 신호 스펙트럼 놓임   \n",
        "      ∴ 0차 홀드의 필터링 작용이 이상적 LPF와 유사해짐\n",
        "\n"
      ],
      "metadata": {
        "id": "hWH0QOma-xVe"
      }
    },
    {
      "cell_type": "markdown",
      "source": [
        "---  \n",
        "- 0차 홀드 복원과 샘플링 주파수\n",
        "  - 샘플링 주파수가 낮은 경우  \n",
        "  : 기저대역 스펙트럼이 거의 차단주파수 부근까지 위치  \n",
        "    → 영차 홀드 복원 신호 스펙트럼은 통과대역에서 이득이 감쇠하는 영향을 받아 원 신호의 스펙트럼과는 달리 조금 왜곡  \n",
        "    → 샘플링으로 인한 허상들도 전 구간에 걸쳐 무시할 수 없는 크기\n",
        "\n",
        "  - 샘플링 주파수가 높은 경우  \n",
        "  : 기저 대역 스펙트럼이 이득이 평탄한 통과 대역에 위치  \n",
        "     → 기저 대역 스펙트럼의 왜곡이 거의 없음  \n",
        "     → 허상 스펙트럼들도 𝒌𝝎_𝒔를 중심으로 하는 좁은 주파수 대역에 위치  \n",
        "      ∴ 부엽(`sidelob`)의 영향으로 나타나는 고주파 성분도 훨씬 미미해짐\n"
      ],
      "metadata": {
        "id": "tQWZm9laABfq"
      }
    },
    {
      "cell_type": "markdown",
      "source": [
        "---\n",
        "### 선형 보간(일차 홀드)를 이용한 신호 복원\n",
        "\n",
        "- 1차 홀드에 의한 신호 복원 - 선형 보간  \n",
        "  - 인접한 샘플들을 직선으로 연결하여 연속 신호를 얻는 방법  \n",
        "   → 보간 함수로 3각 펄스를 사용한 것과 동일  \n",
        "   → 이 복원 시스템은 임펄스 응답의 차수가 1이므로 1차 홀드라고 함\n",
        "\n",
        "  - 0차 홀드보다는 복잡하지만 비교적 단순 & 쓸모 있는 신호 복원 방법  \n",
        "  - 1차 홀드의 임펄스 응답\n",
        "$$  h_1(t) = \\left\\{\n",
        "\\begin{matrix}\n",
        "\\frac{1}{T_s} + 1, \\;\\; -T_s \\lt t \\lt 0  \\\\\n",
        "-\\frac{1}{T_s} + 1, \\;\\; 0 \\lt t \\lt T_s\n",
        "\\end{matrix}\n",
        "\\right.\n",
        "$$\n"
      ],
      "metadata": {
        "id": "L38Fwg2FDUot"
      }
    },
    {
      "cell_type": "markdown",
      "source": [
        "---\n",
        "- 1차 홀드에 의한 신호 복원 - 선형 보간  \n",
        "  - 1차 홀드의 주파수응답 : 이상적 LPF에 대한 근사화로 취급 가능  \n",
        "   → 0차 홀드 주파수 응답보다 주파수 차단 특성이 좀더 양호  \n",
        "    ∴ 0차 홀드의 경우보다 손실이 적은 신호 복원이 가능함\n",
        "$$ \\begin{align}\n",
        "H_1 (\\omega) &= \\frac{1}{T_s} \\frac{1}{\\omega^2} (1-e^{j\\omega T_s}) + \\frac{1}{T_s} \\frac{1}{\\omega^2} (1-e^{-j\\omega T_s}) \\\\\n",
        "&= T_s \\left( \\frac{ \\sin(\\omega T_s / 2)}{\\omega T_s / 2}\\right)^2\n",
        "= T_s \\text{sinc}^2 \\left( \\frac{\\omega T_s}{2\\pi} \\right)\n",
        "\\end{align}\n",
        "$$\n",
        "  - 대역제한 보간의 LPF 임펄스 응답 $h(t)$를 1차 홀드 임펄스 응답 $h_1(t)$로 대체한 것으로 볼 수 있음\n",
        "$$ x_r (t)  = \\sum_{k=-\\infty}^{\\infty} x(kT_s) h_1(t-kT_s ) = x_s (t) \\ast h_1(t)\n",
        "$$                 \n",
        "  - 샘플링률이 충분히 높다면 큰 정보 손실 없이 원 신호에 가깝게 복원\n"
      ],
      "metadata": {
        "id": "CQunMY8HETi3"
      }
    },
    {
      "cell_type": "markdown",
      "source": [
        "<center>\n",
        "<img src='https://drive.google.com/uc?export=download&id=1Mmrbd0eDNATZfHBYyu0gvXQSWuv3rw1l' width=\"700\" height =\"\" /><br>   \n",
        "\n",
        "<img src='./images/그림4-11.png' width=\"700\" height =\"\" /><br>  \n"
      ],
      "metadata": {
        "id": "nWKg2N-sG0W5"
      }
    },
    {
      "cell_type": "markdown",
      "source": [
        "---  \n",
        "<center>\n",
        "<img src='https://drive.google.com/uc?export=download&id=1Ms4LTDo2pnD5JmncGeI7mq3a13iIvPT5' width=\"700\" height =\"\" /><br>   \n",
        "\n",
        "<img src='./images/EX4-4.png' width=\"700\" height =\"\" /><br>  \n",
        "\n",
        "---\n"
      ],
      "metadata": {
        "id": "LCozK_Z9R0ju"
      }
    },
    {
      "cell_type": "markdown",
      "source": [
        "## 4.5 A/D 변환과 D/A 변환"
      ],
      "metadata": {
        "id": "kkly0gGWSRYE"
      }
    },
    {
      "cell_type": "markdown",
      "source": [
        "### A/D 변환기의 개요\n",
        "\n",
        "- A/D 변환(기)  \n",
        "  - 아날로그 신호를 디지털 신호로 변환하는 과정  \n",
        "   ① 샘플링 : 아날로그 신호를 이산 신호로 변환   \n",
        "   ② 양자화 : 값이 연속적인 이산 신호를 $2^{B+1}$개의 양자화 레벨로 나눔  \n",
        "   ③ 부호화 : $2^{B+1}$개의 양자화 레벨에 대해 이진 부호를 생성하는 과정\n",
        "\n",
        "  - 샘플/유지기와 양자화/부호화기는 별도 모듈 또는 한 칩에 존재\n",
        "<center>\n",
        "<img src='https://drive.google.com/uc?export=download&id=1MvftQpKL_1yAA8QjCg0ncYY9HLp1yJu0' width=\"700\" height =\"\" /><br>   \n",
        "\n",
        "<img src='./images/그림4-13.png' width=\"700\" height =\"\" /><br>\n"
      ],
      "metadata": {
        "id": "HuMACXGvSYCm"
      }
    },
    {
      "cell_type": "markdown",
      "source": [
        "---  \n",
        "### 양자화/부호화\n",
        "\n",
        "- 양자화  \n",
        "  - 연속적인 신호 값을 $2^{B+1}$개의 양자화 레벨로 이산화  \n",
        "   → $x[n]$대신에 가장 가까운 양자화 레벨의 값 $x_Q [n]$으로 대치    \n",
        "$$ x_Q [n] = Q(x[n])=x_k, \\;\\; x[n] \\in I_k\n",
        "$$\n",
        "  - 동일 레벨로 환산되는 신호의 연속 값의 범위는 $\\Delta = R/2^{B+1}$       \n",
        "   $R$  : 신호가 가질 수 있는 값의 전 범위  \n",
        "   $B+1$ : 이진 부호의 길이(비트 수)  \n",
        "   $\\Delta$ : 양자화 간격 또는 양자화 해상도(분해능)\n",
        "\n",
        "  - 단극성 ADC : $0 \\le x_Q [n] \\lt R$  \n",
        "  - 양극성 ADC : $ -\\frac{R}{2} \\le x_Q [n] \\lt \\frac{R}{2}$\n",
        "\n",
        "  - 양자화 오차 : 양자화 레벨 값과 실제 신호 값의 차이  \n",
        "$$ e[n] = x_Q [n] - x[n] $$\n",
        "   → 자르기(Rounding) 근사로는 대부분 반올림을 사용함\n",
        "$$ -\\frac{\\Delta}{2} \\le e[n] \\lt \\frac{\\Delta}{2}\n",
        "$$"
      ],
      "metadata": {
        "id": "FfvwB3A0TI-L"
      }
    },
    {
      "cell_type": "markdown",
      "source": [
        "<center>\n",
        "<img src='https://drive.google.com/uc?export=download&id=1N-FYkINzKYP2ckt_yMPv4V6Lv_nxDH3i' width=\"600\" height =\"\" /><br>   \n",
        "\n",
        "<img src='./images/그림4-14.png' width=\"600\" height =\"\" /><br>\n",
        "\n"
      ],
      "metadata": {
        "id": "VSExt8-pV1St"
      }
    },
    {
      "cell_type": "markdown",
      "source": [
        "---\n",
        "- 부호화  \n",
        "  - 양자화 레벨에 대해 디지털 시스템에 적합한 이진 코드를 생성  \n",
        "  - 단극성 : 자연 이진 코드  \n",
        "  - 양극성 : 2의 보수형 코드, 부호부 크기 코드\n",
        "\n",
        "<center>\n",
        "<img src='https://drive.google.com/uc?export=download&id=1N-mcmA7791KQni1BcWqc5UaEspHwPoEf' width=\"600\" height =\"\" /><br>    \n",
        "\n",
        "<img src='./images/그림4-15.png' width=\"600\" height =\"\" /><br>\n",
        "\n",
        "\n",
        "   \n"
      ],
      "metadata": {
        "id": "xvBhX_rWWJM0"
      }
    },
    {
      "cell_type": "markdown",
      "source": [
        "<center>\n",
        "<img src='./images/표4-1.png' width=\"500\" height =\"\" /><br>  \n",
        "\n",
        "<img src='https://drive.google.com/uc?export=download&id=1N2RCuaHqM0Dq5K1TU_cBt6IG52S_rB2B' width=\"500\" height =\"\" /><br>\n",
        "\n"
      ],
      "metadata": {
        "id": "Fxhmj0CcYN1z"
      }
    },
    {
      "cell_type": "markdown",
      "source": [
        "---\n",
        "### 양자화 오차\n",
        "\n",
        "- 양자화 오차  \n",
        "  - 양자화 시 자르기 근사에 의해 발생하는 오차  \n",
        "  - 유한개의 비트로 연속값을 표현하는 데에서 기인함  \n",
        "   → 이진 부호의 비트 수를 증가시켜서 줄일 수 있음\n",
        "  \n",
        "  - 디지털 신호처리 시스템의 성능 저하 및 작동 불능 원인이 될 수 있음  \n",
        "   → 유한 어장(finite word-length) 효과\n",
        "  \n",
        "  - 확률 변수를 이용한 잡음 모델로 표현하여 영향을 분석  \n",
        "\n",
        "<center>\n",
        "<img src='https://drive.google.com/uc?export=download&id=1N52PHf5MujkDo-8--e-vl7IEKAwdYYsG' width=\"600\" height =\"\" /><br>   \n",
        "\n",
        "<img src='./images/그림4-16.png' width=\"600\" height =\"\" /><br>  \n"
      ],
      "metadata": {
        "id": "r1EgycJxYh6P"
      }
    },
    {
      "cell_type": "markdown",
      "source": [
        "---\n",
        "- 양자화 잡음의 신호 대 잡음비(SNR) 분석\n",
        "$$\n",
        "SNR = 10 \\log \\frac{P_x}{P_e}\n",
        "$$\n",
        "  - 양자화 오차의 통계적 성질  \n",
        "  $$   p(e) = \\left\\{\n",
        "\\begin{align}\n",
        "\\frac{1}{\\Delta} &, \\;\\; -\\frac{\\Delta}{2} \\le e[n] \\lt \\frac{\\Delta}{2} \\\\\n",
        "0&, \\;\\; \\text{그 외.}\n",
        "\\end{align}\n",
        "\\right.\n",
        "$$  \n",
        "\n",
        "<center>\n",
        "<img src='https://drive.google.com/uc?export=download&id=1NDuzkr7-nneZbwOmUhnGWACFI_oldGd1' width=\"300\" height =\"\" /><br>   \n",
        "\n",
        "<img src='./images/그림4-4.png' width=\"300\" height =\"\" /><br>  \n",
        "</center>\n",
        "\n",
        "$$ m_e = E \\{ e[n]\\} = \\int_{-\\frac{\\Delta}{2}}^{\\frac{\\Delta}{2}} e \\cdot p(e) \\; de = \\frac{1}{\\Delta} \\int_{-\\frac{\\Delta}{2}}^{\\frac{\\Delta}{2}} e \\; de = \\frac{1}{\\Delta} \\left [ \\frac{1}{2} e^2 \\right ]_{-\\frac{\\Delta}{2}}^{\\frac{\\Delta}{2}} = 0\n",
        "$$  \n",
        "$$ \\sigma_e^2 = E \\{ (e[n] - m_c )^2 \\} = \\int_{-\\frac{\\Delta}{2}}^{\\frac{\\Delta}{2}} e^2 \\cdot p(e) \\; de\n",
        "= \\frac{1}{\\Delta} \\int_{-\\frac{\\Delta}{2}}^{\\frac{\\Delta}{2}} e^2 \\; de\n",
        "= \\frac{\\Delta^2}{12}\n",
        "$$\n",
        "\n"
      ],
      "metadata": {
        "id": "RdlvS2aJZCfB"
      }
    },
    {
      "cell_type": "markdown",
      "source": [
        "---\n",
        "  - $-X_m \\le x[n] \\lt X_m (R=2X_m)$을(양극성 신호) $B+1$비트로 양자화할 경우  \n",
        "$$ \\Delta = \\frac{R}{2^{B+1}} = \\frac{X_m}{2^B}  \\\\\n",
        "P_e = \\sigma_e^2 = \\frac{\\Delta^2}{12} = \\frac{R^2}{12 \\cdot 2^{2^{B+1}}} $$\n",
        "\n",
        "$$\\begin{align}\n",
        "SNR &= 10 \\log \\frac{\\sigma_x^2}{\\sigma_e^2} = 10 \\log \\frac{12 \\sigma_x^2 2^{2^{B+1}}}{R^2}  \\\\\n",
        "&= 16.81 + 6.02B + 20 \\log \\sigma_x - 20 \\log R\n",
        "\\end{align}\n",
        "$$\n",
        ">  양자화기의 동적구간(`dynamic range`) : 6.02B[dB]  →  양자화기의 성능과 직결\n",
        "\n",
        "\n",
        "  - 일반적으로 $\\sigma_x = \\frac{R}{8} \\left( = \\frac{X_m}{4} \\right)$나 $\\sigma_x = \\frac{R}{6} \\left( = \\frac{X_m}{3} \\right)$이므로   \n",
        "$$   SNR = \\left\\{\n",
        "\\begin{align}\n",
        "6.02B - 1.25, \\;\\; \\sigma_x = \\frac{R}{8} \\\\\n",
        "6.02B + 1.25, \\;\\; \\sigma_x = \\frac{R}{6}\n",
        "\\end{align}\n",
        "\\right.\n",
        "$$     "
      ],
      "metadata": {
        "id": "vwGQzSJGZqDs"
      }
    },
    {
      "cell_type": "markdown",
      "source": [
        "---\n",
        "### D/A 변환\n",
        "\n",
        "- D/A 변환  \n",
        "  - B비트 이진부호 $y_n [n] = [ b_0, b_1, \\dots b_B ]$을 이산 신호 $y_Q [n]$으로 변환       \n",
        "  → 변환된 이산 신호는 보통 샘플/유지기(`sample/Hold`)에 의해 연속신호로 변환\n",
        "  \n",
        "  - 단극성 DAC : $0 \\le y_Q [n] \\lt R$  \n",
        "  - 양극성 DAC : $ -\\frac{R}{2} \\le y_Q [n] \\lt \\frac{R}{2}$  \n",
        "\n",
        "<center>\n",
        "<img src='https://drive.google.com/uc?export=download&id=1NJzlx-Sn5gssy1rZ4dA1XQWKH-9GQeWk' width=\"600\" height =\"\" /><br>   \n",
        "\n",
        "<img src='./images/그림4-18.png' width=\"600\" height =\"\" /><br>  \n",
        "\n"
      ],
      "metadata": {
        "id": "TL6VHyKq2_y9"
      }
    },
    {
      "cell_type": "markdown",
      "source": [
        "  - DAC의 입력신호 $y_b [n]$과 출력신호 $y_Q [n]$의 관계는 변환기의 종류와 이진 부호화 방법 등에 따라 달라짐  \n",
        "    - 단극성 자연 이진 부호화 ($0 \\le y_Q [n] \\lt R$)  \n",
        "$$\\begin{align}\n",
        "y_Q [n] &= [ (b_0 2^{-1} + b_1 2^{-2} + \\dots b_B 2^{-(B+1)} ) R ]_{10} \\\\\n",
        "&= [ (b_0 2^{B} + b_1 2^{B-1} + \\dots b_B 2^0 ) R 2^{-(B+1)} ]_{10}  \\\\\n",
        "&= [ (b_0 2^{B} + b_1 2^{B-1} + \\dots b_B 2^0 ) \\Delta ]_{10}\n",
        "\\end{align}\n",
        "$$\n",
        "    - 양극성 2의 보수형 부호화 ($-R/2 \\le y_Q [n] \\lt R/2$)  \n",
        "$$\n",
        "y_Q [n] = \\left [ ( -b_0 2^0 + b_1 2^{-1} + b_2 2^{-2} + \\dots b_B 2^{-B)} ) \\frac{R}{2} \\right ]_{10}\n",
        "$$\n",
        "    - 양극성 부호화 크기 부호화 ($-R/2 \\le y_Q [n] \\lt R/2$)     \n",
        "$$\n",
        "y_Q [n] = \\left [ (-1)^{b_0} ( b_1 2^{-1} + b_2 2^{-2} + \\dots b_B 2^{-B} ) \\frac{R}{2} \\right ]_{10}\n",
        "$$    "
      ],
      "metadata": {
        "id": "2QDlS-ar5C0F"
      }
    },
    {
      "cell_type": "markdown",
      "source": [
        "<center>\n",
        "\n",
        "<img src='https://drive.google.com/uc?export=download&id=1NK74zN4D-WYV0zXJ6ZeLQUmHFeZy-vqL' width=\"400\" height =\"\" /><br>  \n",
        "\n",
        "<img src='./images/그림4-19.png' width=\"400\" height =\"\" /><br>  \n",
        "\n"
      ],
      "metadata": {
        "id": "CQu7_hmf5d0X"
      }
    },
    {
      "cell_type": "markdown",
      "source": [
        "---\n",
        "## Q&A  \n"
      ],
      "metadata": {
        "id": "ucr-XrrExiSW"
      }
    }
  ]
}