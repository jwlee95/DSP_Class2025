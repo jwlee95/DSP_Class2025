{
  "cells": [
    {
      "cell_type": "markdown",
      "metadata": {
        "id": "view-in-github",
        "colab_type": "text"
      },
      "source": [
        "<a href=\"https://colab.research.google.com/github/jwlee95/DSP_Class2025/blob/main/Ch08_z_%EB%B3%80%ED%99%98.ipynb\" target=\"_parent\"><img src=\"https://colab.research.google.com/assets/colab-badge.svg\" alt=\"Open In Colab\"/></a>"
      ]
    },
    {
      "cell_type": "markdown",
      "metadata": {
        "id": "9whVuMAX1vud"
      },
      "source": [
        "# CHAPTER 08 :  $z$-변환(Transform)"
      ]
    },
    {
      "cell_type": "markdown",
      "metadata": {
        "id": "wxEv0UZ-2Cw1"
      },
      "source": [
        "## 8.1 $z$-변환의 개념과 정의\n",
        "\n",
        "### 8.1.1 $z$-변환의 정의\n",
        "\n",
        "$$\n",
        "\\begin{align*}\n",
        "X(z) & = \\dots + x[-1]\\;z^1 + x[0] \\; z^0 + x[1]\\;z^{-1} + \\dots + x[n] \\; z^{-n} + \\dots \\\\\n",
        "  & = Z \\{ x[n]  \\} =  \\sum_{n=-\\infty}^{\\infty} x[n]z^{-n}\\\\\n",
        "\\end{align*}\n",
        "$$   \n",
        "\n",
        "$$\n",
        "x[n] = Z^{-1} \\{ X(z) \\} = \\frac{1}{2\\pi j} \\oint_{\\Gamma} X(z) z^{n-1} dz\n",
        "$$\n",
        "\n",
        "- (단방향) $z$변환\n",
        "$$\n",
        "X(z) =  \\sum_{n=0}^{\\infty} x[n]z^{-n}\n",
        "$$\n",
        "  - 적용대상 : 인과적 신호 및 시스템\n",
        "\n",
        "- 양방향 $z$변환\n",
        "$$\n",
        "X(z) =  \\sum_{n=-\\infty}^{\\infty} x[n]z^{-n}\n",
        "$$\n",
        "  - 적용대상 : 비인과적 신호 및 시스템에까지 확장\n",
        "\n",
        "\n",
        "\n"
      ]
    },
    {
      "cell_type": "markdown",
      "metadata": {
        "id": "ZjguSxHV-lSg"
      },
      "source": [
        "### 𝒛 변환과 이산 시간 푸리에 변환(DTFT)과의 관계\n",
        "\n",
        "$$\n",
        "\\text{DTFT} = X(\\Omega) = \\sum_{n=0}^{\\infty} x[n]e^{-j\\Omega n}\n",
        "  =  \\left. \\sum_{n=0}^{\\infty} x[n]z^{-n} \\right|_{z=e^{j\\Omega}}\n",
        "$$\n",
        "$\\rightarrow z=e^{j\\Omega}$로 두면 $z$ 변환과 동일함.\n",
        "\n",
        "- DTFT는 z변환을 z평면의 단위원 상에서 값을 취한 경우에 해당함."
      ]
    },
    {
      "cell_type": "markdown",
      "metadata": {
        "id": "2JqAXtSeAgjj"
      },
      "source": [
        "### 𝒛 변환의 의미\n",
        "- 푸리에 해석에 기반을 준 주파수 영역 해석 ($z=e^{j\\Omega}$)  \n",
        "- 이산(시간)계에 대해 연속(시간)계의 Laplace변환과 동일한 역할\n",
        "  - 푸리에 표현에 비해 표현이 간결 & 더 일반적인 표현\n",
        "  - 전달함수 표현에 의한 극(pole)-영점(zero) 해석 가능\n",
        "  - 차분방정식을 대수방정식으 변환 $\\Rightarrow$ 이산 시스템 해석을 단순화\n",
        "  - z변환의 성질들은 대응하는 Laplace변환 결과로부터 예측 가능"
      ]
    },
    {
      "cell_type": "markdown",
      "metadata": {
        "id": "k10-w17DDaBU"
      },
      "source": [
        "### 𝒛 변환의 수렴 영역(ROC ; Region of Convergence)\n",
        "- z변환은 모든 z값에 대하여 수렴하지 않고 수렴영역 내에서만 존재\n",
        "$$\n",
        "\\sum_{n=0}^{\\infty} \\left| x[n]z^{-n} \\right| \\; \\lt \\infty\n",
        "$$\n",
        "  $\\rightarrow X(z)$의 극이 수렴 영역에 포함되면 안 됨.\n",
        "- z변환은 DTFT가 불가능한 신호의 경우에도 존재 가능.   \n",
        "  예) $x[n]=a^n u[n] \\rightarrow |a| \\gt 1$ 이면 DTFT는 존재하지 않음.   \n",
        "    그러나, $|z|=r \\gt a$ 이면 $ | az^{-1} | \\lt 1 \\rightarrow z$변환 존재\n",
        "\n",
        "</br>\n",
        "  \n",
        "  1.유한 구간 신호 ($x[n]=0, \\; n \\lt n_1, \\; n \\gt n_2$) : ROC = 전체 z 평면  \n",
        "    (인과 신호이면 $z=0$ 제외, 비인과 신호이면 $[z] \\lt \\infty$제외 )   \n",
        "  2.우편향 신호 ($x[n]=0, \\; n \\lt n_1$) : ROC = $|z| \\gt \\rho_1$  \n",
        "  3.좌편향 신호 ($x[n]=0, \\; n \\gt n_2$) : ROC = $|z| \\lt \\rho_2$   \n",
        "  4.양방향 신호 ($x[n]$이 전 $n$ 범위에 걸쳐 존재 ) : ROC = $ \\rho_1 \\lt |z| \\lt \\rho_2 $    \n",
        "\n",
        "<center>\n",
        "\n",
        "  <img src='https://drive.google.com/uc?export=download&id=1jM6CTxce9uHU7OCpO_nMaD9kqxRu-8E1' width=\"\" height =\"\" /><br>\n",
        "\n",
        "\n",
        "![그림8-1 신호의 형태에 따른 z 변환의 수렴 영역](./images/그림8-1.png)\n",
        "\n",
        "</center>"
      ]
    },
    {
      "cell_type": "markdown",
      "metadata": {
        "id": "tro_EQvcO4hn"
      },
      "source": [
        "#### Ex1 : 우편향 신호의 z변환과 ROC\n",
        "\n",
        "$ x[n] = a^n u[n] \\text{: 우편향 신호}$\n",
        "\n",
        "$$\n",
        "\\begin{align*}\n",
        "X(z) &= \\sum_{n=0}^{\\infty} a^n z^{-n} = \\sum_{n=0}^{\\infty} ( az^{-1})^n \\\\\n",
        "\\therefore \\; X(z) &= \\frac{1}{1 - az^{-1}} = \\frac{z}{z-a} ,\\; |z| \\gt |a|\n",
        "\\end{align*}\n",
        "$$\n",
        "\n",
        "\n",
        "\n",
        "\n",
        "\n"
      ]
    },
    {
      "cell_type": "markdown",
      "metadata": {
        "id": "gtZLcwg_QIHw"
      },
      "source": [
        "#### Ex2 : 좌편향 신호의 z변환과 ROC\n",
        "\n",
        "$ x[n] = -b^n u[-n-1] \\text{: 좌편향 신호}$\n",
        "$$\n",
        "\\begin{align*}\n",
        "X(z) &= -\\sum_{n=\\infty}^{-1} b^n z^{-n} = -\\sum_{n=1}^{\\infty} b^{-n}z^{n} = = -b^{-1}z \\sum_{n=0}^{\\infty} (b^{-1}z)^{n} \\\\\n",
        "\\therefore \\; X(z) &= \\frac{b^{-1}z}{1 - b^{-1}z} = \\frac{1}{1-bz^{-1}} = \\frac{z}{z-b},\\; |z| \\lt |b|\n",
        "\\end{align*}\n",
        "$$\n",
        "\n",
        "\n",
        "\n",
        "\n",
        "\n"
      ]
    },
    {
      "cell_type": "markdown",
      "metadata": {
        "id": "-Wd6mBNF0sjO"
      },
      "source": [
        "#### Ex3 : 양편향 신호의 z변환과 ROC\n",
        "\n",
        "$ x[n] = a^n u[n] -b^n u[-n-1] , \\; a \\ne b $\n",
        "\n",
        "$$\n",
        "\\begin{align*}\n",
        "X(z) &= \\frac{1}{1-az^{-1}} + \\frac{1}{1-bz^{-1}} = \\frac{-1 (a+b)z}{(z-a)(z-b)}  \\\\\n",
        "\\Rightarrow  \\text{ROC} &= |a| \\lt |z| \\lt |b|\n",
        "\\end{align*}\n",
        "$$\n",
        "\n",
        "\n",
        "\n",
        "\n",
        "\n"
      ]
    },
    {
      "cell_type": "markdown",
      "metadata": {
        "id": "9KlK2yht2GW3"
      },
      "source": [
        "#### Ex4 : z 변환의 유일성\n",
        "\n",
        "$$\n",
        "x[n] = \\left\\{\\begin{matrix}\n",
        "\\left( \\frac{1}{3} \\right)^n - 2^n, \\; n \\ge 0 \\\\\n",
        "0\\:\\:\\:\\: , \\: n \\lt 0\n",
        "\\end{matrix}\\right.\n",
        "$$\n",
        "\n",
        "$$\n",
        "\\begin{align*}\n",
        "X(z) &= \\sum_{n=0}^{\\infty} \\left( \\frac{1}{3} \\right)^n z^{-n} -  \n",
        "     \\sum_{n=0}^{\\infty} 2^n z^{-n} \\\\\n",
        "&= \\frac{1}{ 1 - \\frac{1}{3} z^{-1}} - \\frac{1}{ 1 - 2z^{-1}}\n",
        "   = \\frac{-5z}{(z-2)(3z-1)}\n",
        "\\end{align*}\n",
        "$$\n",
        "\n",
        "\n",
        "\n",
        "\n",
        "\n"
      ]
    },
    {
      "cell_type": "markdown",
      "metadata": {
        "id": "jGA941mvPSBO"
      },
      "source": [
        "## 8.2 주요 신호의 $z$-변환"
      ]
    },
    {
      "cell_type": "markdown",
      "metadata": {
        "id": "heAFHgv84qLy"
      },
      "source": [
        "### 임펄스 신호\n",
        "\n",
        "- $ x[n] = \\delta [n]$\n",
        "$$\n",
        "\\delta[n] = 1\n",
        "$$\n",
        "$$ ❄ \\;\\; x[n]=\\delta [n-n_0 ]  \\Rightarrow \\sum_{n=0}^{\\infty} x[n] z^{-n} = x[n_0] z^{-n_0} = z^{-n_0}  \n",
        "$$\n"
      ]
    },
    {
      "cell_type": "code",
      "execution_count": null,
      "metadata": {
        "colab": {
          "base_uri": "https://localhost:8080/",
          "height": 472
        },
        "id": "1-Cpjxht756H",
        "outputId": "b73503df-f21a-4f25-ea3e-51b097d0bcc5"
      },
      "outputs": [
        {
          "data": {
            "image/png": "[encoded data removed]",
            "text/plain": [
              "<Figure size 640x480 with 1 Axes>"
            ]
          },
          "metadata": {},
          "output_type": "display_data"
        }
      ],
      "source": [
        "import numpy as np\n",
        "import matplotlib.pyplot as plt\n",
        "\n",
        "# 임펄스 신호 생성\n",
        "n = np.arange(-5, 6)  # n은 -5에서 5까지의 범위\n",
        "impulse = np.where(n == 0, 1, 0)  # n=0일 때 1, 그 외에는 0\n",
        "\n",
        "# 그래프 그리기\n",
        "plt.stem(n, impulse)  # 스템 플롯으로 임펄스 신호 그리기\n",
        "plt.title('Discrete-Time Impulse Signal')  # 그래프 제목\n",
        "plt.xlabel('n (Time Index)')  # x축 제목\n",
        "plt.ylabel('Amplitude')  # y축 제목\n",
        "plt.grid(True)  # 그리드 추가\n",
        "plt.axhline(0, color='black', lw=0.5)  # x축 추가\n",
        "plt.axvline(0, color='black', lw=0.5)  # y축 추가\n",
        "plt.show()  # 그래프 표시\n"
      ]
    },
    {
      "cell_type": "markdown",
      "metadata": {
        "id": "usGSv_ns7Pte"
      },
      "source": [
        "### (단위) 계단 신호\n",
        "\n",
        "- $ x[n] = u[n]$\n",
        "\n",
        "$$\n",
        "\\begin{align*}\n",
        " x[0] &= x[1]= \\cdots = x[n] = \\cdots = 1 \\;\\; \\text{이므로}  \\\\ \\\\\n",
        "X(z) &= \\sum_{n=-\\infty}^{\\infty} x[n] z^{-n} = 1 + Z^{-1} + Z^{-2} + \\cdots + Z^{-n} \\cdots ,\\;\\; |z| \\gt 1  \\\\\n",
        "&= \\frac{1}{1-Z^{-1}} = \\frac{z}{z-1}  \\\\\n",
        "\\\\\n",
        "\\therefore & \\;\\; u[n]  \\Leftrightarrow \\frac{z}{z-1}, \\;\\; |z| \\gt 1\n",
        "\\end{align*}\n",
        "$$"
      ]
    },
    {
      "cell_type": "code",
      "execution_count": null,
      "metadata": {
        "colab": {
          "base_uri": "https://localhost:8080/",
          "height": 472
        },
        "id": "7Jgz4IGS-gne",
        "outputId": "a0f2e1d2-3c5f-4796-a69b-fae3ef44ce02"
      },
      "outputs": [
        {
          "data": {
            "image/png": "[encoded data removed]",
            "text/plain": [
              "<Figure size 640x480 with 1 Axes>"
            ]
          },
          "metadata": {},
          "output_type": "display_data"
        }
      ],
      "source": [
        "import numpy as np\n",
        "import matplotlib.pyplot as plt\n",
        "\n",
        "# 계단 신호 생성\n",
        "n = np.arange(-5, 6)  # n은 -5에서 5까지의 범위\n",
        "step_signal = np.where(n >= 0, 1, 0)  # n이 0 이상일 때 1, 그 외에는 0\n",
        "\n",
        "# 그래프 그리기\n",
        "plt.stem(n, step_signal)  # 스템 플롯으로 계단 신호 그리기\n",
        "plt.title('Discrete-Time Step Signal')  # 그래프 제목\n",
        "plt.xlabel('n (Time Index)')  # x축 제목\n",
        "plt.ylabel('Amplitude')  # y축 제목\n",
        "plt.grid(True)  # 그리드 추가\n",
        "plt.axhline(0, color='black', lw=0.5)  # x축 추가\n",
        "plt.axvline(0, color='black', lw=0.5)  # y축 추가\n",
        "plt.show()  # 그래프 표시\n"
      ]
    },
    {
      "cell_type": "markdown",
      "metadata": {
        "id": "t0OwkKzRzv7J"
      },
      "source": [
        "### (단위) 램프 신호\n",
        "\n",
        "- $ x[n] = nu[n]$\n",
        "\n",
        "$$\n",
        "\\begin{align*}\n",
        "& \\left\\{\\begin{matrix}\n",
        " X(z) = 0 + z^{-1} + 2z^{-2} + \\cdots + nz^{-n} + \\cdots  \\\\\n",
        " z^{-1}X(z) = z^{-2} + 2z^{-3} + \\cdots + nz^{-n-1} + \\cdots  \n",
        "\\end{matrix}\\right. \\\\\n",
        " & \\rightarrow (1- z^{-1}) X(z) = z^{-1} + z^{-2} + \\cdots + z^{-n} + \\cdots \\\\\n",
        "& \\therefore \\;\\; X(z) = \\frac{z^{-1}}{ (1-z^{-1})^2 } = \\frac{z}{(z-1)^2}, \\;\\; |z| \\gt 1 \\\\\n",
        "& \\therefore \\;\\; nu[n] \\Leftrightarrow \\frac{z}{(z-1)^2}, \\;\\; |z| \\gt 1\n",
        "\\end{align*}\n",
        "$$"
      ]
    },
    {
      "cell_type": "code",
      "execution_count": null,
      "metadata": {
        "colab": {
          "base_uri": "https://localhost:8080/",
          "height": 472
        },
        "id": "YbQenWDU3dPe",
        "outputId": "cfdfa6cb-e94c-4fdb-a23d-fc7e923c7713"
      },
      "outputs": [
        {
          "data": {
            "image/png": "[encoded data removed]",
            "text/plain": [
              "<Figure size 640x480 with 1 Axes>"
            ]
          },
          "metadata": {},
          "output_type": "display_data"
        }
      ],
      "source": [
        "import matplotlib.pyplot as plt\n",
        "import numpy as np\n",
        "\n",
        "# 시간 배열 생성\n",
        "t = np.linspace(0, 10, 1000)\n",
        "\n",
        "# 램프 신호 정의\n",
        "ramp_signal = np.maximum(0, t)\n",
        "\n",
        "# 그래프 그리기\n",
        "#plt.figure(figsize=(10, 5))\n",
        "plt.plot(t, ramp_signal, label='Ramp Signal', color='blue')\n",
        "plt.title('Ramp Signal')\n",
        "plt.xlabel('Time (s)')\n",
        "plt.ylabel('Amplitude')\n",
        "plt.grid(True)\n",
        "plt.legend()\n",
        "plt.xlim(0, 10)\n",
        "plt.ylim(0, 10)\n",
        "plt.show()\n"
      ]
    },
    {
      "cell_type": "markdown",
      "metadata": {
        "id": "nAGD_GGh5WqU"
      },
      "source": [
        "### 지수 신호(exponential signal)\n",
        "\n",
        "- $ x[n] = a^n u[n]$\n",
        "\n",
        "$$\n",
        "\\begin{align*}\n",
        "& \\therefore \\;\\; a^nu[n] \\Leftrightarrow \\frac{z}{z-a}, \\;\\; |z| \\gt |a|\n",
        "\\end{align*}\n",
        "$$"
      ]
    },
    {
      "cell_type": "code",
      "execution_count": null,
      "metadata": {
        "colab": {
          "base_uri": "https://localhost:8080/",
          "height": 472
        },
        "id": "Rd7KeVnB6HDi",
        "outputId": "9d7bd114-20e0-4342-c07e-ee72707b258c"
      },
      "outputs": [
        {
          "data": {
            "image/png": "[encoded data removed]",
            "text/plain": [
              "<Figure size 640x480 with 1 Axes>"
            ]
          },
          "metadata": {},
          "output_type": "display_data"
        }
      ],
      "source": [
        "import matplotlib.pyplot as plt\n",
        "import numpy as np\n",
        "\n",
        "# 이산 시간 배열 생성\n",
        "n = np.arange(0, 10)\n",
        "\n",
        "# 이산 지수 함수 정의\n",
        "exponential_signal = np.exp(0.5 * n)\n",
        "\n",
        "# 그래프 그리기\n",
        "#plt.figure(figsize=(10, 5))\n",
        "plt.stem(n, exponential_signal, basefmt=\" \")\n",
        "plt.title('Discrete Exponential Function')\n",
        "plt.xlabel('n (Discrete Time)')\n",
        "plt.ylabel('Amplitude')\n",
        "plt.grid(True)\n",
        "plt.xlim(-1, 10)\n",
        "plt.ylim(0, np.max(exponential_signal) + 1)\n",
        "plt.show()\n"
      ]
    },
    {
      "cell_type": "markdown",
      "metadata": {
        "id": "wXIV3RV76qmn"
      },
      "source": [
        "### 정현파 신호(Sinusoidal signal)\n",
        "\n",
        "$$ x[n] = ( \\cos \\Omega n ) u[n] = \\left(  \\frac{ e^{j\\Omega n} + e^{-j\\Omega n}}{2} u[n] \\right)  \\text{이므로}\n",
        "$$\n",
        "\n",
        "$$\n",
        "\\begin{align*}\n",
        "X(z) &= Z \\left\\{ \\left(  \\frac{ e^{j\\Omega n} + e^{-j\\Omega n}}{2} \\right) u[n] \\right\\} = \\frac{1}{2} \\left[  \\frac{z}{z-e^{j\\Omega}} + \\frac{z}{z-e^{-j\\Omega}}  \\right] \\\\\n",
        "&=  \\frac{1}{2} \\left[  \\frac{2z - ( e^{j\\Omega} + e^{-j\\Omega}) }{z^2 -( e^{j\\Omega} + e^{-j\\Omega}) + 1 }  \\right] = \\frac{z(z-\\cos \\Omega)}{z^2 - 2z \\cos \\Omega + 1 } \\\\\n",
        "\\\\ & \\therefore \\;\\; ( \\cos \\Omega n ) u[n] \\Leftrightarrow \\frac{z(z-\\cos \\Omega)}{z^2 - 2z \\cos \\Omega + 1 } \\;\\; |z| \\gt 1\n",
        "\\end{align*}\n",
        "$$"
      ]
    },
    {
      "cell_type": "code",
      "execution_count": null,
      "metadata": {
        "colab": {
          "base_uri": "https://localhost:8080/",
          "height": 472
        },
        "id": "O6WetSz2Ayn8",
        "outputId": "6b436b4f-5c65-4ec0-b40c-b88af9545ca3"
      },
      "outputs": [
        {
          "data": {
            "image/png": "[encoded data removed]",
            "text/plain": [
              "<Figure size 640x480 with 1 Axes>"
            ]
          },
          "metadata": {},
          "output_type": "display_data"
        }
      ],
      "source": [
        "import matplotlib.pyplot as plt\n",
        "import numpy as np\n",
        "\n",
        "# 이산 시간 배열 생성\n",
        "n = np.arange(0, 20)\n",
        "\n",
        "# 이산 정현파 함수 정의\n",
        "frequency = 1  # 주파수\n",
        "amplitude = 1  # 진폭\n",
        "discrete_sine_wave = amplitude * np.sin(2 * np.pi * frequency * n/10)\n",
        "\n",
        "# 그래프 그리기\n",
        "#plt.figure(figsize=(10, 5))\n",
        "plt.stem(n, discrete_sine_wave, basefmt=\" \")\n",
        "plt.title('Discrete Sine Wave')\n",
        "plt.xlabel('n (Discrete Time)')\n",
        "plt.ylabel('Amplitude')\n",
        "plt.grid(True)\n",
        "plt.xlim(-1, 20)\n",
        "plt.ylim(-1.5, 1.5)\n",
        "plt.show()\n"
      ]
    },
    {
      "cell_type": "markdown",
      "metadata": {
        "id": "jBShjq40Pcqd"
      },
      "source": [
        "## 8.3 역 $z$-변환 (Inverse z-transform)\n",
        "\n",
        "- $X(z)$로 부터 신호 $x[n]$으로 되돌리는 과정  \n",
        "- 양뱡항 z변환은 주어진 ROC에 맞는 시간 신호로 역변환을 해야 함.   \n",
        "\n",
        "\n",
        "1. 복소 적분에 의한 역변환 정의식을 사용 $\\rightarrow$ 실제적인값을 계산하기에는 매우 복잡함.    \n",
        "2. 긴 나눗셈에 의한 멱급수 전개법 $\\rightarrow$ 신호의 처음 먗 개 샘플의 값을 구하고자 할때 유용   \n",
        "3. 부분분수 전개법   \n",
        "  - 부분분수로 전개하여 z변환 쌍표에 있는 함수들의 합으로 표현   \n",
        "  - 가장 널리 사용되는 방법임.\n"
      ]
    },
    {
      "cell_type": "markdown",
      "metadata": {
        "id": "KKJav5M9ShBR"
      },
      "source": [
        "### 멱급수 전개에 의한 역 z변환\n",
        "- $X(z)$에 대해 분자를 분모로 직접 나누어 $z^{-1}$의 멱급수 형태로 전개   \n",
        "  $\\rightarrow$ 급수의 계수가 바로 $x[0], x[1], \\cdots , x[n], \\cdots$에 해당   \n",
        "- $x[n]$을 직접 구할 수 있지만, 닫힌 꼴(closed form)의 해를 제공하지는 못함.\n"
      ]
    },
    {
      "cell_type": "markdown",
      "metadata": {
        "id": "gqQH6RVzUFQv"
      },
      "source": [
        "### 부분분수 전개법에 의한 역 z변환\n",
        "\n",
        "#### 부분 분수 전개법\n",
        "- $X(z)$를 $z$변환표에 나타나 있는 함수들의 합으로 표현하여 변환\n",
        "$$\n",
        "\\begin{align*}\n",
        "& \\therefore \\;\\; a^nu[n] \\Leftrightarrow \\frac{z}{z-a}, \\;\\; |z| \\gt |a|\n",
        "\\end{align*}\n",
        "$$\n",
        "- $\\frac{X(z)}{z}$를 부분 분수로 전개한 후, 양변에 z를 곱해 역변환을 수행.\n",
        "$$\n",
        "\\begin{align*}\n",
        "X(z) &= \\frac{ b_0 + b_1 z^{-1} + \\cdots b_q z^{-q}}{ 1+ + a_1 z^{-1} + \\cdots a_p z^{-p}}\n",
        "= \\frac{ b_0 z^p + b_1 z^{p-1} + \\cdots b_q z^{p-q}}{ z^p + a_1 z^{p-1} + \\cdots a_p } \\\\\n",
        "&= \\sum_{i=1}^{p} \\frac{K_i}{z-p_i}\n",
        "\\end{align*}\n",
        "$$\n",
        "\n",
        " $\\rightarrow$ 분자에 $z$항이 없음 $\\rightarrow$ 역변환에 (8.28)사용 불가\n",
        "\n",
        " $\\therefore$ $\\frac{X(z)}{z}$를 부분분수로 전개한 후, 양변에 z를 곱함"
      ]
    },
    {
      "cell_type": "markdown",
      "metadata": {
        "id": "r7hWwNEBXIt3"
      },
      "source": [
        "---\n",
        "#### **[참고] 부분분수 전개법(Partial Fraction Decomposition)이란?**    \n",
        "> 부분분수 전개법이란 주어진 분수를 더 간단한 분수들의 합으로 표현하는 기법을 말함.   \n",
        ">이 방법은 주로 대수적 표현을 단순화하거나 적분을 쉽게 하기 위해 사용하는데, 특히 다항식의 비율을 다룰 때 매우 유용하게 활용됨.\n",
        ">\n",
        ">#### 기본 개념\n",
        ">주어진 분수 $\\frac{P(x)}{Q(x)}$에서 $P(x)$와 $Q(x)$는 다항식이며, $Q(x)$는 $P(x)$의 차수보다 높은 경우에 적용함. 이 경우, $Q(x)$를 인수분해하여 다음과 같은 형태로 나눌 수 있음:  [용어:  분자 (Numerator) / 분모 (Denominator) ]\n",
        ">\n",
        ">$$\n",
        ">\\frac{P(x)}{Q(x)} = \\frac{A_1}{(x - r_1)^{k_1}} + \\frac{A_2}{(x - r_2)^{k_2}} + \\cdots + \\frac{A_n}{(x - r_n)^{k_n}} + \\frac{B_1}{(x^2 + ax + b)^{m_1}} + \\cdots\n",
        ">$$\n",
        ">\n",
        ">여기서 $A_i$와 $B_j$는 상수이며, $r_i$는 $Q(x)$의 실근, $m_j$는 $Q(x)$의 복소수 근에 대한 차수를 의미함.\n",
        ">\n",
        ">#### 전개 단계\n",
        ">1. **분모 인수분해**: $Q(x)$를 인수분해하여 그 형태를 찾음.\n",
        ">2. **부분분수 설정**: 인수분해된 형태에 따라 각 항에 대해 적절한 상수를 설정.\n",
        ">3. **양변에 공통 분모 곱하기**: 설정한 부분분수의 양변에 공통 분모를 곱하여 다항식 방정식을 만듬.\n",
        ">4. **계수 비교**: 방정식의 양변을 비교하여 상수 $A_i$와 $B_j$의 값을 찾음.\n",
        ">5. **결과 조합**: 구한 상수를 사용하여 원래의 분수를 부분분수의 합으로 표현.\n",
        ">\n",
        ">예를 들어, 다음과 같은 분수가 주어지면:\n",
        ">$$\n",
        ">\\frac{2x + 3}{x^2- x - 2} = \\frac{2x + 3}{(x - 1)(x + 2)}\n",
        ">$$\n",
        ">\n",
        ">1. **분모 인수분해**: 이미 인수분해된 상태입니다.\n",
        ">2. **부분분수 설정**:\n",
        ">  $$\n",
        ">  \\frac{2x + 3}{(x - 1)(x + 2)} = \\frac{A}{x - 1} + \\frac{B}{x + 2}\n",
        ">  $$\n",
        ">3. **양변에 공통 분모 곱하기**:\n",
        ">  $$\n",
        ">  2x + 3 = A(x + 2) + B(x - 1)\n",
        ">  $$\n",
        ">4. **계수 비교**: 위 식을 전개하고 \\(x\\)의 계수와 상수항을 비교하여 \\(A\\)와 \\(B\\)를 구합니다.\n",
        ">5. **결과 조합**: 구한 \\(A\\)와 \\(B\\)를 사용하여 원래의 분수를 다시 작성.\n",
        ">\n",
        ">부분분수 전개법은 적분과 같은 복잡한 수학 문제를 해결하는 데 매우 유용한 도구임.\n",
        "---"
      ]
    },
    {
      "cell_type": "markdown",
      "metadata": {
        "id": "O_Qjxl2FvBZy"
      },
      "source": [
        "#### **[참고] Heaviside의 Cover-up method**\n",
        "\n",
        ">이 방법은 부분분수 전개(Partial Fraction Decomposition)에서 특정한 형태의 분수를 분해할 때 사용하는 간단하고 효율적인 방법을 의미함.\n",
        ">이 방법은 주로 적분을 쉽게 하기 위해 사용하는데, Heaviside의 Cover-up 기법은 다음과 같은 단계로 진행함.\n",
        ">\n",
        ">#### **기본 개념**\n",
        "> 주어진 분수가 다음과 같은 형태일 때:\n",
        ">\n",
        ">$$\n",
        ">\\frac{P(x)}{Q(x)}\n",
        ">$$\n",
        ">\n",
        ">여기서 $Q(x)$는 인수분해 가능한 다항식이고, $P(x)$는 $Q(x)$보다 차수가 낮아야 함.   \n",
        ">$Q(x)$는 일차 또는 이차 인수로 구성될 수 있음.\n",
        ">\n",
        ">#### **Cover-up 단계**\n",
        ">\n",
        ">1. **분모 인수분해**: $Q(x)$를 인수분해하여 각 인수의 형태를 확인.\n",
        ">   \n",
        ">  예를 들어, $Q(x) = (x - a)(x - b)$와 같은 형태로 인수분해.\n",
        ">\n",
        ">2. **부분분수 형태 설정**: 각 인수에 대해 부분분수의 형태를 설정.\n",
        ">   \n",
        ">  $$\n",
        ">  \\frac{P(x)}{(x - a)(x - b)} = \\frac{A}{x - a} + \\frac{B}{x - b}\n",
        ">  $$\n",
        ">\n",
        ">3. **Cover-up 방법 적용**:\n",
        "> - $A$를 구하기 위해 $x = a$로 설정하고, $x - a$를 \"덮어씌워\" 제거. 이때 나머지 항을 계산하여 $A$의 값을 찾음.\n",
        "> - $B$를 구하기 위해 $x = b$로 설정하고, $x - b$를 덮어씌워 제거. 이때 나머지 항을 계산하여 $B$의 값을 찾음.\n",
        ">\n",
        ">예를 들어, 주어진 분수가 $\\frac{2x + 3}{(x - 1)(x + 2)}$로 가정해 보자.\n",
        ">\n",
        ">1. **부분분수 형태 설정**:\n",
        ">  $$\n",
        ">  \\frac{2x + 3}{(x - 1)(x + 2)} = \\frac{A}{x - 1} + \\frac{B}{x + 2}\n",
        ">  $$\n",
        ">\n",
        ">2. **$A$ 구하기**:\n",
        ">  - $x = 1$ 대입:\n",
        ">  $$\n",
        ">  A = \\frac{2(1) + 3}{(1 + 2)} = \\frac{5}{3}\n",
        ">  $$\n",
        ">\n",
        ">3. **$B$ 구하기**:\n",
        ">  - $x = -2$ 대입:   \n",
        ">  $$\n",
        ">  B = \\frac{2(-2) + 3}{(-2 - 1)} = \\frac{-4 + 3}{-3} = \\frac{1}{-3} = -\\frac{1}{3}\n",
        ">  $$\n",
        ">\n",
        ">4. **결과 조합**:\n",
        ">  $$\n",
        ">  \\frac{2x + 3}{(x - 1)(x + 2)} = \\frac{5/3}{x - 1} - \\frac{1/3}{x + 2}\n",
        ">  $$\n",
        ">\n",
        "> 장점 : Heaviside의 Cover-up 방법은 분수의 부분분수 전개를 빠르고 쉽게 수행할 수 있는 방법으로, 특히, 인수의 개수가 적거나 간단한 경우에 유용함."
      ]
    },
    {
      "cell_type": "markdown",
      "metadata": {
        "id": "y1sfuNB2ug-k"
      },
      "source": [
        "#### 부분분수 전개법\n",
        "\n",
        "- 부분 분수 항의 계수 계산: Heaviside의 Cover-up기법을 이용\n",
        "\n",
        " 1. 분모의 인수 분해 항이 서로 다른(distinct) 경우\n",
        "  $$\n",
        "  \\left.\\begin{matrix}\n",
        "  K_i = (z-p_i ) \\frac{X(z)}{z}  \n",
        "  \\end{matrix}\\right|_{z=p_i}\n",
        "  $$\n",
        " 2. 분모의 인수 분해 항에 $m$중근이 존재할 경우.  \n",
        "  $$\\begin{align*}\n",
        "  \\frac{X(z)}{z}   &= \\frac{K_{11}}{(z-p_1 )} + \\frac{K_{12}}{(z-p_1 )^2} + \\cdots + \\frac{K_{1m}}{(z-p_1 )^m} + \\sum_{i=m+1}^{p} \\frac{K_{i}}{ z-p_I } \\\\\n",
        "  K_{1r} &= \\frac{1}{(m-r)!} \\frac{d^{m-r}}{dz^{m-r}} \\left(  (z-p_i )^m \\frac{X(z)}{z}   \\right) |_{z=p_i}       \n",
        "  \\end{align*}\n",
        "  $$"
      ]
    },
    {
      "cell_type": "markdown",
      "metadata": {
        "id": "f7V2_gKKUYSo"
      },
      "source": [
        "## 8.4 $z$-변환의 성질"
      ]
    },
    {
      "cell_type": "markdown",
      "metadata": {
        "id": "CvS5HVJFVVxn"
      },
      "source": [
        "### 선형성\n",
        "$$\n",
        "\\begin{align*}\n",
        "Z\\{ \\alpha x[n] + \\beta y[n] \\}  &= \\sum_{n=-\\infty}^{\\infty} \\left( \\alpha x[n] + \\beta y[n] \\right) z^{-n}  \\\\\n",
        "&= \\alpha \\sum_{n=-\\infty}^{\\infty} x[n] z^{-n} + \\beta \\sum_{n=-\\infty}^{\\infty} y[n] z^{-n} \\\\\n",
        "&= \\alpha X(z) + \\beta Y(z) \\\\\n",
        "\\\\\n",
        "\\end{align*}\n",
        "$$\n",
        "\n",
        "$$\n",
        "\\therefore \\;\\; \\alpha x[n] + \\beta y[n] \\Leftrightarrow \\alpha X(z) + \\beta Y(z) , \\;\\; ROC: R_X \\cap R_Y\n",
        "$$"
      ]
    },
    {
      "cell_type": "markdown",
      "metadata": {
        "id": "NPvOqmsPXl38"
      },
      "source": [
        "### 시간 반전\n",
        "$$\n",
        "\\begin{align*}\n",
        "Z\\{ x[-n]  \\}  &= \\sum_{n=-\\infty}^{\\infty}  x[-n] z^{-n} = \\sum_{k=\\infty}^{-\\infty}  x[k] z^{k} \\\\\n",
        "&= \\sum_{k=-\\infty}^{\\infty}  x[k] \\left( z^{-1} \\right)^{-k} = X(z^{-1}) \\\\\n",
        "\\\\\n",
        "\\end{align*}\n",
        "$$\n",
        "$$\n",
        "\\therefore \\;\\; x[-n] \\Leftrightarrow X(z^{-1}) , \\;\\; ROC: R_X^{-1}\n",
        "$$"
      ]
    },
    {
      "cell_type": "markdown",
      "metadata": {
        "id": "FYAecVHsX6lx"
      },
      "source": [
        "### 시간이동 : 양방향  변환과 단방향  변환이 차이가 남\n",
        "- 양방향 $z$ 변환\n",
        " $$\n",
        " \\begin{align*}\n",
        " Z\\{ x[n-n_0]  \\}  &= \\sum_{n=-\\infty}^{\\infty}  x[n-n_0] z^{-n} = \\sum_{k=-\\infty}^{\\infty}  x[k] z^{-(k+n_0)} \\\\\n",
        " &= z^{-n_0} \\sum_{k=-\\infty}^{\\infty}  x[k] z^{-k}  = z^{-n_0} X(z) \\\\\n",
        " \\\\\n",
        " \\end{align*}\n",
        " $$\n",
        " $$\n",
        " \\therefore \\;\\; x[n-n_0] \\Leftrightarrow  z^{-n_0} X(z) , \\;\\; ROC: R_X\n",
        " $$\n",
        "\n",
        "- 단방향 $z$ 변환   \n",
        " - $n=0$을 경계로 비인과 신호의 시간 지연은 샘플들이 추가로 나타남   \n",
        "  인과 신호에 대한 시간 선행은 샘플들이 사라짐.  \n",
        " - $z$ 변환할 신호는 $x[n-n_0]u[n]$(시간지연)과 $x[n+n_0]u[n]$ (시간선행)"
      ]
    },
    {
      "cell_type": "markdown",
      "metadata": {
        "id": "N6wC98u2ayEO"
      },
      "source": [
        "<center>\n",
        "<img src='https://drive.google.com/uc?export=download&id=1UsLr25Is1jeDOWLG3_Jaln0G680LdwpK' width=\"\" height =\"\" /><br>\n",
        "\n",
        "![그림8-2 신호의 시간 이동과 샘플의 추가 및 상실](./images/그림8-2.png)\n",
        "\n",
        "</center>\n"
      ]
    },
    {
      "cell_type": "markdown",
      "metadata": {
        "id": "bxG3xV0WXKnZ"
      },
      "source": [
        "### 시간이동\n",
        "1. 시간 지연\n",
        "\n",
        "$$\n",
        " \\begin{align*}\n",
        " Z\\{ x[n-n_0] u[n] \\}  &= \\sum_{n=0}^{\\infty}  x[n-n_0] z^{-n} = \\sum_{k=-n_0}^{\\infty}  x[k] z^{-(k+n_0)} \\\\\n",
        " &= z^{-n_0}  \\left(  \\sum_{k=-n_0}^{-1}  x[k] z^{-k}  + \\sum_{k=0}^{\\infty}  x[k] z^{-k}  \\right)\\\\\n",
        " &= z^{-n_0} X(z) + z^{-n_0} \\sum_{n=1}^{n_0}  x[-n] z^{n}  \\\\\n",
        " \\\\\n",
        " \\end{align*}\n",
        " $$\n",
        " $$\n",
        " \\therefore \\;\\; x[n-n_0]u[n] \\Leftrightarrow  z^{-n_0} X(z) + z^{-n_0} \\sum_{n=1}^{n_0}  x[-n] z^{n}\n",
        " $$"
      ]
    },
    {
      "cell_type": "markdown",
      "metadata": {
        "id": "LtwrQosgY5v2"
      },
      "source": [
        " 2. 시간 선행\n",
        "\n",
        "$$\n",
        " \\begin{align*}\n",
        " Z\\{ x[n+n_0] u[n] \\}  &= \\sum_{n=0}^{\\infty}  x[n+n_0] z^{-n} = \\sum_{k=n_0}^{\\infty}  x[k] z^{-(k-n_0)} \\\\\n",
        " &= z^{n_0}  \\left(  \\sum_{k=0}^{\\infty}  x[k] z^{-k}  - \\sum_{k=0}^{n_0 -1}  x[k] z^{-k}  \\right)\\\\\n",
        " &= z^{n_0} X(z) - z^{n_0} \\sum_{n=0}^{n_0 -1}  x[n] z^{-n}  \\\\\n",
        " \\\\\n",
        " \\end{align*}\n",
        " $$\n",
        " $$\n",
        " \\therefore \\;\\; x[n+n_0]u[n] \\Leftrightarrow  z^{n_0} X(z) - z^{n_0} \\sum_{n=0}^{n_0 -1}  x[n] z^{-n}\n",
        " $$"
      ]
    },
    {
      "cell_type": "markdown",
      "metadata": {
        "id": "O-reOIc8Z3UW"
      },
      "source": [
        "### 주파수 척도 변화: 시간 영역에서는 신호에 대한 변조에 해당\n",
        "\n",
        "$$\n",
        "\\begin{align*}\n",
        "Z \\left\\{  z_0^n x[n] \\right\\}  &= \\sum_{n=-\\infty}^{\\infty} z_0^n x[n] z^{-n} = \\sum_{n=-\\infty}^{\\infty}  x[n] \\left( \\frac{z}{z_0} \\right)^{-n} = X \\left( \\frac{z}{z_0} \\right)\n",
        "\\end{align*}\n",
        "$$\n",
        "$$\n",
        "\\\\\n",
        " \\therefore \\;\\; z_0^n x[n] \\Leftrightarrow   X \\left( \\frac{z}{z_0} \\right) \\;\\; ROC: |z_0|R_X  \n",
        " \\\\\n",
        " $$\n",
        "\n",
        " $ ❄ \\;\\; z_0 = e^{j\\Omega_0}$이면 $e^{\\Omega_0 n} x[n] \\Leftrightarrow X( z e^{-j\\Omega_0})  \\rightarrow$ 주파수 영역에서의 각 $\\Omega_0$만큼 이동\n",
        "\n",
        "\n"
      ]
    },
    {
      "cell_type": "markdown",
      "metadata": {
        "id": "27vAekr_boA6"
      },
      "source": [
        "### 주파수 미분\n",
        "\n",
        "$$\n",
        "\\begin{align*}\n",
        "-z\\frac{d}{dz} X(z) &= -z\\frac{d}{dz} \\left\\{  \\sum_{n=-\\infty}^{\\infty} x[n] z^{-n} \\right\\} = -z \\sum_{n=-\\infty}^{\\infty} x[n] \\cdot \\frac{dz^{-n}}{dz}  \\\\\n",
        "&= -z \\sum_{n=-\\infty}^{\\infty} x[n] \\cdot ( -nz^{-n-1}) =  \\sum_{n=-\\infty}^{\\infty} nx[n] z^{-n}  \\\\\n",
        "&= Z \\left\\{  n x[n]\\right\\} \\\\\n",
        "\\end{align*}\n",
        "$$\n",
        "\n",
        "\n",
        "  $ \\therefore \\;\\; n x[n] \\Leftrightarrow   -z\\frac{d}{dz} X(z)  $"
      ]
    },
    {
      "cell_type": "markdown",
      "metadata": {
        "id": "4FgD7T9je5ei"
      },
      "source": [
        "### 시간 컨볼루션(Convolution)\n",
        "- 시간 영역에서 두 신호의 컨벌루션 $\\rightarrow$ 두 신호의 z 변환의 대수 곱\n",
        "$$\n",
        "\\begin{align*}\n",
        "Z \\left\\{ x[n] \\ast y[n]\\right\\} &=  \\sum_{n=-\\infty}^{\\infty} \\left( \\sum_{k=-\\infty}^{\\infty} x[k]y[n-k]  \\right)z^{-n} \\\\\n",
        "&= \\sum_{k=-\\infty}^{\\infty} x[k] \\left( \\sum_{n=-\\infty}^{\\infty} y[n-k] z^{-n} \\right)  \\\\\n",
        "&= \\sum_{k=-\\infty}^{\\infty} x[k] \\left( \\sum_{l=-\\infty}^{\\infty} y[l] z^{-l-k} \\right)  \\\\\n",
        "&= \\left( \\sum_{k=-\\infty}^{\\infty} x[k] z^{-k} \\right) \\left( \\sum_{l=-\\infty}^{\\infty} y[l] z^{-l} \\right) = X(z) Y(z)\n",
        "\\end{align*}\n",
        "$$\n",
        "\n",
        " $\n",
        " \\therefore \\;\\; x[n] \\ast y[n] \\Leftrightarrow   X(z) Y(z), \\;\\; ROC: R_X \\cap R_Y\n",
        " $"
      ]
    },
    {
      "cell_type": "markdown",
      "metadata": {
        "id": "WvWwYOFviCuq"
      },
      "source": [
        "<center>\n",
        " <img src='https://drive.google.com/uc?export=download&id=1UhyX-7QUAJL-ZZQjl44mHPPKTKKkZYN7' width=\"\" height =\"\" /><br>\n",
        "\n",
        "![표8-1 z변환의 주요 성질](./images/표8-1.png)\n",
        "\n",
        "</center>\n"
      ]
    },
    {
      "cell_type": "markdown",
      "metadata": {
        "id": "LTpjd-hViUMk"
      },
      "source": [
        "## 8.5 $z$-변환에 의한 차분방정식의 풀이"
      ]
    },
    {
      "cell_type": "markdown",
      "metadata": {
        "id": "-FX6EUaQqDeg"
      },
      "source": [
        "### $z$-변환에 의한 차분방정식의 풀이\n",
        "- 시간함수 z변환 -> z영역에서 대수 방정식 풀이 -> 시간영역으로 역변환\n",
        "\n",
        "  1. 차분 방정식을 z변환   \n",
        "    ->z변환의 시간 이동 성질을 이용   \n",
        "    -> 초기 조건은 방정식에 자동적으로 포함됨.\n",
        "  2.z에 대한 대수 방정식을 미지수 $Y(z)$에 대하여 전계   \n",
        "    -> z에 대한 유리 함수 형태로 얻어짐.  \n",
        "  3. 얻어진 $Y(z)$에 대해 역변환을 적용하여 응답(response)를 구함.\n",
        "\n"
      ]
    },
    {
      "cell_type": "markdown",
      "metadata": {
        "id": "ZrJdmKkCrU6F"
      },
      "source": [
        "### 초깃값 정리와 최종값 정리\n",
        "\n",
        "- 초깃값 정리 (Initial Value Theorem)\n",
        "  - $x[n]$을 그 신호의 단방향 z변환으로부터 직접적으로 구할 수 있음.  \n",
        "$$\n",
        "x[0] = \\lim_{z \\rightarrow \\infty} X(z) \\\\\n",
        "\\\\\n",
        "\\because  \\lim_{z \\rightarrow \\infty} X(z) = \\lim_{z \\rightarrow \\infty}( x[0]+x[1]z^{-1}+x[2]z^{-2}+ \\cdots ) = x[0]\n",
        "$$\n",
        "\n",
        "- 최종값 정리 (Final Value Theorem)\n",
        "  - 신호의 z변환으로 부터, 최종값, 즉 신호의 정상상태 값을 구할 수 있음.   \n",
        "$$\n",
        " \\lim_{n \\rightarrow \\infty} x[n] = x[\\infty] = \\lim_{z \\rightarrow 1} X(z) \\\\\n",
        "\\\\\n",
        "\\because  Z \\{ x[n+1] - x[n] \\} = \\lim_{k \\rightarrow \\infty} \\left( \\sum_{n=0}^{k} x[n+1] z^{-n} - \\sum_{n=0}^{k} x[n] z^{-n}   \\right) \\\\\n",
        "= \\lim_{k \\rightarrow \\infty} (-x[0]+x[1](z^0-z^{-1})+ \\cdots + x[k](z^{-k+1} - z^{-k}) + x[k+1]z^{-k}\n",
        "$$"
      ]
    },
    {
      "cell_type": "markdown",
      "metadata": {
        "id": "weM76RTwsM4J"
      },
      "source": [
        "#### **초깃값 정의 예제:**\n",
        "\n",
        "간단한 이산 신호 $x[n] = (0.5)^n u[n]$ (단위 계단 함수 $u[n]$)를 사용.   \n",
        "여기서 $u[n]$은 $n \\ge 0$일 때 1이고, $n \\lt 0$일 때 0인 단위 계단 함수.\n",
        "\n",
        "$$\n",
        "X(z) = \\sum_{n=0}^{\\infty} (0.5)^n z^{-n}\n",
        "$$\n",
        "이 신호의 z-변환 $X(z)$는 다음과 같이 계산:  \n",
        "$$\n",
        "X(z) = \\sum_{n=0}^{\\infty} \\left(\\frac{0.5}{z}\\right)^n = \\frac{1}{1 - \\frac{0.5}{z}} \\quad (|z| > 0.5)  \\\\\n",
        "\\\\\n",
        "\\therefore X(z) = \\frac{z}{z - 0.5}\n",
        "$$\n",
        "\n",
        "  - 초깃값 정리 적용   \n",
        "초깃값 정리를 적용하여 $x[0]$를 구함. 초깃값 정리에 따르면:\n",
        "$$\n",
        "x[0] = \\lim_{z \\to \\infty} X(z)\n",
        "$$\n",
        "이제 $X(z)$에 대해 극한을 계산:\n",
        "$$\n",
        "x[0] = \\lim_{z \\to \\infty} \\frac{z}{z - 0.5} \\\\\n",
        "\\\\\n",
        "x[0] = \\lim_{z \\to \\infty} \\frac{z}{z(1 - \\frac{0.5}{z})} = \\lim_{z \\to \\infty} \\frac{1}{1 - \\frac{0.5}{z}} = \\frac{1}{1 - 0} = 1 \\\\\n",
        "\\\\\n",
        "\\therefore x[0] = 1\n",
        "$$"
      ]
    },
    {
      "cell_type": "markdown",
      "metadata": {
        "id": "iQvmj7mFdxfd"
      },
      "source": [
        "#### **최종값 정리의 예제:**\n",
        "\n",
        "간단한 이산 신호 $x[n] = 2(0.5)^n u[n]$ (단위 계단 함수 $u[n]$)를 사용.   \n",
        "여기서 $u[n]$은 $n \\ge 0$일 때 1이고, $n \\lt 0$일 때 0인 단위 계단 함수.\n",
        "\n",
        "$$\n",
        "X(z) = \\sum_{n=0}^{\\infty} 2(0.5)^n z^{-n}\n",
        "$$\n",
        "\n",
        "이 신호의 z-변환 $X(z)$는 다음과 같이 계산:  \n",
        "$$\n",
        "X(z) = 2 \\sum_{n=0}^{\\infty} \\left(\\frac{0.5}{z}\\right)^n = 2 \\cdot \\frac{1}{1 - \\frac{0.5}{z}} \\quad (|z| > 0.5) \\\\\n",
        "\\\\\n",
        "\\therefore X(z) = \\frac{2z}{z - 0.5}\n",
        "$$\n",
        "\n",
        "  - 최종값 정리 적용   \n",
        "최종값 정리를 적용하여 $\\lim_{n \\to \\infty} x[n]$를 구함. 최종값 정리에 따르면:\n",
        "$$\n",
        "\\lim_{n \\to \\infty} x[n] = \\lim_{z \\to 1} (z - 1) X(z)\n",
        "$$\n",
        "이제 $X(z)$에 대해 극한을 계산:\n",
        "$$\n",
        "\\lim_{n \\to \\infty} x[n] = \\lim_{z \\to 1} (z - 1) \\cdot \\frac{2z}{z - 0.5}\n",
        "$$\n",
        "여기서 $z = 1$을 대입하면:\n",
        "$$\n",
        "\\lim_{z \\to 1} \\frac{2z(z - 1)}{z - 0.5}\n",
        "= \\frac{2 \\cdot 1 \\cdot (1 - 1)}{1 - 0.5} = \\frac{0}{0.5} = 0 \\\\\n",
        "\\\\\n",
        "\\therefore \\lim_{n \\to \\infty} x[n] = 0\n",
        "$$"
      ]
    },
    {
      "cell_type": "markdown",
      "metadata": {
        "id": "7L11Vrocglg_"
      },
      "source": [
        "## 8.6 전달함수(Transfer Function)\n",
        "\n",
        "### 8.6.1 전달함수의 정의"
      ]
    },
    {
      "cell_type": "markdown",
      "metadata": {
        "id": "6xM3YljcgteF"
      },
      "source": [
        "### 시스템 전달 함수\n",
        "- 시스템이 입력을 출력방향으로 전달한 정도를 보여주는 함수\n",
        "- z영역에서 표시된 입력과 출력의 비\n",
        "$$\n",
        "H(z) = \\frac{Y(z)}{X(z)} = \\frac{Q(z)}{p(z)}\n",
        "$$\n",
        "\n",
        "- 임펄스 응답의 z변환\n",
        "$$\n",
        "y[n] = \\sum_{k = -\\infty}^{\\infty} x[k]h[n-k] \\;\\; \\to \\;\\; Y(z) = H(z) X(z) \\\\\n",
        "\\\\\n",
        "\\therefore H(z) = Z \\{ h[n] \\} = \\frac{Y(z)}{X(z)}\n",
        "$$\n",
        "\n",
        "\n",
        "<center>\n",
        "\n",
        "<img src='https://drive.google.com/uc?export=download&id=1LpqFtzVUVs0PzU1ydtz3qz_bKdzvPyJg' width=\"\" height =\"\" /><br>\n",
        "\n",
        "![그림8-3 이산 LTI 시스템의 표현](./images/그림8-3.png)\n",
        "\n",
        "</center>"
      ]
    },
    {
      "cell_type": "markdown",
      "metadata": {
        "id": "GZzcwdcQiSCI"
      },
      "source": [
        "- 차분 방정식으로부터 직접 전달함수 구하기\n",
        "$$\n",
        "\\begin{align*}\n",
        "& y[n] + a_1 y[n-1] + \\cdots +a_p y[n-p] \\; = \\; b_0 x[n] + b_1 x[n-1] +  \\ldots + b_p x[n-p] \\\\\n",
        "& Y(z) + a_1 z^{-1} Y(z) + \\cdots +a_p z^{-p} Y(z) \\; = \\; b_0 X(z) + b_1 z^{-1} X(z) +  \\ldots + b_q z^{-q} X(z) \\\\\n",
        "& Y(z) (1 + a_1 z^{-1}  + \\cdots +a_p z^{-p}) \\; = \\; X(z) (b_0 + b_1 z^{-1} +  \\ldots + b_q z^{-q} )\n",
        "\\end{align*}\n",
        "$$\n",
        "<br><br>\n",
        "$$\n",
        "\\begin{align*}\n",
        "\\therefore H(z) &= \\frac{Q(z)}{P(z)} = \\frac{b_0 + b_1 z^{-1} +  \\ldots + b_q z^{-q}}{1 + a_1 z^{-1}  + \\cdots +a_p z^{-p}} = \\frac{ \\sum_{i=0}^{q} b_i z^{-i}}{\\sum_{i=0}^{p} a_i z^{-i}} \\\\\n",
        "&= \\frac{b_0 z^{-p} + b_1 z^{p-1} +  \\ldots + b_q z^{p-q}}{z^{p} + a_1 z^{p-1}  + \\cdots +a_p } = \\frac{ \\sum_{i=0}^{q} b_i z^{p-i}}{\\sum_{i=0}^{p} a_i z^{p-i}}\n",
        "\\end{align*}\n",
        "$$"
      ]
    },
    {
      "cell_type": "markdown",
      "metadata": {
        "id": "e0Ex-OrllkFV"
      },
      "source": [
        "$ \\bigstar \\;P(z) = z^p + a_1 z^{p-1} + \\cdots + a_p = 0 $ : 시스템의 측성방정식\n",
        "\n",
        "- 전달함수는 시스템이 바뀌지 않은 한, 불변 & 입력의 형태와는 무관함."
      ]
    },
    {
      "cell_type": "markdown",
      "metadata": {
        "id": "XuUG0m3-p0di"
      },
      "source": [
        "### 8.6.2 시스템(전달함수)극과 영점 (Poles and Zeros)\n",
        "- 시스템의 극(Pole):   \n",
        "  - 특성방정식 $P(z)=0$을 만족하는 해   \n",
        "  - 시스템의 고유한 특성을 결정하는 요소   \n",
        "  - 과도응답, 안정도 등의 시스템 동작특성 지배\n",
        "- 시스템의 영점(Zero)\n",
        "  - 전달함수 $H(z)$의 분자$=0$, 즉 $Q(z)=0$을 만족하는 점   \n",
        "  - 시스템과 입력의 연관 작용을 결정하는 요소   \n",
        "\n",
        "$\\to$ 극과 영점 모두 복소소(complex)값을 가질 경우에는 공액(complex conjugate)으로 존재\n",
        "  "
      ]
    },
    {
      "cell_type": "markdown",
      "metadata": {
        "id": "xGq8sATXrfhO"
      },
      "source": [
        "#### **[예제]** 시스템의 극과 영점 그리기\n",
        "\n",
        "$$\n",
        "\\begin{align*}\n",
        "H_1 (z) &= \\frac{z^2 (z+1)}{(z-0.5 + j0.5)(z-0.5 - j0.5)(z-0.8)} \\\\\n",
        "\\\\\n",
        "H_2 (z) &= \\frac{ (z^3 -1) (z^2 + 1) }{z^5}\n",
        "\\end{align*}\n",
        "$$"
      ]
    },
    {
      "cell_type": "markdown",
      "metadata": {
        "id": "g-k9LbvnKZbj"
      },
      "source": [
        "<center>\n",
        "\n",
        "<img src='https://drive.google.com/uc?export=download&id=1wkUQMoiF4BvlEUU4PxSk_L0mhiQYONpX' width=\"\" height =\"\" /><br>\n",
        "\n",
        "![그림8-4: 전달함수(시스템)의 극점과 영점](./images/그림8-4.png)\n",
        "\n",
        "</center>"
      ]
    },
    {
      "cell_type": "code",
      "execution_count": null,
      "metadata": {
        "colab": {
          "base_uri": "https://localhost:8080/",
          "height": 474
        },
        "id": "qiuc6unzvOs4",
        "outputId": "1da7828d-0182-46aa-9882-5633e7e15a0e"
      },
      "outputs": [
        {
          "data": {
            "image/png": "[encoded data removed]",
            "text/plain": [
              "<Figure size 640x480 with 1 Axes>"
            ]
          },
          "metadata": {},
          "output_type": "display_data"
        }
      ],
      "source": [
        "import numpy as np\n",
        "import matplotlib.pyplot as plt\n",
        "\n",
        "# 전달 함수의 영점과 극점 정의\n",
        "zeros = np.array([0, 0, -1])  # 영점: z=0 (중복 2개), z=-1\n",
        "poles = np.array([0.5 + 0.5j, 0.5 - 0.5j, 0.8])  # 극점: z=0.5+j0.5, z=0.5-j0.5, z=0.8\n",
        "\n",
        "# 플롯 설정\n",
        "#plt.figure(figsize=(8, 8))\n",
        "ax = plt.subplot(111)\n",
        "\n",
        "# 단위원 그리기\n",
        "unit_circle = plt.Circle((0, 0), 1, color='blue', fill=False, linestyle='--')\n",
        "ax.add_artist(unit_circle)\n",
        "\n",
        "# 영점 그리기\n",
        "plt.scatter(np.real(zeros), np.imag(zeros), color='green', marker='o', label='Zeros')\n",
        "for zero in zeros:\n",
        "    plt.text(np.real(zero), np.imag(zero), f'{zero:.2f}', fontsize=10, ha='right')\n",
        "\n",
        "# 극점 그리기\n",
        "plt.scatter(np.real(poles), np.imag(poles), color='red', marker='x', label='Poles')\n",
        "for pole in poles:\n",
        "    plt.text(np.real(pole), np.imag(pole), f'{pole:.2f}', fontsize=10, ha='left')\n",
        "\n",
        "# 플롯 설정\n",
        "plt.axhline(0, color='black', lw=0.5, ls='--')\n",
        "plt.axvline(0, color='black', lw=0.5, ls='--')\n",
        "plt.xlim(-2, 2)\n",
        "plt.ylim(-2, 2)\n",
        "plt.xlabel('Real Part')\n",
        "plt.ylabel('Imaginary Part')\n",
        "plt.title('Pole-Zero Plot of $H_1 (z)$')\n",
        "plt.grid()\n",
        "plt.gca().set_aspect('equal', adjustable='box')\n",
        "plt.legend()\n",
        "plt.show()\n"
      ]
    },
    {
      "cell_type": "code",
      "execution_count": null,
      "metadata": {
        "colab": {
          "base_uri": "https://localhost:8080/",
          "height": 474
        },
        "id": "cKWFqG3Fvl58",
        "outputId": "a2ddcfa5-0e36-4bca-eee3-a30ff856efe9"
      },
      "outputs": [
        {
          "data": {
            "image/png": "[encoded data removed]",
            "text/plain": [
              "<Figure size 640x480 with 1 Axes>"
            ]
          },
          "metadata": {},
          "output_type": "display_data"
        }
      ],
      "source": [
        "import numpy as np\n",
        "import matplotlib.pyplot as plt\n",
        "\n",
        "# 전달 함수의 영점과 극점 정의\n",
        "# 영점: z^3 - 1 = 0 -> z = 1, z = -0.5 + j*sqrt(3)/2, z = -0.5 - j*sqrt(3)/2\n",
        "zeros = np.array([1, -0.5 + np.sqrt(3)/2j, -0.5 - np.sqrt(3)/2j])  # z^3 - 1 = 0\n",
        "# z^2 + 1 = 0 -> z = j, z = -j\n",
        "zeros = np.concatenate((zeros, [1j, -1j]))\n",
        "\n",
        "# 극점: z^5 = 0 -> z = 0 (중복 5개)\n",
        "poles = np.array([0 + 0j] * 5)  # z=0 (중복 5개)\n",
        "\n",
        "# 플롯 설정\n",
        "#plt.figure(figsize=(8, 8))\n",
        "ax = plt.subplot(111)\n",
        "\n",
        "# 단위원 그리기\n",
        "unit_circle = plt.Circle((0, 0), 1, color='blue', fill=False, linestyle='--')\n",
        "ax.add_artist(unit_circle)\n",
        "\n",
        "# 영점 그리기\n",
        "plt.scatter(np.real(zeros), np.imag(zeros), color='green', marker='o', label='Zeros')\n",
        "for zero in zeros:\n",
        "    plt.text(np.real(zero), np.imag(zero), f'{zero:.2f}', fontsize=10, ha='left')\n",
        "\n",
        "# 극점 그리기\n",
        "plt.scatter(np.real(poles), np.imag(poles), color='red', marker='x', label='Poles')\n",
        "for pole in poles:\n",
        "    plt.text(np.real(pole), np.imag(pole), f'{pole:.2f}', fontsize=10, ha='left')\n",
        "\n",
        "# 플롯 설정\n",
        "plt.axhline(0, color='black', lw=0.5, ls='--')\n",
        "plt.axvline(0, color='black', lw=0.5, ls='--')\n",
        "plt.xlim(-2, 2)\n",
        "plt.ylim(-2, 2)\n",
        "plt.xlabel('Real Part')\n",
        "plt.ylabel('Imaginary Part')\n",
        "plt.title('Pole-Zero Plot of $H_2(z)$')\n",
        "plt.grid()\n",
        "plt.gca().set_aspect('equal', adjustable='box')\n",
        "plt.legend()\n",
        "plt.show()\n"
      ]
    },
    {
      "cell_type": "markdown",
      "metadata": {
        "id": "xJQdIswuK2Tu"
      },
      "source": [
        "#### 전달함수와 시스템의 인과성\n",
        "\n",
        "- 전달함수$H(z)$에 $z^{n_0}$의 항을 포함하면 비인과적 시스템임.\n",
        "  $y[n] = x[n+n_0] \\to H(z)=z^{n_0}$ : 미래 입력에 의해 현재 출력이 결정\n",
        "- 인과 시스템의 경우 전달함수 $$의 분자가 분모보다 고차일 수 없음.\n",
        "\n",
        "예를 들면:\n",
        "$$\n",
        "H(z) = \\frac{z^2 + 0.4z + 0.9}{z-0.6} = z + \\frac{z+0.9}{z-0.6} \\to \\text{비인과}\n",
        "$$\n"
      ]
    },
    {
      "cell_type": "markdown",
      "metadata": {
        "id": "d8LLF64EKIq0"
      },
      "source": [
        "#### 전달함수와 안정도\n",
        "\n",
        "- 인과(causal) 이산 LTI 시스템의 BIBO안정 조건:\n",
        "$$\n",
        "\\sum_{n=0}^{\\infty} |h[n]| \\lt \\infty\n",
        "$$\n",
        "- 전달함수와 BIBO 안정도 : 전달함수 극이 단위원 내에(ROC 밖에) 존재   \n",
        "  임펄스 응답 z변환은 다음과 같음.\n",
        "$$\n",
        "\\begin{align*}\n",
        "H(z) &= Z \\{ h[n] \\} = \\sum_{n=0}^{\\infty} h[n] z^{-n} \\\\\n",
        " |H(z)| &= \\left| \\sum_{n=0}^{\\infty} h[n] z^{-n}  \\right| \\le\n",
        " \\sum_{n=0}^{\\infty} |h[n]| |z^{-n}|\n",
        "\\end{align*}\n",
        "$$\n",
        "\n",
        "  전달함수의 극 $z=p_i$에서는 식의 좌변이 $\\infty$가 되므로  \n",
        "$$\n",
        "\\infty \\le \\sum_{n=0}^{\\infty} |h[n]| |P_i^{-n}|\n",
        "$$\n",
        "  만일, $|p_i| \\ge 1$이면 $|P_i^{-n}| \\le 1$이므로\n",
        "$$\n",
        "\\infty \\le \\sum_{n=0}^{\\infty} |h[n]|\n",
        "$$\n",
        "  이는 BIBO 안정조건에 부합되지 않음 $\\to \\therefore |p_i| \\lt 1$\n",
        "\n",
        "- 전달함수와 점근적 안정도 : 극이 단위원 내에(ROC 밖에) 존재   \n",
        "  점근적 안정 조건은 시스템 모드 $\\gamma_i^n$들이 $n \\to \\infty$ 에 따라 0으로 수렴해야   \n",
        "  $\\to \\gamma_i$는 측성 방정식의 근 $\\to \\therefore$ 전달함수의 극과 같음. 즉, $\\gamma_i = p_i$   \n",
        "  $\\therefore n \\to \\infty$ 에 따라 $\\gamma_i^n$이 되려면 $|p_i| \\lt 1$"
      ]
    },
    {
      "cell_type": "markdown",
      "metadata": {
        "id": "P-_pxOEUNGDI"
      },
      "source": [
        "## 8.7 전달함수(Transfer Function)와 주파수 응답의 관계\n",
        "\n",
        "### 8.7.1 극점과 영점에 대한 주파수 응답의 의존성"
      ]
    },
    {
      "cell_type": "markdown",
      "metadata": {
        "id": "fhvuqopMSiZ5"
      },
      "source": [
        "- 전달함수와 시스템의 주파수 응답\n",
        " - 주파수 응답은 전달함수를 복소평면의 단위원 $z=e^{j\\Omega}$을 따라 계산한 값을 의미함.\n",
        "$$\n",
        "H(\\Omega) = F \\{h[n] \\} = \\sum_{n=-\\infty}^{\\infty} h[n]e^{-j\\Omega n}  \\\\\n",
        "H(z) = Z \\{h[n] \\} = \\sum_{n=-\\infty}^{\\infty} h[n]e^{-n}\n",
        "$$\n",
        "<br>\n",
        "\n",
        "$$\n",
        "\\therefore H(\\Omega) = H(z) |_{z=e^{j\\Omega}}\n",
        "$$"
      ]
    },
    {
      "cell_type": "markdown",
      "metadata": {
        "id": "jJe8M00mRRWw"
      },
      "source": [
        "- 주파수 응답은 전달함수 $H(z)$의 극-영점(pole-zero) 위치에 의하여 결정됨\n",
        "$$\n",
        "H(\\Omega) = b_0 \\left.  \\frac{(z-z_1) (z-z_2) \\cdots (z-z_q)}{(z-p_1) (z-p_2) \\cdots (z-p_p)}  \\right|_{z=e^{j\\Omega}}\n",
        "$$\n",
        "<br>\n",
        "\n",
        "$$\n",
        "| H(\\Omega) |= b_0 \\left.  \\frac{|z-z_1| |z-z_2| \\cdots |z-z_q|}{ |z-p_1| |z-p_2| \\cdots |z-p_p|}  \\right|_{z=e^{j\\Omega}} = b_0 \\frac{ \\Pi_{i=1}^{q} |e^{j\\Omega} - z_i| }{ \\Pi_{i=1}^{p} |e^{j\\Omega} - p_i|  }\n",
        "= b_0 \\frac{ \\text{각 영점에서} e^{j\\Omega} \\text{까지 거리의 곱}}{ \\text{각 극점에서} e^{j\\Omega} \\text{까지 거리의 곱}}\n",
        "$$\n",
        "<br>\n",
        "\n",
        "$$\n",
        "\\angle H(\\Omega) = \\{ \\angle (z-z_1) + \\cdots + \\angle (z-z_q)\\} -\n",
        "\\{ \\angle (z-p_1) + \\cdots + \\angle (z-p_p)\\} |_{e^{j\\Omega}} \\\\\n",
        "= \\sum_{i=1}^{q} \\angle (e^{j\\Omega}-z_i) - \\sum_{i=1}^{p} \\angle (e^{j\\Omega}-p_i)  \\\\\n",
        "= [ e^{j\\Omega} \\text{에 대한 영점 각의 합} ] - [ e^{j\\Omega} \\text{에 대한 극점 각의 합} ]\n",
        "$$"
      ]
    },
    {
      "cell_type": "markdown",
      "metadata": {
        "id": "dI_jPWCOZ9yl"
      },
      "source": [
        "<br><br>\n",
        "<center>\n",
        "<img src='https://drive.google.com/uc?export=download&id=1LpK6tpNt9RQB3OlrUH72lrSOaf6BwSaF' width=\"\" height =\"\" /><br>\n",
        "\n",
        "![그림8-7: 극점과 영점에 의한 주파수 응답 계산](./images/그림8-7.png)\n",
        "\n",
        "</center>\n",
        "<br><br>"
      ]
    },
    {
      "cell_type": "markdown",
      "metadata": {
        "id": "zuQK6hYQXF9y"
      },
      "source": []
    },
    {
      "cell_type": "markdown",
      "metadata": {
        "id": "wrzSFYuEhkk9"
      },
      "source": []
    },
    {
      "cell_type": "markdown",
      "metadata": {
        "id": "roZqiEyuhkPq"
      },
      "source": []
    },
    {
      "cell_type": "markdown",
      "metadata": {
        "id": "zZLnZJE4hkCS"
      },
      "source": []
    },
    {
      "cell_type": "markdown",
      "metadata": {
        "id": "e7ZC_zSTg3Rp"
      },
      "source": [
        "#### **EX]**  주어진 전달 함수에 대한 주파수 응답 계산 프로그램\n",
        "주어진 전달 함수에 대한 주파수 응답은 전달 함수를 주파수 도메인에서 평가하여 얻을 수 있으며, 일반적으로 $H(e^{j\\Omega}) $형태로 표현됨.   \n",
        "<br>\n",
        "예를 들어, 전달 함수 $ H(z) = \\frac{(z^3 - 1)(z^2 + 1)}{z^5} $에 대해 주파수 응답을 구하는 프로그램은 다음과 같음."
      ]
    },
    {
      "cell_type": "code",
      "execution_count": null,
      "metadata": {
        "colab": {
          "base_uri": "https://localhost:8080/",
          "height": 486
        },
        "id": "kpfDlagHb_pN",
        "outputId": "ebc49bf5-d522-4753-f652-d90da8a96316"
      },
      "outputs": [
        {
          "data": {
            "image/png": "[encoded data removed]",
            "text/plain": [
              "<Figure size 640x480 with 2 Axes>"
            ]
          },
          "metadata": {},
          "output_type": "display_data"
        }
      ],
      "source": [
        "import numpy as np\n",
        "import matplotlib.pyplot as plt\n",
        "\n",
        "# 전달 함수 H(z) 정의\n",
        "def H(z):\n",
        "    return (z**3 - 1) * (z**2 + 1) / z**5\n",
        "\n",
        "# 주파수 응답 계산\n",
        "omega = np.linspace(-np.pi, np.pi, 1000)  # 주파수 범위\n",
        "z = np.exp(1j * omega)  # z = e^(jω)\n",
        "H_response = H(z)  # 전달 함수에 주파수 대입\n",
        "\n",
        "# 주파수 응답의 크기와 위상 계산\n",
        "magnitude = np.abs(H_response)\n",
        "phase = np.angle(H_response)\n",
        "\n",
        "# 플롯 설정\n",
        "#plt.figure(figsize=(12, 8))\n",
        "\n",
        "# 크기 응답 플롯\n",
        "plt.subplot(2, 1, 1)\n",
        "plt.plot(omega, 20 * np.log10(magnitude), label='Magnitude (dB)', color='blue')\n",
        "plt.title('Frequency Response of $H(z)$')\n",
        "plt.xlabel('Frequency (rad/sample)')\n",
        "plt.ylabel('Magnitude (dB)')\n",
        "plt.grid()\n",
        "plt.axhline(0, color='black', lw=0.5, ls='--')\n",
        "plt.legend()\n",
        "\n",
        "# 위상 응답 플롯\n",
        "plt.subplot(2, 1, 2)\n",
        "plt.plot(omega, phase, label='Phase (radians)', color='red')\n",
        "plt.xlabel('Frequency (rad/sample)')\n",
        "plt.ylabel('Phase (radians)')\n",
        "plt.grid()\n",
        "plt.legend()\n",
        "\n",
        "plt.tight_layout()\n",
        "plt.show()\n"
      ]
    },
    {
      "cell_type": "markdown",
      "metadata": {
        "id": "cxi1YIWqh_En"
      },
      "source": [
        "1. **주파수 응답 계산**:\n",
        "  - 주파수 범위를 $-\\pi$에서 $\\pi$까지 1000개의 점으로 설정.\n",
        "  - $z = e^{j\\Omega}$를 사용하여 주파수 응답을 계산.\n",
        "2. **크기와 위상 응답 계산**:\n",
        "  - 크기 응답은 $|H(e^{j\\Omega})| $로 계산하고, dB 스케일로 변환.\n",
        "  - 위상 응답은 $ \\angle H(e^{j\\Omega}) $로 계산."
      ]
    },
    {
      "cell_type": "markdown",
      "metadata": {
        "id": "bUrf576BiKcR"
      },
      "source": []
    },
    {
      "cell_type": "markdown",
      "metadata": {
        "id": "9sCTpXARDMZE"
      },
      "source": []
    },
    {
      "cell_type": "markdown",
      "metadata": {
        "id": "UUewW5M9DMJl"
      },
      "source": []
    },
    {
      "cell_type": "markdown",
      "metadata": {
        "id": "KstLT7ZwDL88"
      },
      "source": []
    },
    {
      "cell_type": "code",
      "source": [
        "DXL_Profile = [ [420,1640,10,20],   # Link 1\n",
        "                [700,2400,10,15],   # Link 2\n",
        "                [1500,3340,5,15],   # Link 3\n",
        "                [800,2200,10,30],   # Link 4\n",
        "                [2600,4095,10,30],  # Link 5\n",
        "                [200,1200,10,46] ]  # Link 6"
      ],
      "metadata": {
        "id": "QE_lpBajopk-"
      },
      "execution_count": null,
      "outputs": []
    },
    {
      "cell_type": "code",
      "source": [
        "DXL_Profile[0][1]"
      ],
      "metadata": {
        "colab": {
          "base_uri": "https://localhost:8080/"
        },
        "id": "WxBbq8fLoqtB",
        "outputId": "4803f938-dc39-4b5c-c47a-26d93276a196"
      },
      "execution_count": null,
      "outputs": [
        {
          "output_type": "execute_result",
          "data": {
            "text/plain": [
              "1640"
            ]
          },
          "metadata": {},
          "execution_count": 7
        }
      ]
    },
    {
      "cell_type": "code",
      "source": [
        "DXL_Profile[3][3]"
      ],
      "metadata": {
        "colab": {
          "base_uri": "https://localhost:8080/"
        },
        "id": "LuvKd0qdouvC",
        "outputId": "3fae265c-b003-4734-da5e-99504bdd2f82"
      },
      "execution_count": null,
      "outputs": [
        {
          "output_type": "execute_result",
          "data": {
            "text/plain": [
              "30"
            ]
          },
          "metadata": {},
          "execution_count": 13
        }
      ]
    }
  ],
  "metadata": {
    "colab": {
      "provenance": [],
      "toc_visible": true,
      "include_colab_link": true
    },
    "kernelspec": {
      "display_name": "base",
      "language": "python",
      "name": "python3"
    },
    "language_info": {
      "codemirror_mode": {
        "name": "ipython",
        "version": 3
      },
      "file_extension": ".py",
      "mimetype": "text/x-python",
      "name": "python",
      "nbconvert_exporter": "python",
      "pygments_lexer": "ipython3",
      "version": "3.9.18"
    }
  },
  "nbformat": 4,
  "nbformat_minor": 0
}